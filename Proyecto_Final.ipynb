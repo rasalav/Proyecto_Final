{
 "cells": [
  {
   "cell_type": "markdown",
   "metadata": {},
   "source": [
    "# PROGRAMA DE CIENCIAS DE LOS DATOS \n",
    "## **CURSO: APRENDIZAJE AUTOMÁTICO (MACHINE LEARNING)**\n",
    "## **PROYECTO FINAL**\n",
    "\n",
    "#### Profesor: MSc. Felipe Meza\n",
    "\n",
    "\n",
    "#### Alumnos: \n",
    "\n",
    "####  Lester Salazar Viales\n",
    "  \n",
    "####  Randal Salazar Viales"
   ]
  },
  {
   "cell_type": "markdown",
   "metadata": {},
   "source": [
    "### **Importación de Librerías** dentro de la Notebook para poder utilizarlas."
   ]
  },
  {
   "cell_type": "code",
   "execution_count": 1,
   "metadata": {},
   "outputs": [],
   "source": [
    "import pandas as pd\n",
    "import numpy as np\n",
    "import sklearn as sk\n",
    "from matplotlib import pyplot as plt\n",
    "from mpl_toolkits.mplot3d import Axes3D\n",
    "from matplotlib import cm\n",
    "from sklearn import preprocessing\n",
    "from sklearn.preprocessing import MinMaxScaler\n",
    "from sklearn.model_selection import train_test_split\n",
    "from sklearn.linear_model import LinearRegression\n",
    "from sklearn.tree import DecisionTreeClassifier\n",
    "from sklearn.ensemble import RandomForestClassifier\n",
    "from sklearn.neighbors import KNeighborsClassifier\n",
    "from sklearn.metrics import classification_report\n",
    "import seaborn as sns"
   ]
  },
  {
   "cell_type": "markdown",
   "metadata": {},
   "source": [
    "## <font color='red'> DATASET DE MERCADEO DE UN BANCO </font>\n",
    "\n",
    "Archivo: **<font color='blue'> bank.csv</font>**\n",
    "\n",
    "#### El conjunto de datos le brinda información sobre una campaña de marketing de una institución financiera en la que tendrá que analizar para encontrar formas de buscar estrategias futuras de mercadeo para el banco.\n",
    "\n",
    "#### Encontrar las mejores estrategias para mejorar para la próxima campaña de mercadeo. ¿Cómo puede la institución financiera tener una mayor efectividad para futuras campañas de mercadeo? \n",
    "\n",
    "#### **Objetivo**: Analizar la última campaña de mercadeo que realizó el banco e identificar los patrones que nos ayudarán a encontrar conclusiones para desarrollar estrategias futuras."
   ]
  },
  {
   "cell_type": "markdown",
   "metadata": {},
   "source": [
    "### **Conceptos Básicos:**\n",
    "\n",
    "Las campañas de mercadeo se caracterizan por centrarse en las necesidades del cliente y su satisfacción general. \n",
    "\n",
    "Existen diferentes variables que determinan si una campaña de marketing será exitosa o no. \n",
    "\n",
    "#### <font color='magenta'>Variables a tener en cuenta al hacer una campaña de mercadeo:</font>\n",
    "\n",
    "1) **<font color='magenta'>Segmento de la población**</font>: ¿A qué segmento de la población se dirigirá la campaña de marketing y por qué? \n",
    "\n",
    "Aspecto extremadamente importante en una campaña de mercadeo, ya que le dirá a qué parte de la población probablemente debería recibir el mensaje de la campaña.\n",
    "\n",
    "2)  **<font color='magenta'>Canal de distribución para llegar al lugar del cliente</font>**: implementar la estrategia más efectiva para aprovechar al máximo la campaña de mercadeo. ¿Qué segmento de la población deberíamos abordar? ¿Qué instrumento debemos usar para difundir nuestro mensaje? (Ej: teléfonos, radio, televisión, redes sociales, etc.)\n",
    "\n",
    "3) **<font color='magenta'>Precio</font>**: ¿Cuál es el mejor precio para ofrecer a clientes potenciales? (Para la campaña de mercadeo del banco, esto no es necesario ya que el interés principal del banco es que los clientes potenciales abran cuentas de depósito para que las actividades operativas del banco sigan funcionando).\n",
    "\n",
    "4) **<font color='magenta'>Estrategia promocional</font>**: esta es la forma en que se implementará la estrategia y cómo se abordarán los clientes potenciales. Esta debería ser la última parte del análisis de la campaña de mercadeo, ya que tiene que haber un análisis en profundidad de las campañas anteriores (si es posible) para aprender de los errores anteriores y determinar cómo hacer que la campaña de mercadeo sea mucho más efectiva.\n",
    "\n",
    "\n",
    "**<font color='green'>¿Qué es un depósito a plazo?</font>**\n",
    "\n",
    "Es un depósito que ofrece un banco o una institución financiera con una tasa fija (a menudo mejor que solo abrir una cuenta de depósito) en la que se le devolverá su dinero en un momento específico de vencimiento."
   ]
  },
  {
   "cell_type": "markdown",
   "metadata": {},
   "source": [
    "### A. DESCRIPCIÓN DE ATRIBUTOS:\n",
    "\n",
    "**Variables de Entrada:**\n",
    "\n",
    "#### Ai. Datos de clientes del banco:\n",
    "\n",
    "1 - **age**: (numérica)\n",
    "\n",
    "2 - **job**: tipo de trabajo (categórica: 'admin.','blue-collar','entrepreneur','housemaid','management','retired','self-    employed','services','student','technician','unemployed','unknown')\n",
    "\n",
    "3 - **marital**: estado marital (categórica: 'divorced','married','single','unknown'.\n",
    "NOTA: 'divorced' significa divorciado(a) ó viudo(a))\n",
    "\n",
    "4 - **education**: (categórica: primary, secondary, tertiary y unknown)\n",
    "\n",
    "5 - **default**: tiene crédito en incumplimiento? (categórica: 'no','yes','unknown')\n",
    "\n",
    "6 - **housing**: tiene préstamo de vivienda? (categórica: 'no','yes','unknown')\n",
    "\n",
    "7 - **loan**: tiene préstamo personal? (categórica: 'no','yes','unknown')\n",
    "\n",
    "8 - **balance**: saldo del individuo.\n",
    "\n",
    "\n",
    "#### Aii. Relacionadas con el último contacto de la actual campaña:\n",
    "\n",
    "\n",
    "8 - **contact**: tipo de comunicación del contacto (categórica: 'cellular','telephone').\n",
    "\n",
    "9 - **month**: último mes de contacto del año (categórica: 'jan', 'feb', 'mar', ..., 'nov', 'dec').\n",
    "\n",
    "10 - **day**: último día de contacto de la semana (categórica: 'mon','tue','wed','thu','fri').\n",
    "\n",
    "11 - **duration**: última duración del contacto, en segundos (numérica). \n",
    "Nota Importante: Este atributo afecta en gran medida el objetivo de salida (por ejemplo, si duration = 0, entonces y = 'no'). Sin embargo, la duración no se conoce antes de realizar una llamada (se conoce después del final de la llamada). Por lo tanto, esta entrada solo debe incluirse con fines de referencia (debe descartarse si la intención es tener un modelo predictivo realista).\n",
    "\n",
    "\n",
    "#### Aiii. Otros Atributos:\n",
    "\n",
    "12 - **campaign**: número de contactos realizados durante esta campaña para este cliente (numérica, incluye el último contacto).\n",
    "\n",
    "13 - **pdays**: cantidad de días que pasaron después de que el cliente fue contactado por última vez desde una campaña anterior (numérica; 999 significa que el cliente no fue contactado previamente).\n",
    "\n",
    "14 - **previous**: número de contactos realizados antes de esta campaña y para este cliente (numérica)\n",
    "\n",
    "15 - **poutcome**: resultado de la campaña de mercadeo anterior (categórica: 'failure','nonexistent','success')\n",
    "\n",
    "**Variable de Salida (objetivo deseado):**\n",
    "\n",
    "21 - **deposit** - ¿el cliente ha suscrito un depósito a plazo? (binaria: 'yes','no')\n",
    "\n",
    "## <font color='red'>**Clasificación Binaria:</font> <font color='blue'>deposit**</font>\n",
    "\n",
    "El dataset contiene $m=11162$ muestras u observaciones."
   ]
  },
  {
   "cell_type": "markdown",
   "metadata": {},
   "source": [
    "### B. CARGADO DE DATOS (para poder comenzar el análisis)."
   ]
  },
  {
   "cell_type": "code",
   "execution_count": 2,
   "metadata": {},
   "outputs": [],
   "source": [
    "# Ruta Web: GITHUB \n",
    "DatasetPath ='https://raw.githubusercontent.com/rasalav/Proyecto_Final/master/bank.csv'\n",
    "df = pd.read_csv(DatasetPath, sep=\",\", header=0)\n",
    "\n",
    "# Ruta PC Portátil \n",
    "#DatasetPath = 'D:\\Randal\\Ciencia_Datos\\Curso2\\Proyecto-Final_ML\\bank.csv'\n",
    "#df = pd.read_csv(DatasetPath, sep=\",\", header=0)\n",
    "\n",
    "# Ruta JUPYTER NOTEBOOK \n",
    "#DatasetPath = 'bank.csv'\n",
    "#df = pd.read_csv(DatasetPath, sep=\",\", header=0)"
   ]
  },
  {
   "cell_type": "markdown",
   "metadata": {},
   "source": [
    "### **Verificación y Revisión Parcial de Datos Cargados del DataSet**\n",
    "Objetivo del mismo: \n",
    "\n",
    "   **Conocer los datos presentes en el DataSet y poder determinar si se debe Pre-Procesar los datos**"
   ]
  },
  {
   "cell_type": "markdown",
   "metadata": {},
   "source": [
    "- #### Dimensión del Dataframe: Instancias, Atributos (filas, columnas): ####"
   ]
  },
  {
   "cell_type": "code",
   "execution_count": 3,
   "metadata": {
    "scrolled": false
   },
   "outputs": [
    {
     "data": {
      "text/plain": [
       "(11162, 17)"
      ]
     },
     "execution_count": 3,
     "metadata": {},
     "output_type": "execute_result"
    }
   ],
   "source": [
    "df.shape"
   ]
  },
  {
   "cell_type": "markdown",
   "metadata": {},
   "source": [
    "- #### Verificación de si el DataFrame está Vacío:"
   ]
  },
  {
   "cell_type": "code",
   "execution_count": 4,
   "metadata": {},
   "outputs": [
    {
     "data": {
      "text/plain": [
       "False"
      ]
     },
     "execution_count": 4,
     "metadata": {},
     "output_type": "execute_result"
    }
   ],
   "source": [
    "df.empty"
   ]
  },
  {
   "cell_type": "markdown",
   "metadata": {},
   "source": [
    "- #### Visualización de los primeros 10 datos del DataSet"
   ]
  },
  {
   "cell_type": "code",
   "execution_count": 5,
   "metadata": {},
   "outputs": [
    {
     "data": {
      "text/html": [
       "<div>\n",
       "<style scoped>\n",
       "    .dataframe tbody tr th:only-of-type {\n",
       "        vertical-align: middle;\n",
       "    }\n",
       "\n",
       "    .dataframe tbody tr th {\n",
       "        vertical-align: top;\n",
       "    }\n",
       "\n",
       "    .dataframe thead th {\n",
       "        text-align: right;\n",
       "    }\n",
       "</style>\n",
       "<table border=\"1\" class=\"dataframe\">\n",
       "  <thead>\n",
       "    <tr style=\"text-align: right;\">\n",
       "      <th></th>\n",
       "      <th>age</th>\n",
       "      <th>job</th>\n",
       "      <th>marital</th>\n",
       "      <th>education</th>\n",
       "      <th>default</th>\n",
       "      <th>balance</th>\n",
       "      <th>housing</th>\n",
       "      <th>loan</th>\n",
       "      <th>contact</th>\n",
       "      <th>day</th>\n",
       "      <th>month</th>\n",
       "      <th>duration</th>\n",
       "      <th>campaign</th>\n",
       "      <th>pdays</th>\n",
       "      <th>previous</th>\n",
       "      <th>poutcome</th>\n",
       "      <th>deposit</th>\n",
       "    </tr>\n",
       "  </thead>\n",
       "  <tbody>\n",
       "    <tr>\n",
       "      <th>0</th>\n",
       "      <td>59</td>\n",
       "      <td>admin.</td>\n",
       "      <td>married</td>\n",
       "      <td>secondary</td>\n",
       "      <td>no</td>\n",
       "      <td>2343</td>\n",
       "      <td>yes</td>\n",
       "      <td>no</td>\n",
       "      <td>unknown</td>\n",
       "      <td>5</td>\n",
       "      <td>may</td>\n",
       "      <td>1042</td>\n",
       "      <td>1</td>\n",
       "      <td>-1</td>\n",
       "      <td>0</td>\n",
       "      <td>unknown</td>\n",
       "      <td>yes</td>\n",
       "    </tr>\n",
       "    <tr>\n",
       "      <th>1</th>\n",
       "      <td>56</td>\n",
       "      <td>admin.</td>\n",
       "      <td>married</td>\n",
       "      <td>secondary</td>\n",
       "      <td>no</td>\n",
       "      <td>45</td>\n",
       "      <td>no</td>\n",
       "      <td>no</td>\n",
       "      <td>unknown</td>\n",
       "      <td>5</td>\n",
       "      <td>may</td>\n",
       "      <td>1467</td>\n",
       "      <td>1</td>\n",
       "      <td>-1</td>\n",
       "      <td>0</td>\n",
       "      <td>unknown</td>\n",
       "      <td>yes</td>\n",
       "    </tr>\n",
       "    <tr>\n",
       "      <th>2</th>\n",
       "      <td>41</td>\n",
       "      <td>technician</td>\n",
       "      <td>married</td>\n",
       "      <td>secondary</td>\n",
       "      <td>no</td>\n",
       "      <td>1270</td>\n",
       "      <td>yes</td>\n",
       "      <td>no</td>\n",
       "      <td>unknown</td>\n",
       "      <td>5</td>\n",
       "      <td>may</td>\n",
       "      <td>1389</td>\n",
       "      <td>1</td>\n",
       "      <td>-1</td>\n",
       "      <td>0</td>\n",
       "      <td>unknown</td>\n",
       "      <td>yes</td>\n",
       "    </tr>\n",
       "    <tr>\n",
       "      <th>3</th>\n",
       "      <td>55</td>\n",
       "      <td>services</td>\n",
       "      <td>married</td>\n",
       "      <td>secondary</td>\n",
       "      <td>no</td>\n",
       "      <td>2476</td>\n",
       "      <td>yes</td>\n",
       "      <td>no</td>\n",
       "      <td>unknown</td>\n",
       "      <td>5</td>\n",
       "      <td>may</td>\n",
       "      <td>579</td>\n",
       "      <td>1</td>\n",
       "      <td>-1</td>\n",
       "      <td>0</td>\n",
       "      <td>unknown</td>\n",
       "      <td>yes</td>\n",
       "    </tr>\n",
       "    <tr>\n",
       "      <th>4</th>\n",
       "      <td>54</td>\n",
       "      <td>admin.</td>\n",
       "      <td>married</td>\n",
       "      <td>tertiary</td>\n",
       "      <td>no</td>\n",
       "      <td>184</td>\n",
       "      <td>no</td>\n",
       "      <td>no</td>\n",
       "      <td>unknown</td>\n",
       "      <td>5</td>\n",
       "      <td>may</td>\n",
       "      <td>673</td>\n",
       "      <td>2</td>\n",
       "      <td>-1</td>\n",
       "      <td>0</td>\n",
       "      <td>unknown</td>\n",
       "      <td>yes</td>\n",
       "    </tr>\n",
       "    <tr>\n",
       "      <th>5</th>\n",
       "      <td>42</td>\n",
       "      <td>management</td>\n",
       "      <td>single</td>\n",
       "      <td>tertiary</td>\n",
       "      <td>no</td>\n",
       "      <td>0</td>\n",
       "      <td>yes</td>\n",
       "      <td>yes</td>\n",
       "      <td>unknown</td>\n",
       "      <td>5</td>\n",
       "      <td>may</td>\n",
       "      <td>562</td>\n",
       "      <td>2</td>\n",
       "      <td>-1</td>\n",
       "      <td>0</td>\n",
       "      <td>unknown</td>\n",
       "      <td>yes</td>\n",
       "    </tr>\n",
       "    <tr>\n",
       "      <th>6</th>\n",
       "      <td>56</td>\n",
       "      <td>management</td>\n",
       "      <td>married</td>\n",
       "      <td>tertiary</td>\n",
       "      <td>no</td>\n",
       "      <td>830</td>\n",
       "      <td>yes</td>\n",
       "      <td>yes</td>\n",
       "      <td>unknown</td>\n",
       "      <td>6</td>\n",
       "      <td>may</td>\n",
       "      <td>1201</td>\n",
       "      <td>1</td>\n",
       "      <td>-1</td>\n",
       "      <td>0</td>\n",
       "      <td>unknown</td>\n",
       "      <td>yes</td>\n",
       "    </tr>\n",
       "    <tr>\n",
       "      <th>7</th>\n",
       "      <td>60</td>\n",
       "      <td>retired</td>\n",
       "      <td>divorced</td>\n",
       "      <td>secondary</td>\n",
       "      <td>no</td>\n",
       "      <td>545</td>\n",
       "      <td>yes</td>\n",
       "      <td>no</td>\n",
       "      <td>unknown</td>\n",
       "      <td>6</td>\n",
       "      <td>may</td>\n",
       "      <td>1030</td>\n",
       "      <td>1</td>\n",
       "      <td>-1</td>\n",
       "      <td>0</td>\n",
       "      <td>unknown</td>\n",
       "      <td>yes</td>\n",
       "    </tr>\n",
       "    <tr>\n",
       "      <th>8</th>\n",
       "      <td>37</td>\n",
       "      <td>technician</td>\n",
       "      <td>married</td>\n",
       "      <td>secondary</td>\n",
       "      <td>no</td>\n",
       "      <td>1</td>\n",
       "      <td>yes</td>\n",
       "      <td>no</td>\n",
       "      <td>unknown</td>\n",
       "      <td>6</td>\n",
       "      <td>may</td>\n",
       "      <td>608</td>\n",
       "      <td>1</td>\n",
       "      <td>-1</td>\n",
       "      <td>0</td>\n",
       "      <td>unknown</td>\n",
       "      <td>yes</td>\n",
       "    </tr>\n",
       "    <tr>\n",
       "      <th>9</th>\n",
       "      <td>28</td>\n",
       "      <td>services</td>\n",
       "      <td>single</td>\n",
       "      <td>secondary</td>\n",
       "      <td>no</td>\n",
       "      <td>5090</td>\n",
       "      <td>yes</td>\n",
       "      <td>no</td>\n",
       "      <td>unknown</td>\n",
       "      <td>6</td>\n",
       "      <td>may</td>\n",
       "      <td>1297</td>\n",
       "      <td>3</td>\n",
       "      <td>-1</td>\n",
       "      <td>0</td>\n",
       "      <td>unknown</td>\n",
       "      <td>yes</td>\n",
       "    </tr>\n",
       "  </tbody>\n",
       "</table>\n",
       "</div>"
      ],
      "text/plain": [
       "   age         job   marital  education default  balance housing loan  \\\n",
       "0   59      admin.   married  secondary      no     2343     yes   no   \n",
       "1   56      admin.   married  secondary      no       45      no   no   \n",
       "2   41  technician   married  secondary      no     1270     yes   no   \n",
       "3   55    services   married  secondary      no     2476     yes   no   \n",
       "4   54      admin.   married   tertiary      no      184      no   no   \n",
       "5   42  management    single   tertiary      no        0     yes  yes   \n",
       "6   56  management   married   tertiary      no      830     yes  yes   \n",
       "7   60     retired  divorced  secondary      no      545     yes   no   \n",
       "8   37  technician   married  secondary      no        1     yes   no   \n",
       "9   28    services    single  secondary      no     5090     yes   no   \n",
       "\n",
       "   contact  day month  duration  campaign  pdays  previous poutcome deposit  \n",
       "0  unknown    5   may      1042         1     -1         0  unknown     yes  \n",
       "1  unknown    5   may      1467         1     -1         0  unknown     yes  \n",
       "2  unknown    5   may      1389         1     -1         0  unknown     yes  \n",
       "3  unknown    5   may       579         1     -1         0  unknown     yes  \n",
       "4  unknown    5   may       673         2     -1         0  unknown     yes  \n",
       "5  unknown    5   may       562         2     -1         0  unknown     yes  \n",
       "6  unknown    6   may      1201         1     -1         0  unknown     yes  \n",
       "7  unknown    6   may      1030         1     -1         0  unknown     yes  \n",
       "8  unknown    6   may       608         1     -1         0  unknown     yes  \n",
       "9  unknown    6   may      1297         3     -1         0  unknown     yes  "
      ]
     },
     "execution_count": 5,
     "metadata": {},
     "output_type": "execute_result"
    }
   ],
   "source": [
    "df.head(10)"
   ]
  },
  {
   "cell_type": "markdown",
   "metadata": {},
   "source": [
    "- #### Visualización de los últimos 10 datos del DataSet"
   ]
  },
  {
   "cell_type": "code",
   "execution_count": 6,
   "metadata": {},
   "outputs": [
    {
     "data": {
      "text/html": [
       "<div>\n",
       "<style scoped>\n",
       "    .dataframe tbody tr th:only-of-type {\n",
       "        vertical-align: middle;\n",
       "    }\n",
       "\n",
       "    .dataframe tbody tr th {\n",
       "        vertical-align: top;\n",
       "    }\n",
       "\n",
       "    .dataframe thead th {\n",
       "        text-align: right;\n",
       "    }\n",
       "</style>\n",
       "<table border=\"1\" class=\"dataframe\">\n",
       "  <thead>\n",
       "    <tr style=\"text-align: right;\">\n",
       "      <th></th>\n",
       "      <th>age</th>\n",
       "      <th>job</th>\n",
       "      <th>marital</th>\n",
       "      <th>education</th>\n",
       "      <th>default</th>\n",
       "      <th>balance</th>\n",
       "      <th>housing</th>\n",
       "      <th>loan</th>\n",
       "      <th>contact</th>\n",
       "      <th>day</th>\n",
       "      <th>month</th>\n",
       "      <th>duration</th>\n",
       "      <th>campaign</th>\n",
       "      <th>pdays</th>\n",
       "      <th>previous</th>\n",
       "      <th>poutcome</th>\n",
       "      <th>deposit</th>\n",
       "    </tr>\n",
       "  </thead>\n",
       "  <tbody>\n",
       "    <tr>\n",
       "      <th>11152</th>\n",
       "      <td>34</td>\n",
       "      <td>housemaid</td>\n",
       "      <td>married</td>\n",
       "      <td>secondary</td>\n",
       "      <td>no</td>\n",
       "      <td>390</td>\n",
       "      <td>yes</td>\n",
       "      <td>no</td>\n",
       "      <td>cellular</td>\n",
       "      <td>15</td>\n",
       "      <td>jul</td>\n",
       "      <td>659</td>\n",
       "      <td>3</td>\n",
       "      <td>-1</td>\n",
       "      <td>0</td>\n",
       "      <td>unknown</td>\n",
       "      <td>no</td>\n",
       "    </tr>\n",
       "    <tr>\n",
       "      <th>11153</th>\n",
       "      <td>43</td>\n",
       "      <td>admin.</td>\n",
       "      <td>single</td>\n",
       "      <td>secondary</td>\n",
       "      <td>no</td>\n",
       "      <td>35</td>\n",
       "      <td>no</td>\n",
       "      <td>no</td>\n",
       "      <td>telephone</td>\n",
       "      <td>9</td>\n",
       "      <td>nov</td>\n",
       "      <td>208</td>\n",
       "      <td>1</td>\n",
       "      <td>-1</td>\n",
       "      <td>0</td>\n",
       "      <td>unknown</td>\n",
       "      <td>no</td>\n",
       "    </tr>\n",
       "    <tr>\n",
       "      <th>11154</th>\n",
       "      <td>52</td>\n",
       "      <td>technician</td>\n",
       "      <td>married</td>\n",
       "      <td>tertiary</td>\n",
       "      <td>no</td>\n",
       "      <td>523</td>\n",
       "      <td>yes</td>\n",
       "      <td>yes</td>\n",
       "      <td>cellular</td>\n",
       "      <td>8</td>\n",
       "      <td>jul</td>\n",
       "      <td>113</td>\n",
       "      <td>1</td>\n",
       "      <td>-1</td>\n",
       "      <td>0</td>\n",
       "      <td>unknown</td>\n",
       "      <td>no</td>\n",
       "    </tr>\n",
       "    <tr>\n",
       "      <th>11155</th>\n",
       "      <td>35</td>\n",
       "      <td>blue-collar</td>\n",
       "      <td>married</td>\n",
       "      <td>secondary</td>\n",
       "      <td>no</td>\n",
       "      <td>80</td>\n",
       "      <td>yes</td>\n",
       "      <td>yes</td>\n",
       "      <td>cellular</td>\n",
       "      <td>21</td>\n",
       "      <td>nov</td>\n",
       "      <td>38</td>\n",
       "      <td>2</td>\n",
       "      <td>172</td>\n",
       "      <td>2</td>\n",
       "      <td>failure</td>\n",
       "      <td>no</td>\n",
       "    </tr>\n",
       "    <tr>\n",
       "      <th>11156</th>\n",
       "      <td>34</td>\n",
       "      <td>blue-collar</td>\n",
       "      <td>single</td>\n",
       "      <td>secondary</td>\n",
       "      <td>no</td>\n",
       "      <td>-72</td>\n",
       "      <td>yes</td>\n",
       "      <td>no</td>\n",
       "      <td>cellular</td>\n",
       "      <td>7</td>\n",
       "      <td>jul</td>\n",
       "      <td>273</td>\n",
       "      <td>5</td>\n",
       "      <td>-1</td>\n",
       "      <td>0</td>\n",
       "      <td>unknown</td>\n",
       "      <td>no</td>\n",
       "    </tr>\n",
       "    <tr>\n",
       "      <th>11157</th>\n",
       "      <td>33</td>\n",
       "      <td>blue-collar</td>\n",
       "      <td>single</td>\n",
       "      <td>primary</td>\n",
       "      <td>no</td>\n",
       "      <td>1</td>\n",
       "      <td>yes</td>\n",
       "      <td>no</td>\n",
       "      <td>cellular</td>\n",
       "      <td>20</td>\n",
       "      <td>apr</td>\n",
       "      <td>257</td>\n",
       "      <td>1</td>\n",
       "      <td>-1</td>\n",
       "      <td>0</td>\n",
       "      <td>unknown</td>\n",
       "      <td>no</td>\n",
       "    </tr>\n",
       "    <tr>\n",
       "      <th>11158</th>\n",
       "      <td>39</td>\n",
       "      <td>services</td>\n",
       "      <td>married</td>\n",
       "      <td>secondary</td>\n",
       "      <td>no</td>\n",
       "      <td>733</td>\n",
       "      <td>no</td>\n",
       "      <td>no</td>\n",
       "      <td>unknown</td>\n",
       "      <td>16</td>\n",
       "      <td>jun</td>\n",
       "      <td>83</td>\n",
       "      <td>4</td>\n",
       "      <td>-1</td>\n",
       "      <td>0</td>\n",
       "      <td>unknown</td>\n",
       "      <td>no</td>\n",
       "    </tr>\n",
       "    <tr>\n",
       "      <th>11159</th>\n",
       "      <td>32</td>\n",
       "      <td>technician</td>\n",
       "      <td>single</td>\n",
       "      <td>secondary</td>\n",
       "      <td>no</td>\n",
       "      <td>29</td>\n",
       "      <td>no</td>\n",
       "      <td>no</td>\n",
       "      <td>cellular</td>\n",
       "      <td>19</td>\n",
       "      <td>aug</td>\n",
       "      <td>156</td>\n",
       "      <td>2</td>\n",
       "      <td>-1</td>\n",
       "      <td>0</td>\n",
       "      <td>unknown</td>\n",
       "      <td>no</td>\n",
       "    </tr>\n",
       "    <tr>\n",
       "      <th>11160</th>\n",
       "      <td>43</td>\n",
       "      <td>technician</td>\n",
       "      <td>married</td>\n",
       "      <td>secondary</td>\n",
       "      <td>no</td>\n",
       "      <td>0</td>\n",
       "      <td>no</td>\n",
       "      <td>yes</td>\n",
       "      <td>cellular</td>\n",
       "      <td>8</td>\n",
       "      <td>may</td>\n",
       "      <td>9</td>\n",
       "      <td>2</td>\n",
       "      <td>172</td>\n",
       "      <td>5</td>\n",
       "      <td>failure</td>\n",
       "      <td>no</td>\n",
       "    </tr>\n",
       "    <tr>\n",
       "      <th>11161</th>\n",
       "      <td>34</td>\n",
       "      <td>technician</td>\n",
       "      <td>married</td>\n",
       "      <td>secondary</td>\n",
       "      <td>no</td>\n",
       "      <td>0</td>\n",
       "      <td>no</td>\n",
       "      <td>no</td>\n",
       "      <td>cellular</td>\n",
       "      <td>9</td>\n",
       "      <td>jul</td>\n",
       "      <td>628</td>\n",
       "      <td>1</td>\n",
       "      <td>-1</td>\n",
       "      <td>0</td>\n",
       "      <td>unknown</td>\n",
       "      <td>no</td>\n",
       "    </tr>\n",
       "  </tbody>\n",
       "</table>\n",
       "</div>"
      ],
      "text/plain": [
       "       age          job  marital  education default  balance housing loan  \\\n",
       "11152   34    housemaid  married  secondary      no      390     yes   no   \n",
       "11153   43       admin.   single  secondary      no       35      no   no   \n",
       "11154   52   technician  married   tertiary      no      523     yes  yes   \n",
       "11155   35  blue-collar  married  secondary      no       80     yes  yes   \n",
       "11156   34  blue-collar   single  secondary      no      -72     yes   no   \n",
       "11157   33  blue-collar   single    primary      no        1     yes   no   \n",
       "11158   39     services  married  secondary      no      733      no   no   \n",
       "11159   32   technician   single  secondary      no       29      no   no   \n",
       "11160   43   technician  married  secondary      no        0      no  yes   \n",
       "11161   34   technician  married  secondary      no        0      no   no   \n",
       "\n",
       "         contact  day month  duration  campaign  pdays  previous poutcome  \\\n",
       "11152   cellular   15   jul       659         3     -1         0  unknown   \n",
       "11153  telephone    9   nov       208         1     -1         0  unknown   \n",
       "11154   cellular    8   jul       113         1     -1         0  unknown   \n",
       "11155   cellular   21   nov        38         2    172         2  failure   \n",
       "11156   cellular    7   jul       273         5     -1         0  unknown   \n",
       "11157   cellular   20   apr       257         1     -1         0  unknown   \n",
       "11158    unknown   16   jun        83         4     -1         0  unknown   \n",
       "11159   cellular   19   aug       156         2     -1         0  unknown   \n",
       "11160   cellular    8   may         9         2    172         5  failure   \n",
       "11161   cellular    9   jul       628         1     -1         0  unknown   \n",
       "\n",
       "      deposit  \n",
       "11152      no  \n",
       "11153      no  \n",
       "11154      no  \n",
       "11155      no  \n",
       "11156      no  \n",
       "11157      no  \n",
       "11158      no  \n",
       "11159      no  \n",
       "11160      no  \n",
       "11161      no  "
      ]
     },
     "execution_count": 6,
     "metadata": {},
     "output_type": "execute_result"
    }
   ],
   "source": [
    "df.tail(10)"
   ]
  },
  {
   "cell_type": "markdown",
   "metadata": {},
   "source": [
    "- #### Tipos de datos de las columnas del DATAFRAME"
   ]
  },
  {
   "cell_type": "code",
   "execution_count": 7,
   "metadata": {},
   "outputs": [
    {
     "data": {
      "text/plain": [
       "age           int64\n",
       "job          object\n",
       "marital      object\n",
       "education    object\n",
       "default      object\n",
       "balance       int64\n",
       "housing      object\n",
       "loan         object\n",
       "contact      object\n",
       "day           int64\n",
       "month        object\n",
       "duration      int64\n",
       "campaign      int64\n",
       "pdays         int64\n",
       "previous      int64\n",
       "poutcome     object\n",
       "deposit      object\n",
       "dtype: object"
      ]
     },
     "execution_count": 7,
     "metadata": {},
     "output_type": "execute_result"
    }
   ],
   "source": [
    "df.dtypes"
   ]
  },
  {
   "cell_type": "markdown",
   "metadata": {},
   "source": [
    "Las columnas con tipo de datos **object**, indica que los datos son del tipo mixto (números + texto)"
   ]
  },
  {
   "cell_type": "markdown",
   "metadata": {},
   "source": [
    "- #### Visualización General de datos del DATAFRAME (por columnas)"
   ]
  },
  {
   "cell_type": "code",
   "execution_count": 8,
   "metadata": {
    "scrolled": true
   },
   "outputs": [
    {
     "name": "stdout",
     "output_type": "stream",
     "text": [
      "<class 'pandas.core.frame.DataFrame'>\n",
      "RangeIndex: 11162 entries, 0 to 11161\n",
      "Data columns (total 17 columns):\n",
      "age          11162 non-null int64\n",
      "job          11162 non-null object\n",
      "marital      11162 non-null object\n",
      "education    11162 non-null object\n",
      "default      11162 non-null object\n",
      "balance      11162 non-null int64\n",
      "housing      11162 non-null object\n",
      "loan         11162 non-null object\n",
      "contact      11162 non-null object\n",
      "day          11162 non-null int64\n",
      "month        11162 non-null object\n",
      "duration     11162 non-null int64\n",
      "campaign     11162 non-null int64\n",
      "pdays        11162 non-null int64\n",
      "previous     11162 non-null int64\n",
      "poutcome     11162 non-null object\n",
      "deposit      11162 non-null object\n",
      "dtypes: int64(7), object(10)\n",
      "memory usage: 1.4+ MB\n"
     ]
    }
   ],
   "source": [
    "df.info()"
   ]
  },
  {
   "cell_type": "markdown",
   "metadata": {},
   "source": [
    "- #### Cantidad de datos NO NULOS por Atributos del DATAFRAME"
   ]
  },
  {
   "cell_type": "code",
   "execution_count": 9,
   "metadata": {
    "scrolled": true
   },
   "outputs": [
    {
     "data": {
      "text/plain": [
       "age          11162\n",
       "job          11162\n",
       "marital      11162\n",
       "education    11162\n",
       "default      11162\n",
       "balance      11162\n",
       "housing      11162\n",
       "loan         11162\n",
       "contact      11162\n",
       "day          11162\n",
       "month        11162\n",
       "duration     11162\n",
       "campaign     11162\n",
       "pdays        11162\n",
       "previous     11162\n",
       "poutcome     11162\n",
       "deposit      11162\n",
       "dtype: int64"
      ]
     },
     "execution_count": 9,
     "metadata": {},
     "output_type": "execute_result"
    }
   ],
   "source": [
    "df.count()"
   ]
  },
  {
   "cell_type": "markdown",
   "metadata": {},
   "source": [
    "De los datos por columnas se aprecia que **NO Faltan Datos**.\n",
    "\n",
    "Si faltarn valores, se tendría que completar con la mediana, la media o la moda (podríamos usar la mediana, pero no hay necesidad de completar ningún valor faltante).\n"
   ]
  },
  {
   "cell_type": "markdown",
   "metadata": {},
   "source": [
    "- #### Estadísticas del DATAFRAME (para columnas con datos numéricos)"
   ]
  },
  {
   "cell_type": "code",
   "execution_count": 10,
   "metadata": {},
   "outputs": [
    {
     "data": {
      "text/html": [
       "<div>\n",
       "<style scoped>\n",
       "    .dataframe tbody tr th:only-of-type {\n",
       "        vertical-align: middle;\n",
       "    }\n",
       "\n",
       "    .dataframe tbody tr th {\n",
       "        vertical-align: top;\n",
       "    }\n",
       "\n",
       "    .dataframe thead th {\n",
       "        text-align: right;\n",
       "    }\n",
       "</style>\n",
       "<table border=\"1\" class=\"dataframe\">\n",
       "  <thead>\n",
       "    <tr style=\"text-align: right;\">\n",
       "      <th></th>\n",
       "      <th>age</th>\n",
       "      <th>balance</th>\n",
       "      <th>day</th>\n",
       "      <th>duration</th>\n",
       "      <th>campaign</th>\n",
       "      <th>pdays</th>\n",
       "      <th>previous</th>\n",
       "    </tr>\n",
       "  </thead>\n",
       "  <tbody>\n",
       "    <tr>\n",
       "      <th>count</th>\n",
       "      <td>11162.000000</td>\n",
       "      <td>11162.000000</td>\n",
       "      <td>11162.000000</td>\n",
       "      <td>11162.000000</td>\n",
       "      <td>11162.000000</td>\n",
       "      <td>11162.000000</td>\n",
       "      <td>11162.000000</td>\n",
       "    </tr>\n",
       "    <tr>\n",
       "      <th>mean</th>\n",
       "      <td>41.231948</td>\n",
       "      <td>1528.538524</td>\n",
       "      <td>15.658036</td>\n",
       "      <td>371.993818</td>\n",
       "      <td>2.508421</td>\n",
       "      <td>51.330407</td>\n",
       "      <td>0.832557</td>\n",
       "    </tr>\n",
       "    <tr>\n",
       "      <th>std</th>\n",
       "      <td>11.913369</td>\n",
       "      <td>3225.413326</td>\n",
       "      <td>8.420740</td>\n",
       "      <td>347.128386</td>\n",
       "      <td>2.722077</td>\n",
       "      <td>108.758282</td>\n",
       "      <td>2.292007</td>\n",
       "    </tr>\n",
       "    <tr>\n",
       "      <th>min</th>\n",
       "      <td>18.000000</td>\n",
       "      <td>-6847.000000</td>\n",
       "      <td>1.000000</td>\n",
       "      <td>2.000000</td>\n",
       "      <td>1.000000</td>\n",
       "      <td>-1.000000</td>\n",
       "      <td>0.000000</td>\n",
       "    </tr>\n",
       "    <tr>\n",
       "      <th>25%</th>\n",
       "      <td>32.000000</td>\n",
       "      <td>122.000000</td>\n",
       "      <td>8.000000</td>\n",
       "      <td>138.000000</td>\n",
       "      <td>1.000000</td>\n",
       "      <td>-1.000000</td>\n",
       "      <td>0.000000</td>\n",
       "    </tr>\n",
       "    <tr>\n",
       "      <th>50%</th>\n",
       "      <td>39.000000</td>\n",
       "      <td>550.000000</td>\n",
       "      <td>15.000000</td>\n",
       "      <td>255.000000</td>\n",
       "      <td>2.000000</td>\n",
       "      <td>-1.000000</td>\n",
       "      <td>0.000000</td>\n",
       "    </tr>\n",
       "    <tr>\n",
       "      <th>75%</th>\n",
       "      <td>49.000000</td>\n",
       "      <td>1708.000000</td>\n",
       "      <td>22.000000</td>\n",
       "      <td>496.000000</td>\n",
       "      <td>3.000000</td>\n",
       "      <td>20.750000</td>\n",
       "      <td>1.000000</td>\n",
       "    </tr>\n",
       "    <tr>\n",
       "      <th>max</th>\n",
       "      <td>95.000000</td>\n",
       "      <td>81204.000000</td>\n",
       "      <td>31.000000</td>\n",
       "      <td>3881.000000</td>\n",
       "      <td>63.000000</td>\n",
       "      <td>854.000000</td>\n",
       "      <td>58.000000</td>\n",
       "    </tr>\n",
       "  </tbody>\n",
       "</table>\n",
       "</div>"
      ],
      "text/plain": [
       "                age       balance           day      duration      campaign  \\\n",
       "count  11162.000000  11162.000000  11162.000000  11162.000000  11162.000000   \n",
       "mean      41.231948   1528.538524     15.658036    371.993818      2.508421   \n",
       "std       11.913369   3225.413326      8.420740    347.128386      2.722077   \n",
       "min       18.000000  -6847.000000      1.000000      2.000000      1.000000   \n",
       "25%       32.000000    122.000000      8.000000    138.000000      1.000000   \n",
       "50%       39.000000    550.000000     15.000000    255.000000      2.000000   \n",
       "75%       49.000000   1708.000000     22.000000    496.000000      3.000000   \n",
       "max       95.000000  81204.000000     31.000000   3881.000000     63.000000   \n",
       "\n",
       "              pdays      previous  \n",
       "count  11162.000000  11162.000000  \n",
       "mean      51.330407      0.832557  \n",
       "std      108.758282      2.292007  \n",
       "min       -1.000000      0.000000  \n",
       "25%       -1.000000      0.000000  \n",
       "50%       -1.000000      0.000000  \n",
       "75%       20.750000      1.000000  \n",
       "max      854.000000     58.000000  "
      ]
     },
     "execution_count": 10,
     "metadata": {},
     "output_type": "execute_result"
    }
   ],
   "source": [
    "df.describe()"
   ]
  },
  {
   "cell_type": "markdown",
   "metadata": {},
   "source": [
    "### Resumen:\n",
    "\n",
    "La Edad media es de aproximadamente 41 años. (Mínimo: 18 años y Máximo: 95 años).\n",
    "\n",
    "El saldo medio es de 1 528. La desviación estándar (estándar) es un número alto (11.91), por lo que podemos interpretar con esto que el saldo está muy distribuido en todo el conjunto de datos.\n",
    "\n",
    "Es mejor eliminar la columna **duración**, ya que la duración está altamente correlacionada en si un cliente potencial comprará un depósito a plazo. Además, la duración se obtiene después de realizar la llamada al cliente potencial, por lo que si el cliente objetivo nunca ha recibido llamadas, esta característica no es tan útil. La razón por la cual la duración está altamente correlacionada con la apertura de un depósito a plazo es porque cuanto más habla el banco con un cliente objetivo, mayor es la probabilidad de que el cliente objetivo abra un depósito a plazo, ya que una mayor duración significa un mayor interés (compromiso) del cliente potencial .\n",
    "\n",
    "Nota: No hay mucha información que podamos obtener del conjunto de datos descriptivos, **_la mayoría de datos descriptivos_** no se encuentran en las columnas \"numéricas\" sino en las \"**columnas categóricas**\"."
   ]
  },
  {
   "cell_type": "markdown",
   "metadata": {},
   "source": [
    "- #### Cambio en nombre de Atributos (columnas) para visualización más comprensible:\n",
    "\n",
    "     <font color='blue'>**Edad**</font>       = **age**\n",
    " \n",
    "     <font color='blue'>**Trabajo**</font>       = **job**\n",
    "     \n",
    "     <font color='blue'>**Marital**</font>      = **marital**\n",
    " \n",
    "     <font color='blue'>**Educacion**</font>      = **education**\n",
    " \n",
    "     <font color='blue'>**Credito_Inc**</font>     = **default**\n",
    "     \n",
    "     <font color='blue'>**Saldo**</font>     = **balance**\n",
    " \n",
    "     <font color='blue'>**Prestamo_Viv**</font>  = **housing**\n",
    " \n",
    "     <font color='blue'>**Prestamo**</font>     = **loan**\n",
    " \n",
    "     <font color='blue'>**Contacto**</font>  = **contact**\n",
    " \n",
    "     <font color='blue'>**Mes**</font> = **month**\n",
    " \n",
    "     <font color='blue'>**Dia**</font>   = **day**\n",
    " \n",
    "     <font color='blue'>**Duracion**</font>  = **duration**\n",
    "     \n",
    "     <font color='blue'>**Campana**</font>  = **campaign**\n",
    "          \n",
    "     <font color='blue'>**Dias_Prev**</font>  = **pdays**\n",
    "               \n",
    "     <font color='blue'>**Previo**</font>  = **previous**\n",
    "                    \n",
    "     <font color='blue'>**Resultado_Prev**</font>  = **poutcome**\n",
    "     \n",
    "     <font color='blue'>**Deposito**</font>  = **deposit**"
   ]
  },
  {
   "cell_type": "code",
   "execution_count": 11,
   "metadata": {},
   "outputs": [
    {
     "data": {
      "text/html": [
       "<div>\n",
       "<style scoped>\n",
       "    .dataframe tbody tr th:only-of-type {\n",
       "        vertical-align: middle;\n",
       "    }\n",
       "\n",
       "    .dataframe tbody tr th {\n",
       "        vertical-align: top;\n",
       "    }\n",
       "\n",
       "    .dataframe thead th {\n",
       "        text-align: right;\n",
       "    }\n",
       "</style>\n",
       "<table border=\"1\" class=\"dataframe\">\n",
       "  <thead>\n",
       "    <tr style=\"text-align: right;\">\n",
       "      <th></th>\n",
       "      <th>Edad</th>\n",
       "      <th>Trabajo</th>\n",
       "      <th>Marital</th>\n",
       "      <th>Educacion</th>\n",
       "      <th>Credito_Inc</th>\n",
       "      <th>Saldo</th>\n",
       "      <th>Prestamo_Viv</th>\n",
       "      <th>Prestamo</th>\n",
       "      <th>Contacto</th>\n",
       "      <th>Dia</th>\n",
       "      <th>Mes</th>\n",
       "      <th>Duracion</th>\n",
       "      <th>Campana</th>\n",
       "      <th>Dias_Prev</th>\n",
       "      <th>Previo</th>\n",
       "      <th>Resultado_Prev</th>\n",
       "      <th>Deposito</th>\n",
       "    </tr>\n",
       "  </thead>\n",
       "  <tbody>\n",
       "    <tr>\n",
       "      <th>0</th>\n",
       "      <td>59</td>\n",
       "      <td>admin.</td>\n",
       "      <td>married</td>\n",
       "      <td>secondary</td>\n",
       "      <td>no</td>\n",
       "      <td>2343</td>\n",
       "      <td>yes</td>\n",
       "      <td>no</td>\n",
       "      <td>unknown</td>\n",
       "      <td>5</td>\n",
       "      <td>may</td>\n",
       "      <td>1042</td>\n",
       "      <td>1</td>\n",
       "      <td>-1</td>\n",
       "      <td>0</td>\n",
       "      <td>unknown</td>\n",
       "      <td>yes</td>\n",
       "    </tr>\n",
       "    <tr>\n",
       "      <th>1</th>\n",
       "      <td>56</td>\n",
       "      <td>admin.</td>\n",
       "      <td>married</td>\n",
       "      <td>secondary</td>\n",
       "      <td>no</td>\n",
       "      <td>45</td>\n",
       "      <td>no</td>\n",
       "      <td>no</td>\n",
       "      <td>unknown</td>\n",
       "      <td>5</td>\n",
       "      <td>may</td>\n",
       "      <td>1467</td>\n",
       "      <td>1</td>\n",
       "      <td>-1</td>\n",
       "      <td>0</td>\n",
       "      <td>unknown</td>\n",
       "      <td>yes</td>\n",
       "    </tr>\n",
       "    <tr>\n",
       "      <th>2</th>\n",
       "      <td>41</td>\n",
       "      <td>technician</td>\n",
       "      <td>married</td>\n",
       "      <td>secondary</td>\n",
       "      <td>no</td>\n",
       "      <td>1270</td>\n",
       "      <td>yes</td>\n",
       "      <td>no</td>\n",
       "      <td>unknown</td>\n",
       "      <td>5</td>\n",
       "      <td>may</td>\n",
       "      <td>1389</td>\n",
       "      <td>1</td>\n",
       "      <td>-1</td>\n",
       "      <td>0</td>\n",
       "      <td>unknown</td>\n",
       "      <td>yes</td>\n",
       "    </tr>\n",
       "    <tr>\n",
       "      <th>3</th>\n",
       "      <td>55</td>\n",
       "      <td>services</td>\n",
       "      <td>married</td>\n",
       "      <td>secondary</td>\n",
       "      <td>no</td>\n",
       "      <td>2476</td>\n",
       "      <td>yes</td>\n",
       "      <td>no</td>\n",
       "      <td>unknown</td>\n",
       "      <td>5</td>\n",
       "      <td>may</td>\n",
       "      <td>579</td>\n",
       "      <td>1</td>\n",
       "      <td>-1</td>\n",
       "      <td>0</td>\n",
       "      <td>unknown</td>\n",
       "      <td>yes</td>\n",
       "    </tr>\n",
       "    <tr>\n",
       "      <th>4</th>\n",
       "      <td>54</td>\n",
       "      <td>admin.</td>\n",
       "      <td>married</td>\n",
       "      <td>tertiary</td>\n",
       "      <td>no</td>\n",
       "      <td>184</td>\n",
       "      <td>no</td>\n",
       "      <td>no</td>\n",
       "      <td>unknown</td>\n",
       "      <td>5</td>\n",
       "      <td>may</td>\n",
       "      <td>673</td>\n",
       "      <td>2</td>\n",
       "      <td>-1</td>\n",
       "      <td>0</td>\n",
       "      <td>unknown</td>\n",
       "      <td>yes</td>\n",
       "    </tr>\n",
       "    <tr>\n",
       "      <th>5</th>\n",
       "      <td>42</td>\n",
       "      <td>management</td>\n",
       "      <td>single</td>\n",
       "      <td>tertiary</td>\n",
       "      <td>no</td>\n",
       "      <td>0</td>\n",
       "      <td>yes</td>\n",
       "      <td>yes</td>\n",
       "      <td>unknown</td>\n",
       "      <td>5</td>\n",
       "      <td>may</td>\n",
       "      <td>562</td>\n",
       "      <td>2</td>\n",
       "      <td>-1</td>\n",
       "      <td>0</td>\n",
       "      <td>unknown</td>\n",
       "      <td>yes</td>\n",
       "    </tr>\n",
       "    <tr>\n",
       "      <th>6</th>\n",
       "      <td>56</td>\n",
       "      <td>management</td>\n",
       "      <td>married</td>\n",
       "      <td>tertiary</td>\n",
       "      <td>no</td>\n",
       "      <td>830</td>\n",
       "      <td>yes</td>\n",
       "      <td>yes</td>\n",
       "      <td>unknown</td>\n",
       "      <td>6</td>\n",
       "      <td>may</td>\n",
       "      <td>1201</td>\n",
       "      <td>1</td>\n",
       "      <td>-1</td>\n",
       "      <td>0</td>\n",
       "      <td>unknown</td>\n",
       "      <td>yes</td>\n",
       "    </tr>\n",
       "    <tr>\n",
       "      <th>7</th>\n",
       "      <td>60</td>\n",
       "      <td>retired</td>\n",
       "      <td>divorced</td>\n",
       "      <td>secondary</td>\n",
       "      <td>no</td>\n",
       "      <td>545</td>\n",
       "      <td>yes</td>\n",
       "      <td>no</td>\n",
       "      <td>unknown</td>\n",
       "      <td>6</td>\n",
       "      <td>may</td>\n",
       "      <td>1030</td>\n",
       "      <td>1</td>\n",
       "      <td>-1</td>\n",
       "      <td>0</td>\n",
       "      <td>unknown</td>\n",
       "      <td>yes</td>\n",
       "    </tr>\n",
       "    <tr>\n",
       "      <th>8</th>\n",
       "      <td>37</td>\n",
       "      <td>technician</td>\n",
       "      <td>married</td>\n",
       "      <td>secondary</td>\n",
       "      <td>no</td>\n",
       "      <td>1</td>\n",
       "      <td>yes</td>\n",
       "      <td>no</td>\n",
       "      <td>unknown</td>\n",
       "      <td>6</td>\n",
       "      <td>may</td>\n",
       "      <td>608</td>\n",
       "      <td>1</td>\n",
       "      <td>-1</td>\n",
       "      <td>0</td>\n",
       "      <td>unknown</td>\n",
       "      <td>yes</td>\n",
       "    </tr>\n",
       "    <tr>\n",
       "      <th>9</th>\n",
       "      <td>28</td>\n",
       "      <td>services</td>\n",
       "      <td>single</td>\n",
       "      <td>secondary</td>\n",
       "      <td>no</td>\n",
       "      <td>5090</td>\n",
       "      <td>yes</td>\n",
       "      <td>no</td>\n",
       "      <td>unknown</td>\n",
       "      <td>6</td>\n",
       "      <td>may</td>\n",
       "      <td>1297</td>\n",
       "      <td>3</td>\n",
       "      <td>-1</td>\n",
       "      <td>0</td>\n",
       "      <td>unknown</td>\n",
       "      <td>yes</td>\n",
       "    </tr>\n",
       "  </tbody>\n",
       "</table>\n",
       "</div>"
      ],
      "text/plain": [
       "   Edad     Trabajo   Marital  Educacion Credito_Inc  Saldo Prestamo_Viv  \\\n",
       "0    59      admin.   married  secondary          no   2343          yes   \n",
       "1    56      admin.   married  secondary          no     45           no   \n",
       "2    41  technician   married  secondary          no   1270          yes   \n",
       "3    55    services   married  secondary          no   2476          yes   \n",
       "4    54      admin.   married   tertiary          no    184           no   \n",
       "5    42  management    single   tertiary          no      0          yes   \n",
       "6    56  management   married   tertiary          no    830          yes   \n",
       "7    60     retired  divorced  secondary          no    545          yes   \n",
       "8    37  technician   married  secondary          no      1          yes   \n",
       "9    28    services    single  secondary          no   5090          yes   \n",
       "\n",
       "  Prestamo Contacto  Dia  Mes  Duracion  Campana  Dias_Prev  Previo  \\\n",
       "0       no  unknown    5  may      1042        1         -1       0   \n",
       "1       no  unknown    5  may      1467        1         -1       0   \n",
       "2       no  unknown    5  may      1389        1         -1       0   \n",
       "3       no  unknown    5  may       579        1         -1       0   \n",
       "4       no  unknown    5  may       673        2         -1       0   \n",
       "5      yes  unknown    5  may       562        2         -1       0   \n",
       "6      yes  unknown    6  may      1201        1         -1       0   \n",
       "7       no  unknown    6  may      1030        1         -1       0   \n",
       "8       no  unknown    6  may       608        1         -1       0   \n",
       "9       no  unknown    6  may      1297        3         -1       0   \n",
       "\n",
       "  Resultado_Prev Deposito  \n",
       "0        unknown      yes  \n",
       "1        unknown      yes  \n",
       "2        unknown      yes  \n",
       "3        unknown      yes  \n",
       "4        unknown      yes  \n",
       "5        unknown      yes  \n",
       "6        unknown      yes  \n",
       "7        unknown      yes  \n",
       "8        unknown      yes  \n",
       "9        unknown      yes  "
      ]
     },
     "execution_count": 11,
     "metadata": {},
     "output_type": "execute_result"
    }
   ],
   "source": [
    "df_new = df.rename({'age':'Edad', 'job':'Trabajo', 'marital':'Marital', 'education':'Educacion', 'default':'Credito_Inc',\n",
    "                    'balance':'Saldo', 'housing':'Prestamo_Viv', 'loan':'Prestamo', 'contact':'Contacto', 'month':'Mes',\n",
    "                    'day':'Dia', 'duration':'Duracion', 'campaign':'Campana', 'pdays':'Dias_Prev', 'previous':'Previo',\n",
    "                    'poutcome':'Resultado_Prev', 'deposit':'Deposito'}, axis = 'columns')\n",
    "df_new.head(10)"
   ]
  },
  {
   "cell_type": "markdown",
   "metadata": {},
   "source": [
    "## **a) PRE-PROCESADO DE DATOS**"
   ]
  },
  {
   "cell_type": "markdown",
   "metadata": {},
   "source": [
    "### **a1) Análisis Exploratorio de los Datos (EDA)**"
   ]
  },
  {
   "cell_type": "markdown",
   "metadata": {},
   "source": [
    "#### **a1.1) Visualización de datos del Dataset**"
   ]
  },
  {
   "cell_type": "markdown",
   "metadata": {},
   "source": [
    "**- Valores de los datos ÚNICOS que componen las columnas que NO son numéricas:**"
   ]
  },
  {
   "cell_type": "markdown",
   "metadata": {},
   "source": [
    "**Atributo: Trabajo**"
   ]
  },
  {
   "cell_type": "code",
   "execution_count": 12,
   "metadata": {},
   "outputs": [
    {
     "name": "stdout",
     "output_type": "stream",
     "text": [
      "Datos únicos que conforman la columna \"Trabajo\": \n",
      " \n",
      "['admin.' 'technician' 'services' 'management' 'retired' 'blue-collar'\n",
      " 'unemployed' 'entrepreneur' 'housemaid' 'unknown' 'self-employed'\n",
      " 'student']\n",
      " \n",
      "Cantidad de Datos únicos columna \"Trabajo\": \n"
     ]
    },
    {
     "data": {
      "text/plain": [
       "12"
      ]
     },
     "execution_count": 12,
     "metadata": {},
     "output_type": "execute_result"
    }
   ],
   "source": [
    "print('Datos únicos que conforman la columna \"Trabajo\": ')\n",
    "print(' ')\n",
    "print(pd.unique(df_new['Trabajo']))\n",
    "print (' ')\n",
    "print('Cantidad de Datos únicos columna \"Trabajo\": ')\n",
    "len(pd.unique(df_new['Trabajo']))"
   ]
  },
  {
   "cell_type": "code",
   "execution_count": 13,
   "metadata": {},
   "outputs": [
    {
     "data": {
      "image/png": "[encoded data removed]",
      "text/plain": [
       "<Figure size 432x288 with 1 Axes>"
      ]
     },
     "metadata": {
      "needs_background": "light"
     },
     "output_type": "display_data"
    },
    {
     "data": {
      "image/png": "[encoded data removed]",
      "text/plain": [
       "<Figure size 432x288 with 1 Axes>"
      ]
     },
     "metadata": {},
     "output_type": "display_data"
    }
   ],
   "source": [
    "fig = plt.figure('Gráfica de barras') \n",
    "ax = fig.add_subplot(111) # \n",
    "plt.suptitle('Información por Tipos de Trabajo', fontsize=20)\n",
    "\n",
    "vals = df_new['Trabajo'].value_counts().tolist()\n",
    "glabels = ['admin', 'blue-collar', 'entrepreneur','housemaid','management','retired','self-employed','services','student','technician','unemployed','unknow']\n",
    "\n",
    "xx = range(len(vals))\n",
    "\n",
    "ax.bar(xx, vals, width=0.8, align='center')\n",
    "ax.set_xticks(xx)\n",
    "ax.set_xticklabels(glabels)\n",
    "\n",
    "plt.show()\n",
    "\n",
    "sizes = (df_new['Trabajo'].value_counts()/df_new.shape[0])*100\n",
    "\n",
    "\n",
    "fig1, ax1 = plt.subplots()\n",
    "ax1.pie(sizes, labels=glabels, autopct='%1.1f%%',\n",
    "        shadow=True, startangle=90)\n",
    "ax1.axis('equal')  \n",
    "plt.suptitle('Tipos de Trabajo (%)', fontsize=20)\n",
    "plt.show()"
   ]
  },
  {
   "cell_type": "markdown",
   "metadata": {},
   "source": [
    "**Atributo: Marital**"
   ]
  },
  {
   "cell_type": "code",
   "execution_count": 14,
   "metadata": {},
   "outputs": [
    {
     "name": "stdout",
     "output_type": "stream",
     "text": [
      "Datos únicos que conforman la columna \"Marital\": \n",
      " \n",
      "['married' 'single' 'divorced']\n",
      " \n",
      "Cantidad de Datos únicos columna \"Marital\": \n"
     ]
    },
    {
     "data": {
      "text/plain": [
       "3"
      ]
     },
     "execution_count": 14,
     "metadata": {},
     "output_type": "execute_result"
    }
   ],
   "source": [
    "print('Datos únicos que conforman la columna \"Marital\": ')\n",
    "print (' ')\n",
    "print(pd.unique(df_new['Marital']))\n",
    "print (' ')\n",
    "print('Cantidad de Datos únicos columna \"Marital\": ')\n",
    "len(pd.unique(df_new['Marital']))"
   ]
  },
  {
   "cell_type": "code",
   "execution_count": 15,
   "metadata": {},
   "outputs": [
    {
     "data": {
      "image/png": "[encoded data removed]",
      "text/plain": [
       "<Figure size 432x288 with 1 Axes>"
      ]
     },
     "metadata": {
      "needs_background": "light"
     },
     "output_type": "display_data"
    },
    {
     "data": {
      "image/png": "[encoded data removed]",
      "text/plain": [
       "<Figure size 432x288 with 1 Axes>"
      ]
     },
     "metadata": {},
     "output_type": "display_data"
    }
   ],
   "source": [
    "fig = plt.figure('Gráfica de barras') \n",
    "ax = fig.add_subplot(111) # \n",
    "plt.suptitle('Información por Estado Marital', fontsize=20)\n",
    "\n",
    "vals = df_new['Marital'].value_counts().tolist()\n",
    "glabels = ['Casado', 'Divorciado', 'Soltero']\n",
    "\n",
    "xx = range(len(vals))\n",
    "\n",
    "ax.bar(xx, vals, width=0.8, align='center')\n",
    "ax.set_xticks(xx)\n",
    "ax.set_xticklabels(glabels)\n",
    "\n",
    "plt.show()\n",
    "\n",
    "\n",
    "(df_new['Marital'].value_counts()/df_new.shape[0])*100\n",
    "\n",
    "glabels = ['Casado', 'Divorciado', 'Soltero']\n",
    "sizes = (df_new['Marital'].value_counts()/df_new.shape[0])*100\n",
    "\n",
    "\n",
    "fig1, ax1 = plt.subplots()\n",
    "ax1.pie(sizes, labels=glabels, autopct='%1.1f%%',\n",
    "        shadow=True, startangle=90)\n",
    "ax1.axis('equal')  \n",
    "plt.suptitle('Estado Marital (%)', fontsize=20)\n",
    "plt.show()"
   ]
  },
  {
   "cell_type": "markdown",
   "metadata": {},
   "source": [
    "**Atributo: Educacion**"
   ]
  },
  {
   "cell_type": "code",
   "execution_count": 16,
   "metadata": {},
   "outputs": [
    {
     "name": "stdout",
     "output_type": "stream",
     "text": [
      "Datos únicos que conforman la columna \"Educacion\": \n",
      " \n",
      "['secondary' 'tertiary' 'primary' 'unknown']\n",
      " \n",
      "Cantidad de Datos únicos columna \"Educacion\": \n"
     ]
    },
    {
     "data": {
      "text/plain": [
       "4"
      ]
     },
     "execution_count": 16,
     "metadata": {},
     "output_type": "execute_result"
    }
   ],
   "source": [
    "print('Datos únicos que conforman la columna \"Educacion\": ')\n",
    "print(' ')\n",
    "print(pd.unique(df_new['Educacion']))\n",
    "print (' ')\n",
    "print('Cantidad de Datos únicos columna \"Educacion\": ')\n",
    "len(pd.unique(df_new['Educacion']))"
   ]
  },
  {
   "cell_type": "code",
   "execution_count": 17,
   "metadata": {},
   "outputs": [
    {
     "data": {
      "image/png": "[encoded data removed]",
      "text/plain": [
       "<Figure size 1152x576 with 2 Axes>"
      ]
     },
     "metadata": {
      "needs_background": "light"
     },
     "output_type": "display_data"
    }
   ],
   "source": [
    "f, ax = plt.subplots(1,2, figsize=(16,8))\n",
    "\n",
    "colors = ['lightcoral', 'greenyellow']\n",
    "labels =\"No Apertura Certificado\", \"Apertura Certificado\"\n",
    "\n",
    "plt.suptitle('Información sobre Depósitos a Plazo', fontsize=20)\n",
    "\n",
    "df_new['Deposito'].value_counts().plot.pie(explode=[0,0.25], autopct='%1.2f%%', ax=ax[0], shadow=True, colors=colors, \n",
    "                                             labels=labels, fontsize=12, startangle=30)\n",
    "\n",
    "\n",
    "# ax[0].set_title('State of Loan', fontsize=16)\n",
    "ax[0].set_ylabel('% de Personas con Prestamo', fontsize=14)\n",
    "\n",
    "# sns.countplot('loan_condition', data=df, ax=ax[1], palette=colors)\n",
    "# ax[1].set_title('Condition of Loans', fontsize=20)\n",
    "# ax[1].set_xticklabels(['Good', 'Bad'], rotation='horizontal')\n",
    "palette = ['lightcoral', 'greenyellow']\n",
    "\n",
    "sns.barplot(x=\"Educacion\", y=\"Saldo\", hue=\"Deposito\", data=df_new, palette=palette, estimator=lambda x: len(x) / len(df_new) * 100)\n",
    "ax[1].set(ylabel=\"(%)\")\n",
    "ax[1].set_xticklabels(df_new['Educacion'].unique(), rotation=0, rotation_mode=\"anchor\")\n",
    "plt.show()"
   ]
  },
  {
   "cell_type": "markdown",
   "metadata": {},
   "source": [
    "**Atributo: Credito_Inc**"
   ]
  },
  {
   "cell_type": "code",
   "execution_count": 18,
   "metadata": {},
   "outputs": [
    {
     "name": "stdout",
     "output_type": "stream",
     "text": [
      "Datos únicos que conforman la columna \"Credito_Inc\": \n",
      " \n",
      "['no' 'yes']\n",
      " \n",
      "Cantidad de Datos únicos columna \"Credito_Inc\": \n"
     ]
    },
    {
     "data": {
      "text/plain": [
       "2"
      ]
     },
     "execution_count": 18,
     "metadata": {},
     "output_type": "execute_result"
    }
   ],
   "source": [
    "print('Datos únicos que conforman la columna \"Credito_Inc\": ')\n",
    "print(' ')\n",
    "print(pd.unique(df_new['Credito_Inc']))\n",
    "print (' ')\n",
    "print('Cantidad de Datos únicos columna \"Credito_Inc\": ')\n",
    "len(pd.unique(df_new['Credito_Inc']))"
   ]
  },
  {
   "cell_type": "code",
   "execution_count": 19,
   "metadata": {},
   "outputs": [
    {
     "data": {
      "image/png": "[encoded data removed]",
      "text/plain": [
       "<Figure size 432x288 with 1 Axes>"
      ]
     },
     "metadata": {},
     "output_type": "display_data"
    },
    {
     "data": {
      "image/png": "[encoded data removed]",
      "text/plain": [
       "<Figure size 432x288 with 1 Axes>"
      ]
     },
     "metadata": {
      "needs_background": "light"
     },
     "output_type": "display_data"
    }
   ],
   "source": [
    "glabels = ['No', 'Si']\n",
    "\n",
    "sizes = (df_new['Credito_Inc'].value_counts()/df_new.shape[0])*100\n",
    "\n",
    "\n",
    "fig1, ax1 = plt.subplots()\n",
    "ax1.pie(sizes, labels=glabels, autopct='%1.1f%%',\n",
    "        shadow=True, startangle=90)\n",
    "ax1.axis('equal')  \n",
    "plt.suptitle('Incumplimiento de Créditos (%)', fontsize=20)\n",
    "plt.show()\n",
    "\n",
    "fig = plt.figure('Gráfica de barras') \n",
    "ax = fig.add_subplot(111) # \n",
    "plt.suptitle('Información de Incumplimiento de Créditos', fontsize=20)\n",
    "\n",
    "vals = df_new['Credito_Inc'].value_counts().tolist()\n",
    "glabels = ['No', 'Si']\n",
    "\n",
    "xx = range(len(vals))\n",
    "\n",
    "ax.bar(xx, vals, width=0.8, align='center')\n",
    "ax.set_xticks(xx)\n",
    "ax.set_xticklabels(glabels)\n",
    "\n",
    "plt.show()"
   ]
  },
  {
   "cell_type": "markdown",
   "metadata": {},
   "source": [
    "Este atributo **<font color='red'>NO REQUIERE SER TRATADO COMO ONE HOT ENCODE**</font>, pero debe cambiarse sus valores como **DATOS BINARIOS (0 - 1)**"
   ]
  },
  {
   "cell_type": "markdown",
   "metadata": {},
   "source": [
    "**Atributo: Prestamo_Viv**"
   ]
  },
  {
   "cell_type": "code",
   "execution_count": 20,
   "metadata": {},
   "outputs": [
    {
     "name": "stdout",
     "output_type": "stream",
     "text": [
      "Datos únicos que conforman la columna \"Prestamo_Viv\": \n",
      " \n",
      "['yes' 'no']\n",
      " \n",
      "Cantidad de Datos únicos columna \"Prestamo_Viv\": \n"
     ]
    },
    {
     "data": {
      "text/plain": [
       "2"
      ]
     },
     "execution_count": 20,
     "metadata": {},
     "output_type": "execute_result"
    }
   ],
   "source": [
    "print('Datos únicos que conforman la columna \"Prestamo_Viv\": ')\n",
    "print(' ')\n",
    "print(pd.unique(df_new['Prestamo_Viv']))\n",
    "print (' ')\n",
    "print('Cantidad de Datos únicos columna \"Prestamo_Viv\": ')\n",
    "len(pd.unique(df_new['Prestamo_Viv']))"
   ]
  },
  {
   "cell_type": "code",
   "execution_count": 21,
   "metadata": {},
   "outputs": [
    {
     "data": {
      "image/png": "[encoded data removed]",
      "text/plain": [
       "<Figure size 432x288 with 1 Axes>"
      ]
     },
     "metadata": {},
     "output_type": "display_data"
    },
    {
     "data": {
      "image/png": "[encoded data removed]",
      "text/plain": [
       "<Figure size 432x288 with 1 Axes>"
      ]
     },
     "metadata": {
      "needs_background": "light"
     },
     "output_type": "display_data"
    }
   ],
   "source": [
    "glabels = ['No', 'Si']\n",
    "\n",
    "sizes = (df_new['Prestamo_Viv'].value_counts()/df_new.shape[0])*100\n",
    "\n",
    "\n",
    "fig1, ax1 = plt.subplots()\n",
    "ax1.pie(sizes, labels=glabels, autopct='%1.1f%%',\n",
    "        shadow=True, startangle=90)\n",
    "ax1.axis('equal')  \n",
    "plt.suptitle('Préstamos de Vivienda (%)', fontsize=20)\n",
    "plt.show()\n",
    "\n",
    "fig = plt.figure('Gráfica de barras') \n",
    "ax = fig.add_subplot(111) # \n",
    "plt.suptitle('Información de Préstamos de Vivienda', fontsize=20)\n",
    "\n",
    "vals = df_new['Prestamo_Viv'].value_counts().tolist()\n",
    "glabels = ['No', 'Si']\n",
    "\n",
    "xx = range(len(vals))\n",
    "\n",
    "ax.bar(xx, vals, width=0.8, align='center')\n",
    "ax.set_xticks(xx)\n",
    "ax.set_xticklabels(glabels)\n",
    "\n",
    "plt.show()"
   ]
  },
  {
   "cell_type": "markdown",
   "metadata": {},
   "source": [
    "Este atributo **<font color='red'>NO REQUIERE SER TRATADO COMO ONE HOT ENCODE**</font>, pero debe cambiarse sus valores como **DATOS BINARIOS (0 - 1)**"
   ]
  },
  {
   "cell_type": "markdown",
   "metadata": {},
   "source": [
    "**Atributo: Prestamo**"
   ]
  },
  {
   "cell_type": "code",
   "execution_count": 22,
   "metadata": {},
   "outputs": [
    {
     "name": "stdout",
     "output_type": "stream",
     "text": [
      "Datos únicos que conforman la columna \"Prestamo\": \n",
      " \n",
      "['no' 'yes']\n",
      " \n",
      "Cantidad de Datos únicos columna \"Prestamo\": \n"
     ]
    },
    {
     "data": {
      "text/plain": [
       "2"
      ]
     },
     "execution_count": 22,
     "metadata": {},
     "output_type": "execute_result"
    }
   ],
   "source": [
    "print('Datos únicos que conforman la columna \"Prestamo\": ')\n",
    "print(' ')\n",
    "print(pd.unique(df_new['Prestamo']))\n",
    "print (' ')\n",
    "print('Cantidad de Datos únicos columna \"Prestamo\": ')\n",
    "len(pd.unique(df_new['Prestamo']))"
   ]
  },
  {
   "cell_type": "code",
   "execution_count": 23,
   "metadata": {},
   "outputs": [
    {
     "data": {
      "image/png": "[encoded data removed]",
      "text/plain": [
       "<Figure size 432x288 with 1 Axes>"
      ]
     },
     "metadata": {
      "needs_background": "light"
     },
     "output_type": "display_data"
    },
    {
     "data": {
      "image/png": "[encoded data removed]",
      "text/plain": [
       "<Figure size 432x288 with 1 Axes>"
      ]
     },
     "metadata": {},
     "output_type": "display_data"
    }
   ],
   "source": [
    "fig = plt.figure('Gráfica de barras') \n",
    "ax = fig.add_subplot(111) # \n",
    "plt.suptitle('Información por Préstamos Personales', fontsize=20)\n",
    "\n",
    "vals = df_new['Prestamo'].value_counts().tolist()\n",
    "glabels = ['no', 'yes']\n",
    "\n",
    "xx = range(len(vals))\n",
    "\n",
    "ax.bar(xx, vals, width=0.8, align='center')\n",
    "ax.set_xticks(xx)\n",
    "ax.set_xticklabels(glabels)\n",
    "\n",
    "plt.show()\n",
    "\n",
    "glabels = ['No', 'Si']\n",
    "\n",
    "sizes = (df_new['Prestamo'].value_counts()/df_new.shape[0])*100\n",
    "\n",
    "\n",
    "fig1, ax1 = plt.subplots()\n",
    "ax1.pie(sizes, labels=glabels, autopct='%1.1f%%',\n",
    "        shadow=True, startangle=90)\n",
    "ax1.axis('equal')  \n",
    "plt.suptitle('Créditos Personales (%)', fontsize=20)\n",
    "plt.show()"
   ]
  },
  {
   "cell_type": "markdown",
   "metadata": {},
   "source": [
    "Este atributo **<font color='red'>NO REQUIERE SER TRATADO COMO ONE HOT ENCODE**</font>, pero debe cambiarse sus valores como **DATOS BINARIOS (0 - 1)**"
   ]
  },
  {
   "cell_type": "markdown",
   "metadata": {},
   "source": [
    "**Atributo: Contacto**"
   ]
  },
  {
   "cell_type": "code",
   "execution_count": 24,
   "metadata": {},
   "outputs": [
    {
     "name": "stdout",
     "output_type": "stream",
     "text": [
      "Datos únicos que conforman la columna \"Contacto\": \n",
      " \n",
      "['unknown' 'cellular' 'telephone']\n",
      " \n",
      "Cantidad de Datos únicos columna \"Contacto\": \n"
     ]
    },
    {
     "data": {
      "text/plain": [
       "3"
      ]
     },
     "execution_count": 24,
     "metadata": {},
     "output_type": "execute_result"
    }
   ],
   "source": [
    "print('Datos únicos que conforman la columna \"Contacto\": ')\n",
    "print(' ')\n",
    "print(pd.unique(df_new['Contacto']))\n",
    "print (' ')\n",
    "print('Cantidad de Datos únicos columna \"Contacto\": ')\n",
    "len(pd.unique(df_new['Contacto']))"
   ]
  },
  {
   "cell_type": "code",
   "execution_count": 25,
   "metadata": {},
   "outputs": [
    {
     "data": {
      "image/png": "[encoded data removed]",
      "text/plain": [
       "<Figure size 432x288 with 1 Axes>"
      ]
     },
     "metadata": {
      "needs_background": "light"
     },
     "output_type": "display_data"
    },
    {
     "data": {
      "image/png": "[encoded data removed]",
      "text/plain": [
       "<Figure size 432x288 with 1 Axes>"
      ]
     },
     "metadata": {},
     "output_type": "display_data"
    }
   ],
   "source": [
    "fig = plt.figure('Gráfica de barras') \n",
    "ax = fig.add_subplot(111) # \n",
    "plt.suptitle('Tipo de Contacto empleado con los Clientes', fontsize=20)\n",
    "\n",
    "vals = df_new['Contacto'].value_counts().tolist()\n",
    "glabels = ['unknown', 'cellular', 'telephone']\n",
    "\n",
    "xx = range(len(vals))\n",
    "\n",
    "ax.bar(xx, vals, width=0.8, align='center')\n",
    "ax.set_xticks(xx)\n",
    "ax.set_xticklabels(glabels)\n",
    "\n",
    "plt.show()\n",
    "\n",
    "glabels = ['unknown', 'cellular', 'telephone']\n",
    "\n",
    "sizes = (df_new['Contacto'].value_counts()/df_new.shape[0])*100\n",
    "\n",
    "\n",
    "fig1, ax1 = plt.subplots()\n",
    "ax1.pie(sizes, labels=glabels, autopct='%1.1f%%',\n",
    "        shadow=True, startangle=90)\n",
    "ax1.axis('equal')  \n",
    "plt.suptitle('Intentos de Contactar a una Persona (%)', fontsize=20)\n",
    "plt.show()"
   ]
  },
  {
   "cell_type": "markdown",
   "metadata": {},
   "source": [
    "**Atributo: Resultado_Prev**"
   ]
  },
  {
   "cell_type": "code",
   "execution_count": 26,
   "metadata": {},
   "outputs": [
    {
     "name": "stdout",
     "output_type": "stream",
     "text": [
      "Datos únicos que conforman la columna \"Resultado_Prev\": \n",
      " \n",
      "['unknown' 'other' 'failure' 'success']\n",
      " \n",
      "Cantidad de Datos únicos columna \"Resultado_Prev\": \n"
     ]
    },
    {
     "data": {
      "text/plain": [
       "4"
      ]
     },
     "execution_count": 26,
     "metadata": {},
     "output_type": "execute_result"
    }
   ],
   "source": [
    "print('Datos únicos que conforman la columna \"Resultado_Prev\": ')\n",
    "print(' ')\n",
    "print(pd.unique(df_new['Resultado_Prev']))\n",
    "print (' ')\n",
    "print('Cantidad de Datos únicos columna \"Resultado_Prev\": ')\n",
    "len(pd.unique(df_new['Resultado_Prev']))"
   ]
  },
  {
   "cell_type": "code",
   "execution_count": 27,
   "metadata": {},
   "outputs": [
    {
     "data": {
      "image/png": "[encoded data removed]",
      "text/plain": [
       "<Figure size 432x288 with 1 Axes>"
      ]
     },
     "metadata": {
      "needs_background": "light"
     },
     "output_type": "display_data"
    },
    {
     "data": {
      "image/png": "[encoded data removed]",
      "text/plain": [
       "<Figure size 432x288 with 1 Axes>"
      ]
     },
     "metadata": {},
     "output_type": "display_data"
    }
   ],
   "source": [
    "fig = plt.figure('Gráfica de barras') \n",
    "ax = fig.add_subplot(111) # \n",
    "plt.suptitle('Tipo de Resultado Previo al ubicar Certificados', fontsize=20)\n",
    "\n",
    "vals = df_new['Resultado_Prev'].value_counts().tolist()\n",
    "glabels = ['unknown', 'other', 'failure','success']\n",
    "\n",
    "xx = range(len(vals))\n",
    "\n",
    "ax.bar(xx, vals, width=0.8, align='center')\n",
    "ax.set_xticks(xx)\n",
    "ax.set_xticklabels(glabels)\n",
    "\n",
    "plt.show()\n",
    "\n",
    "glabels = ['unknown', 'other', 'failure','success']\n",
    "\n",
    "sizes = (df_new['Resultado_Prev'].value_counts()/df_new.shape[0])*100\n",
    "\n",
    "\n",
    "fig1, ax1 = plt.subplots()\n",
    "ax1.pie(sizes, labels=glabels, autopct='%1.1f%%',\n",
    "        shadow=True, startangle=90)\n",
    "ax1.axis('equal')  \n",
    "plt.suptitle('Resultados Previos Colocación de Certificados (%)', fontsize=20)\n",
    "plt.show()"
   ]
  },
  {
   "cell_type": "markdown",
   "metadata": {},
   "source": [
    "**Label: Deposito**"
   ]
  },
  {
   "cell_type": "code",
   "execution_count": 28,
   "metadata": {},
   "outputs": [
    {
     "name": "stdout",
     "output_type": "stream",
     "text": [
      "Datos únicos que conforman la columna \"Deposito\": \n",
      " \n",
      "['yes' 'no']\n",
      " \n",
      "Cantidad de Datos únicos columna \"Deposito\": \n"
     ]
    },
    {
     "data": {
      "text/plain": [
       "2"
      ]
     },
     "execution_count": 28,
     "metadata": {},
     "output_type": "execute_result"
    }
   ],
   "source": [
    "print('Datos únicos que conforman la columna \"Deposito\": ')\n",
    "print(' ')\n",
    "print(pd.unique(df_new['Deposito']))\n",
    "print (' ')\n",
    "print('Cantidad de Datos únicos columna \"Deposito\": ')\n",
    "len(pd.unique(df_new['Deposito']))"
   ]
  },
  {
   "cell_type": "markdown",
   "metadata": {},
   "source": [
    "Este atributo **<font color='red'>NO REQUIERE SER TRATADO COMO ONE HOT ENCODE**</font>, pero debe cambiarse sus valores como **DATOS BINARIOS (0 - 1)**"
   ]
  },
  {
   "cell_type": "markdown",
   "metadata": {},
   "source": [
    "### **a2) Valores Faltantes de datos del Dataset**"
   ]
  },
  {
   "cell_type": "markdown",
   "metadata": {},
   "source": [
    "- Total de datos por columnas en el DATAFRAME:"
   ]
  },
  {
   "cell_type": "code",
   "execution_count": 29,
   "metadata": {},
   "outputs": [
    {
     "data": {
      "text/plain": [
       "Edad              11162\n",
       "Trabajo           11162\n",
       "Marital           11162\n",
       "Educacion         11162\n",
       "Credito_Inc       11162\n",
       "Saldo             11162\n",
       "Prestamo_Viv      11162\n",
       "Prestamo          11162\n",
       "Contacto          11162\n",
       "Dia               11162\n",
       "Mes               11162\n",
       "Duracion          11162\n",
       "Campana           11162\n",
       "Dias_Prev         11162\n",
       "Previo            11162\n",
       "Resultado_Prev    11162\n",
       "Deposito          11162\n",
       "dtype: int64"
      ]
     },
     "execution_count": 29,
     "metadata": {},
     "output_type": "execute_result"
    }
   ],
   "source": [
    "df_new.count()"
   ]
  },
  {
   "cell_type": "markdown",
   "metadata": {},
   "source": [
    "- Total de datos nulos por columnas en el DATAFRAME:"
   ]
  },
  {
   "cell_type": "code",
   "execution_count": 30,
   "metadata": {},
   "outputs": [
    {
     "data": {
      "text/plain": [
       "Edad              0\n",
       "Trabajo           0\n",
       "Marital           0\n",
       "Educacion         0\n",
       "Credito_Inc       0\n",
       "Saldo             0\n",
       "Prestamo_Viv      0\n",
       "Prestamo          0\n",
       "Contacto          0\n",
       "Dia               0\n",
       "Mes               0\n",
       "Duracion          0\n",
       "Campana           0\n",
       "Dias_Prev         0\n",
       "Previo            0\n",
       "Resultado_Prev    0\n",
       "Deposito          0\n",
       "dtype: int64"
      ]
     },
     "execution_count": 30,
     "metadata": {},
     "output_type": "execute_result"
    }
   ],
   "source": [
    "df_new.isnull().sum()"
   ]
  },
  {
   "cell_type": "markdown",
   "metadata": {},
   "source": [
    "- Validación de la existencia de datos Nulos en el DataSet"
   ]
  },
  {
   "cell_type": "code",
   "execution_count": 31,
   "metadata": {},
   "outputs": [
    {
     "data": {
      "text/plain": [
       "False"
      ]
     },
     "execution_count": 31,
     "metadata": {},
     "output_type": "execute_result"
    }
   ],
   "source": [
    "df_new.isnull().values.any()"
   ]
  },
  {
   "cell_type": "markdown",
   "metadata": {},
   "source": [
    "Resultado de Verificación Datos Faltantes: **DataSet COMPLETO (NO EXISTEN VALORES FALTANTES)**"
   ]
  },
  {
   "cell_type": "markdown",
   "metadata": {},
   "source": [
    "### **a3) Outliers (Datos fuera de los valores normales)**"
   ]
  },
  {
   "cell_type": "markdown",
   "metadata": {},
   "source": [
    "Existen valores del atributo Saldo que son **negativos**, los cuales podrían ser tomados como datos utliers (fuera de los valores normales)."
   ]
  },
  {
   "cell_type": "code",
   "execution_count": 32,
   "metadata": {
    "scrolled": true
   },
   "outputs": [
    {
     "data": {
      "text/plain": [
       "688"
      ]
     },
     "execution_count": 32,
     "metadata": {},
     "output_type": "execute_result"
    }
   ],
   "source": [
    "df_new[df_new['Saldo'] < 0]['Saldo'].count()"
   ]
  },
  {
   "cell_type": "markdown",
   "metadata": {},
   "source": [
    "Aunque existan 688 valores con **Saldo** en cuenta con valores negativos en las personas encuestadas, no pueden tomarse estos \n",
    "valores como si fueran datos outliers, debido a que esta condición puede presentarse en la vida real. Esto puede ocurrir cuando la persona se encarga de servir de fiador a otra persona y esta deja de asumir su responsabilidad de pago, en este momento, el fiador puede llegar a presentar problemas de pago que produzcan que su saldo (balance) llegue a ser negativo.\n",
    "\n",
    "Basándose en la **naturaleza de estos datos**, estos valores pueden llegar a presentarse en la vida real."
   ]
  },
  {
   "cell_type": "markdown",
   "metadata": {},
   "source": [
    "Por este motivo, se decide mantener como **valores válidos en el análisis**.\n",
    "\n",
    "Lo que se efectuará, es un pequeño análisis de lo que ocurriría si se decidiera remover los datos usando desviación estándar."
   ]
  },
  {
   "cell_type": "markdown",
   "metadata": {},
   "source": [
    "**Atributo: Saldo**"
   ]
  },
  {
   "cell_type": "markdown",
   "metadata": {},
   "source": [
    "- Cálculo de datos de **Atributo Saldo** dentro de (mean + 2${ \\sigma }$) y (mean - 2${ \\sigma }$)"
   ]
  },
  {
   "cell_type": "code",
   "execution_count": 33,
   "metadata": {
    "scrolled": true
   },
   "outputs": [
    {
     "name": "stdout",
     "output_type": "stream",
     "text": [
      "Cantidad de datos dentro de +- 2 sigma    :  10818\n",
      "Cantidad de datos dentro de +- 2 sigma (%):  96.91811503314818\n"
     ]
    }
   ],
   "source": [
    "final_list = []\n",
    "final_list = [x for x in df_new['Saldo'] if (x > df_new['Saldo'].mean() - 2 * df_new['Saldo'].std())]\n",
    "final_list = [x for x in final_list if (x < df_new['Saldo'].mean() + 2 * df_new['Saldo'].std())]\n",
    "print('Cantidad de datos dentro de +- 2 sigma    : ', len(final_list))\n",
    "print('Cantidad de datos dentro de +- 2 sigma (%): ', (len(final_list)/df_new.shape[0])*100)"
   ]
  },
  {
   "cell_type": "markdown",
   "metadata": {},
   "source": [
    "Si nos basáramos en el criterio anterior y se decidiera mantener solamente los datos dentro de (mean + 2${ \\sigma }$) y (mean - 2${ \\sigma }$); de los supuestos datos outliers del atributo **saldo** quedarían :"
   ]
  },
  {
   "cell_type": "code",
   "execution_count": 34,
   "metadata": {
    "scrolled": true
   },
   "outputs": [
    {
     "name": "stdout",
     "output_type": "stream",
     "text": [
      "687\n"
     ]
    }
   ],
   "source": [
    "final_list = [x for x in final_list if (x < 0)]\n",
    "print(len(final_list))"
   ]
  },
  {
   "cell_type": "markdown",
   "metadata": {},
   "source": [
    "Lo anterior confirma que estos datos se encuentran dentro de mean +- 2${ \\sigma }$, debido a que solamente se eliminaría un dato de ellos."
   ]
  },
  {
   "cell_type": "code",
   "execution_count": 35,
   "metadata": {
    "scrolled": true
   },
   "outputs": [
    {
     "name": "stdout",
     "output_type": "stream",
     "text": [
      "Cantidad de datos de atributo Saldo que se eliminarían si se empleara la regla: mean +- 2 sigma \n"
     ]
    },
    {
     "data": {
      "text/plain": [
       "1"
      ]
     },
     "execution_count": 35,
     "metadata": {},
     "output_type": "execute_result"
    }
   ],
   "source": [
    "print('Cantidad de datos de atributo Saldo que se eliminarían si se empleara la regla: mean +- 2 sigma ')\n",
    "df_new[df_new['Saldo'] < 0]['Saldo'].count() - len(final_list)"
   ]
  },
  {
   "cell_type": "markdown",
   "metadata": {},
   "source": [
    "- Cálculo de datos de **Atributo Saldo** dentro de (mean + 3${ \\sigma }$) y (mean - 3${ \\sigma }$)"
   ]
  },
  {
   "cell_type": "code",
   "execution_count": 36,
   "metadata": {
    "scrolled": true
   },
   "outputs": [
    {
     "name": "stdout",
     "output_type": "stream",
     "text": [
      "Cantidad de datos dentro de +- 3 sigma    :  10989\n",
      "Cantidad de datos dentro de +- 3 sigma (%):  98.45009854864719\n"
     ]
    }
   ],
   "source": [
    "final_list = []\n",
    "final_list = [x for x in df_new['Saldo'] if (x > df_new['Saldo'].mean() - 3 * df_new['Saldo'].std())]\n",
    "final_list = [x for x in final_list if (x < df_new['Saldo'].mean() + 3 * df_new['Saldo'].std())]\n",
    "print('Cantidad de datos dentro de +- 3 sigma    : ', len(final_list))\n",
    "print('Cantidad de datos dentro de +- 3 sigma (%): ', (len(final_list)/df_new.shape[0])*100)"
   ]
  },
  {
   "cell_type": "markdown",
   "metadata": {},
   "source": [
    "Si nos basáramos en lo anterior, de los supuestos datos outliers del atributo saldo quedarían :"
   ]
  },
  {
   "cell_type": "code",
   "execution_count": 37,
   "metadata": {
    "scrolled": true
   },
   "outputs": [
    {
     "name": "stdout",
     "output_type": "stream",
     "text": [
      "688\n"
     ]
    }
   ],
   "source": [
    "final_list = [x for x in final_list if (x < 0)]\n",
    "print(len(final_list))"
   ]
  },
  {
   "cell_type": "markdown",
   "metadata": {},
   "source": [
    "Lo anterior confirma que estos datos TODOS dentro del criterio mean +- 3${ \\sigma }$, debido a que **TODOS QUEDAN DENTRO DE ESTE ÁMBITO**"
   ]
  },
  {
   "cell_type": "code",
   "execution_count": 38,
   "metadata": {
    "scrolled": false
   },
   "outputs": [
    {
     "name": "stdout",
     "output_type": "stream",
     "text": [
      "Cantidad de datos de atributo Saldo que se eliminarían si se empleara la regla: mean +- 3 sigma \n"
     ]
    },
    {
     "data": {
      "text/plain": [
       "0"
      ]
     },
     "execution_count": 38,
     "metadata": {},
     "output_type": "execute_result"
    }
   ],
   "source": [
    "print('Cantidad de datos de atributo Saldo que se eliminarían si se empleara la regla: mean +- 3 sigma ')\n",
    "df_new[df_new['Saldo'] < 0]['Saldo'].count() - len(final_list)"
   ]
  },
  {
   "cell_type": "markdown",
   "metadata": {},
   "source": [
    "### **a4) Datos No - Balanceados del Dataset**"
   ]
  },
  {
   "cell_type": "markdown",
   "metadata": {},
   "source": [
    "Como citerio importante, debemos verificar que se tenga una cantidad de datos similar entre los datos de la <font color='red'>**CLASE**</font> que se desea predecir (**atributo Deposito**). \n",
    "\n",
    "Algunos Clasificadores de Aprendizaje Automático no lidian muy bien con datasets de entrenamiento desbalanceados ya que son sensibles a las proporciones de las diferentes clases. Como consecuencia, estos algoritmos tienden a favorecer la clase con la mayor proporción de observaciones (conocida como clase mayoritaria), lo cual puede derivar en métricas de exactitud sesgadas. Esto puede ser particularmente problemático cuando estamos interesados en la clasificación correcta de una clase “rara” (también conocida como clase minoritaria) pero encontramos altos valores de exactitud que son producto realmente de la clasificación correcta de la clase mayoritaria y por tanto son un reflejo de la distribución de clases subyacente."
   ]
  },
  {
   "cell_type": "markdown",
   "metadata": {},
   "source": [
    "**Verificación de datos Balanceados de columna <font color='red'>CLASE (Atributo Deposito)</font>**"
   ]
  },
  {
   "cell_type": "markdown",
   "metadata": {},
   "source": [
    "- **Cantidad de datos para cada clase a predecir**"
   ]
  },
  {
   "cell_type": "code",
   "execution_count": 39,
   "metadata": {
    "scrolled": true
   },
   "outputs": [
    {
     "data": {
      "text/plain": [
       "no     5873\n",
       "yes    5289\n",
       "Name: Deposito, dtype: int64"
      ]
     },
     "execution_count": 39,
     "metadata": {},
     "output_type": "execute_result"
    }
   ],
   "source": [
    "(df_new['Deposito'].value_counts())"
   ]
  },
  {
   "cell_type": "markdown",
   "metadata": {},
   "source": [
    "- **Porcentaje de datos para cada clase a predecir**"
   ]
  },
  {
   "cell_type": "code",
   "execution_count": 40,
   "metadata": {
    "scrolled": true
   },
   "outputs": [
    {
     "data": {
      "text/plain": [
       "no     52.616019\n",
       "yes    47.383981\n",
       "Name: Deposito, dtype: float64"
      ]
     },
     "execution_count": 40,
     "metadata": {},
     "output_type": "execute_result"
    }
   ],
   "source": [
    "(df_new['Deposito'].value_counts()/df_new.shape[0])*100"
   ]
  },
  {
   "cell_type": "markdown",
   "metadata": {},
   "source": [
    "Resumen de datos columna **CLASE (Atributo Deposito)**:"
   ]
  },
  {
   "cell_type": "markdown",
   "metadata": {},
   "source": [
    "Deposito | Total Datos | Porcentaje\n",
    "------------ | ------------- | ------------- |\n",
    "yes | 5289 | 47,38% | \n",
    "no | 5873 | 52,62% | "
   ]
  },
  {
   "cell_type": "markdown",
   "metadata": {},
   "source": [
    "Existe una diferencia de un 5% entre datos (584 datos). Por tanto, los datos a predecir **ESTAN BALANCEADOS**."
   ]
  },
  {
   "cell_type": "markdown",
   "metadata": {},
   "source": [
    "- **Cantidad de datos por variables de otros Atributos**"
   ]
  },
  {
   "cell_type": "markdown",
   "metadata": {},
   "source": [
    "- **Atributo Trabajo**"
   ]
  },
  {
   "cell_type": "markdown",
   "metadata": {},
   "source": [
    "**Datos por tipo de Trabajo:**"
   ]
  },
  {
   "cell_type": "code",
   "execution_count": 41,
   "metadata": {
    "scrolled": true
   },
   "outputs": [
    {
     "data": {
      "text/plain": [
       "management       2566\n",
       "blue-collar      1944\n",
       "technician       1823\n",
       "admin.           1334\n",
       "services          923\n",
       "retired           778\n",
       "self-employed     405\n",
       "student           360\n",
       "unemployed        357\n",
       "entrepreneur      328\n",
       "housemaid         274\n",
       "unknown            70\n",
       "Name: Trabajo, dtype: int64"
      ]
     },
     "execution_count": 41,
     "metadata": {},
     "output_type": "execute_result"
    }
   ],
   "source": [
    "df_new['Trabajo'].value_counts()"
   ]
  },
  {
   "cell_type": "markdown",
   "metadata": {},
   "source": [
    "**Porcentaje de datos por tipo de Trabajo:**"
   ]
  },
  {
   "cell_type": "code",
   "execution_count": 42,
   "metadata": {
    "scrolled": true
   },
   "outputs": [
    {
     "data": {
      "text/plain": [
       "management       22.988712\n",
       "blue-collar      17.416234\n",
       "technician       16.332199\n",
       "admin.           11.951263\n",
       "services          8.269127\n",
       "retired           6.970077\n",
       "self-employed     3.628382\n",
       "student           3.225228\n",
       "unemployed        3.198352\n",
       "entrepreneur      2.938541\n",
       "housemaid         2.454757\n",
       "unknown           0.627128\n",
       "Name: Trabajo, dtype: float64"
      ]
     },
     "execution_count": 42,
     "metadata": {},
     "output_type": "execute_result"
    }
   ],
   "source": [
    "(df_new['Trabajo'].value_counts()/df_new.shape[0])*100"
   ]
  },
  {
   "cell_type": "markdown",
   "metadata": {},
   "source": [
    "- **Atributo Educacion**"
   ]
  },
  {
   "cell_type": "markdown",
   "metadata": {},
   "source": [
    "**Porcentaje de datos por tipo de Educacion de los encuestados:**"
   ]
  },
  {
   "cell_type": "code",
   "execution_count": 43,
   "metadata": {
    "scrolled": true
   },
   "outputs": [
    {
     "data": {
      "text/plain": [
       "secondary    49.059308\n",
       "tertiary     33.049633\n",
       "primary      13.438452\n",
       "unknown       4.452607\n",
       "Name: Educacion, dtype: float64"
      ]
     },
     "execution_count": 43,
     "metadata": {},
     "output_type": "execute_result"
    }
   ],
   "source": [
    "(df_new['Educacion'].value_counts()/df_new.shape[0])*100"
   ]
  },
  {
   "cell_type": "markdown",
   "metadata": {},
   "source": [
    "- **Atributo Marital**"
   ]
  },
  {
   "cell_type": "markdown",
   "metadata": {},
   "source": [
    "**Porcentaje de datos de acuerdo al estado Marital:**"
   ]
  },
  {
   "cell_type": "code",
   "execution_count": 44,
   "metadata": {
    "scrolled": true
   },
   "outputs": [
    {
     "data": {
      "text/plain": [
       "married     56.898405\n",
       "single      31.517649\n",
       "divorced    11.583946\n",
       "Name: Marital, dtype: float64"
      ]
     },
     "execution_count": 44,
     "metadata": {},
     "output_type": "execute_result"
    }
   ],
   "source": [
    "(df_new['Marital'].value_counts()/df_new.shape[0])*100"
   ]
  },
  {
   "cell_type": "markdown",
   "metadata": {},
   "source": [
    "### **a5) Transformación de datos del Dataset**"
   ]
  },
  {
   "cell_type": "markdown",
   "metadata": {},
   "source": [
    "##### a5.1) Variables categóricas (DATOS BINARIOS)\n",
    "\n",
    "Del conjunto de datos se identifican las siguientes variables categoricas a convertir en datos binarios:\n",
    "\n",
    "**Credito_Inc (Atributo)**\n",
    "\n",
    "**Prestamo_Viv (Atributo)**\n",
    "\n",
    "**Prestamo (Atributo)**\n",
    "\n",
    "**Deposito (Clase)**\n",
    "\n",
    "Para todo los casos, la convención a utilizar será:\n",
    "\n",
    "**<font color='blue'>yes</font>** = <font color='blue'>1</font>\n",
    "\n",
    "**<font color='blue'>no</font>** = <font color='blue'>0</font>"
   ]
  },
  {
   "cell_type": "markdown",
   "metadata": {},
   "source": [
    "* **Atributo: Credito_Inc**"
   ]
  },
  {
   "cell_type": "code",
   "execution_count": 45,
   "metadata": {},
   "outputs": [],
   "source": [
    "df_new['Credito_Inc'] = df_new['Credito_Inc'].replace({'no' : 0, 'yes' : 1})"
   ]
  },
  {
   "cell_type": "markdown",
   "metadata": {},
   "source": [
    "* **Atributo: Prestamo_Viv**"
   ]
  },
  {
   "cell_type": "code",
   "execution_count": 46,
   "metadata": {},
   "outputs": [],
   "source": [
    "df_new['Prestamo_Viv'] = df_new['Prestamo_Viv'].replace({'no' : 0, 'yes' : 1})"
   ]
  },
  {
   "cell_type": "markdown",
   "metadata": {},
   "source": [
    "* **Atributo: Prestamo**"
   ]
  },
  {
   "cell_type": "code",
   "execution_count": 47,
   "metadata": {},
   "outputs": [],
   "source": [
    "df_new['Prestamo'] = df_new['Prestamo'].replace({'no' : 0, 'yes' : 1})"
   ]
  },
  {
   "cell_type": "markdown",
   "metadata": {},
   "source": [
    "* **Clase: Deposito**"
   ]
  },
  {
   "cell_type": "code",
   "execution_count": 48,
   "metadata": {},
   "outputs": [],
   "source": [
    "deposito  = [\"no\", \"yes\"]\n",
    "df_new['Deposito'] = df_new['Deposito'].replace({deposito[0] : 0, deposito[1] : 1})"
   ]
  },
  {
   "cell_type": "markdown",
   "metadata": {},
   "source": [
    "##### Visualización del dataset con cambios de variables cateógicas (datos binarios):"
   ]
  },
  {
   "cell_type": "code",
   "execution_count": 49,
   "metadata": {},
   "outputs": [
    {
     "data": {
      "text/html": [
       "<div>\n",
       "<style scoped>\n",
       "    .dataframe tbody tr th:only-of-type {\n",
       "        vertical-align: middle;\n",
       "    }\n",
       "\n",
       "    .dataframe tbody tr th {\n",
       "        vertical-align: top;\n",
       "    }\n",
       "\n",
       "    .dataframe thead th {\n",
       "        text-align: right;\n",
       "    }\n",
       "</style>\n",
       "<table border=\"1\" class=\"dataframe\">\n",
       "  <thead>\n",
       "    <tr style=\"text-align: right;\">\n",
       "      <th></th>\n",
       "      <th>Edad</th>\n",
       "      <th>Trabajo</th>\n",
       "      <th>Marital</th>\n",
       "      <th>Educacion</th>\n",
       "      <th>Credito_Inc</th>\n",
       "      <th>Saldo</th>\n",
       "      <th>Prestamo_Viv</th>\n",
       "      <th>Prestamo</th>\n",
       "      <th>Contacto</th>\n",
       "      <th>Dia</th>\n",
       "      <th>Mes</th>\n",
       "      <th>Duracion</th>\n",
       "      <th>Campana</th>\n",
       "      <th>Dias_Prev</th>\n",
       "      <th>Previo</th>\n",
       "      <th>Resultado_Prev</th>\n",
       "      <th>Deposito</th>\n",
       "    </tr>\n",
       "  </thead>\n",
       "  <tbody>\n",
       "    <tr>\n",
       "      <th>0</th>\n",
       "      <td>59</td>\n",
       "      <td>admin.</td>\n",
       "      <td>married</td>\n",
       "      <td>secondary</td>\n",
       "      <td>0</td>\n",
       "      <td>2343</td>\n",
       "      <td>1</td>\n",
       "      <td>0</td>\n",
       "      <td>unknown</td>\n",
       "      <td>5</td>\n",
       "      <td>may</td>\n",
       "      <td>1042</td>\n",
       "      <td>1</td>\n",
       "      <td>-1</td>\n",
       "      <td>0</td>\n",
       "      <td>unknown</td>\n",
       "      <td>1</td>\n",
       "    </tr>\n",
       "    <tr>\n",
       "      <th>1</th>\n",
       "      <td>56</td>\n",
       "      <td>admin.</td>\n",
       "      <td>married</td>\n",
       "      <td>secondary</td>\n",
       "      <td>0</td>\n",
       "      <td>45</td>\n",
       "      <td>0</td>\n",
       "      <td>0</td>\n",
       "      <td>unknown</td>\n",
       "      <td>5</td>\n",
       "      <td>may</td>\n",
       "      <td>1467</td>\n",
       "      <td>1</td>\n",
       "      <td>-1</td>\n",
       "      <td>0</td>\n",
       "      <td>unknown</td>\n",
       "      <td>1</td>\n",
       "    </tr>\n",
       "    <tr>\n",
       "      <th>2</th>\n",
       "      <td>41</td>\n",
       "      <td>technician</td>\n",
       "      <td>married</td>\n",
       "      <td>secondary</td>\n",
       "      <td>0</td>\n",
       "      <td>1270</td>\n",
       "      <td>1</td>\n",
       "      <td>0</td>\n",
       "      <td>unknown</td>\n",
       "      <td>5</td>\n",
       "      <td>may</td>\n",
       "      <td>1389</td>\n",
       "      <td>1</td>\n",
       "      <td>-1</td>\n",
       "      <td>0</td>\n",
       "      <td>unknown</td>\n",
       "      <td>1</td>\n",
       "    </tr>\n",
       "    <tr>\n",
       "      <th>3</th>\n",
       "      <td>55</td>\n",
       "      <td>services</td>\n",
       "      <td>married</td>\n",
       "      <td>secondary</td>\n",
       "      <td>0</td>\n",
       "      <td>2476</td>\n",
       "      <td>1</td>\n",
       "      <td>0</td>\n",
       "      <td>unknown</td>\n",
       "      <td>5</td>\n",
       "      <td>may</td>\n",
       "      <td>579</td>\n",
       "      <td>1</td>\n",
       "      <td>-1</td>\n",
       "      <td>0</td>\n",
       "      <td>unknown</td>\n",
       "      <td>1</td>\n",
       "    </tr>\n",
       "    <tr>\n",
       "      <th>4</th>\n",
       "      <td>54</td>\n",
       "      <td>admin.</td>\n",
       "      <td>married</td>\n",
       "      <td>tertiary</td>\n",
       "      <td>0</td>\n",
       "      <td>184</td>\n",
       "      <td>0</td>\n",
       "      <td>0</td>\n",
       "      <td>unknown</td>\n",
       "      <td>5</td>\n",
       "      <td>may</td>\n",
       "      <td>673</td>\n",
       "      <td>2</td>\n",
       "      <td>-1</td>\n",
       "      <td>0</td>\n",
       "      <td>unknown</td>\n",
       "      <td>1</td>\n",
       "    </tr>\n",
       "    <tr>\n",
       "      <th>5</th>\n",
       "      <td>42</td>\n",
       "      <td>management</td>\n",
       "      <td>single</td>\n",
       "      <td>tertiary</td>\n",
       "      <td>0</td>\n",
       "      <td>0</td>\n",
       "      <td>1</td>\n",
       "      <td>1</td>\n",
       "      <td>unknown</td>\n",
       "      <td>5</td>\n",
       "      <td>may</td>\n",
       "      <td>562</td>\n",
       "      <td>2</td>\n",
       "      <td>-1</td>\n",
       "      <td>0</td>\n",
       "      <td>unknown</td>\n",
       "      <td>1</td>\n",
       "    </tr>\n",
       "    <tr>\n",
       "      <th>6</th>\n",
       "      <td>56</td>\n",
       "      <td>management</td>\n",
       "      <td>married</td>\n",
       "      <td>tertiary</td>\n",
       "      <td>0</td>\n",
       "      <td>830</td>\n",
       "      <td>1</td>\n",
       "      <td>1</td>\n",
       "      <td>unknown</td>\n",
       "      <td>6</td>\n",
       "      <td>may</td>\n",
       "      <td>1201</td>\n",
       "      <td>1</td>\n",
       "      <td>-1</td>\n",
       "      <td>0</td>\n",
       "      <td>unknown</td>\n",
       "      <td>1</td>\n",
       "    </tr>\n",
       "    <tr>\n",
       "      <th>7</th>\n",
       "      <td>60</td>\n",
       "      <td>retired</td>\n",
       "      <td>divorced</td>\n",
       "      <td>secondary</td>\n",
       "      <td>0</td>\n",
       "      <td>545</td>\n",
       "      <td>1</td>\n",
       "      <td>0</td>\n",
       "      <td>unknown</td>\n",
       "      <td>6</td>\n",
       "      <td>may</td>\n",
       "      <td>1030</td>\n",
       "      <td>1</td>\n",
       "      <td>-1</td>\n",
       "      <td>0</td>\n",
       "      <td>unknown</td>\n",
       "      <td>1</td>\n",
       "    </tr>\n",
       "    <tr>\n",
       "      <th>8</th>\n",
       "      <td>37</td>\n",
       "      <td>technician</td>\n",
       "      <td>married</td>\n",
       "      <td>secondary</td>\n",
       "      <td>0</td>\n",
       "      <td>1</td>\n",
       "      <td>1</td>\n",
       "      <td>0</td>\n",
       "      <td>unknown</td>\n",
       "      <td>6</td>\n",
       "      <td>may</td>\n",
       "      <td>608</td>\n",
       "      <td>1</td>\n",
       "      <td>-1</td>\n",
       "      <td>0</td>\n",
       "      <td>unknown</td>\n",
       "      <td>1</td>\n",
       "    </tr>\n",
       "    <tr>\n",
       "      <th>9</th>\n",
       "      <td>28</td>\n",
       "      <td>services</td>\n",
       "      <td>single</td>\n",
       "      <td>secondary</td>\n",
       "      <td>0</td>\n",
       "      <td>5090</td>\n",
       "      <td>1</td>\n",
       "      <td>0</td>\n",
       "      <td>unknown</td>\n",
       "      <td>6</td>\n",
       "      <td>may</td>\n",
       "      <td>1297</td>\n",
       "      <td>3</td>\n",
       "      <td>-1</td>\n",
       "      <td>0</td>\n",
       "      <td>unknown</td>\n",
       "      <td>1</td>\n",
       "    </tr>\n",
       "  </tbody>\n",
       "</table>\n",
       "</div>"
      ],
      "text/plain": [
       "   Edad     Trabajo   Marital  Educacion  Credito_Inc  Saldo  Prestamo_Viv  \\\n",
       "0    59      admin.   married  secondary            0   2343             1   \n",
       "1    56      admin.   married  secondary            0     45             0   \n",
       "2    41  technician   married  secondary            0   1270             1   \n",
       "3    55    services   married  secondary            0   2476             1   \n",
       "4    54      admin.   married   tertiary            0    184             0   \n",
       "5    42  management    single   tertiary            0      0             1   \n",
       "6    56  management   married   tertiary            0    830             1   \n",
       "7    60     retired  divorced  secondary            0    545             1   \n",
       "8    37  technician   married  secondary            0      1             1   \n",
       "9    28    services    single  secondary            0   5090             1   \n",
       "\n",
       "   Prestamo Contacto  Dia  Mes  Duracion  Campana  Dias_Prev  Previo  \\\n",
       "0         0  unknown    5  may      1042        1         -1       0   \n",
       "1         0  unknown    5  may      1467        1         -1       0   \n",
       "2         0  unknown    5  may      1389        1         -1       0   \n",
       "3         0  unknown    5  may       579        1         -1       0   \n",
       "4         0  unknown    5  may       673        2         -1       0   \n",
       "5         1  unknown    5  may       562        2         -1       0   \n",
       "6         1  unknown    6  may      1201        1         -1       0   \n",
       "7         0  unknown    6  may      1030        1         -1       0   \n",
       "8         0  unknown    6  may       608        1         -1       0   \n",
       "9         0  unknown    6  may      1297        3         -1       0   \n",
       "\n",
       "  Resultado_Prev  Deposito  \n",
       "0        unknown         1  \n",
       "1        unknown         1  \n",
       "2        unknown         1  \n",
       "3        unknown         1  \n",
       "4        unknown         1  \n",
       "5        unknown         1  \n",
       "6        unknown         1  \n",
       "7        unknown         1  \n",
       "8        unknown         1  \n",
       "9        unknown         1  "
      ]
     },
     "execution_count": 49,
     "metadata": {},
     "output_type": "execute_result"
    }
   ],
   "source": [
    "df_new.head(10)"
   ]
  },
  {
   "cell_type": "code",
   "execution_count": 50,
   "metadata": {},
   "outputs": [
    {
     "data": {
      "text/plain": [
       "Text(0.5, 0.98, 'Gráfico de Dispersión: Duración Llamada vs Día del Mes')"
      ]
     },
     "execution_count": 50,
     "metadata": {},
     "output_type": "execute_result"
    },
    {
     "data": {
      "image/png": "[encoded data removed]",
      "text/plain": [
       "<Figure size 432x288 with 1 Axes>"
      ]
     },
     "metadata": {
      "needs_background": "light"
     },
     "output_type": "display_data"
    }
   ],
   "source": [
    "fig, ax1 = plt.subplots() # prepara un gráfico de matplotlib\n",
    "\n",
    "df_new.plot(\"Dia\", \"Duracion\", kind=\"scatter\", ax=ax1)\n",
    "\n",
    "# realiza ajustes al gráfico con matplotlib:\n",
    "ax1.set_xlabel(\"Dia\")\n",
    "ax1.set_ylabel(\"Duración (s)\")\n",
    "ax1.tick_params(labelsize=16, pad=8)\n",
    "fig.suptitle('Gráfico de Dispersión: Duración Llamada vs Día del Mes', fontsize=15)"
   ]
  },
  {
   "cell_type": "code",
   "execution_count": 51,
   "metadata": {},
   "outputs": [
    {
     "data": {
      "text/plain": [
       "Text(0.5, 0.98, 'Gráfico de Dispersion: Duración Llamada vs Campaña')"
      ]
     },
     "execution_count": 51,
     "metadata": {},
     "output_type": "execute_result"
    },
    {
     "data": {
      "image/png": "[encoded data removed]",
      "text/plain": [
       "<Figure size 432x288 with 1 Axes>"
      ]
     },
     "metadata": {
      "needs_background": "light"
     },
     "output_type": "display_data"
    }
   ],
   "source": [
    "fig, ax1 = plt.subplots() # prepara un gráfico de matplotlib\n",
    "\n",
    "df_new.plot(\"Campana\", \"Duracion\", kind=\"scatter\", ax=ax1)\n",
    "\n",
    "# realiza ajustes al gráfico con matplotlib:\n",
    "ax1.set_xlabel(\"Campaña\")\n",
    "ax1.set_ylabel(\"Duración (s)\")\n",
    "ax1.tick_params(labelsize=16, pad=8)\n",
    "fig.suptitle('Gráfico de Dispersion: Duración Llamada vs Campaña', fontsize=15)"
   ]
  },
  {
   "cell_type": "code",
   "execution_count": 52,
   "metadata": {},
   "outputs": [
    {
     "data": {
      "image/png": "[encoded data removed]",
      "text/plain": [
       "<Figure size 432x288 with 1 Axes>"
      ]
     },
     "metadata": {
      "needs_background": "light"
     },
     "output_type": "display_data"
    }
   ],
   "source": [
    "x0_rot = 0\n",
    "y0_rot = 0\n",
    "\n",
    "# Create plot of centered data values\n",
    "plt.scatter(df_new['Edad'], df_new['Saldo'], label='Valores Centrados', color='b', s=25, marker=\"o\")\n",
    "\n",
    "# Create plot of center of data_values\n",
    "#plt.scatter(x0_rot, x0_rot, label='Valores Centrados', color='r', s=25, marker=\"x\")\n",
    "\n",
    "plt.xlabel('Edad')\n",
    "plt.ylabel('Saldo')\n",
    "plt.title('GRÁFICO DE DISPERSIÓN: Saldo vs Edad')\n",
    "#plt.legend()\n",
    "plt.show()"
   ]
  },
  {
   "cell_type": "markdown",
   "metadata": {},
   "source": [
    "##### a5.2) Variables categóricas ONE HOT ENCODE (VECTORES BINARIOS)\n",
    "\n",
    "Del conjunto de datos se identifican las siguientes variables categoricas a convertir en vectores binarios:\n",
    "\n",
    "**Trabajo (Atributo)**\n",
    "\n",
    "**Marital (Atributo)**\n",
    "\n",
    "**Educacion (Atributo)**\n",
    "\n",
    "**Contacto (Atributo)**\n",
    "\n",
    "**Mes (Atributo)**\n",
    "\n",
    "**Resultado_Prev (Atributo)**"
   ]
  },
  {
   "cell_type": "markdown",
   "metadata": {},
   "source": [
    "* **Aplicación de ONE HOT ENCODE a los atributos anteriores**"
   ]
  },
  {
   "cell_type": "code",
   "execution_count": 53,
   "metadata": {},
   "outputs": [],
   "source": [
    "df_new = pd.get_dummies(df_new, columns=['Trabajo'])\n",
    "df_new = pd.get_dummies(df_new, columns=['Marital'])\n",
    "df_new = pd.get_dummies(df_new, columns=['Educacion'])\n",
    "df_new = pd.get_dummies(df_new, columns=['Contacto'])\n",
    "df_new = pd.get_dummies(df_new, columns=['Mes'])\n",
    "df_new = pd.get_dummies(df_new, columns=['Resultado_Prev'])"
   ]
  },
  {
   "cell_type": "markdown",
   "metadata": {},
   "source": [
    "- Visualización de los primeros 10 datos del DataSet con **cambio de Datos Categóricos**:"
   ]
  },
  {
   "cell_type": "code",
   "execution_count": 54,
   "metadata": {},
   "outputs": [
    {
     "data": {
      "text/html": [
       "<div>\n",
       "<style scoped>\n",
       "    .dataframe tbody tr th:only-of-type {\n",
       "        vertical-align: middle;\n",
       "    }\n",
       "\n",
       "    .dataframe tbody tr th {\n",
       "        vertical-align: top;\n",
       "    }\n",
       "\n",
       "    .dataframe thead th {\n",
       "        text-align: right;\n",
       "    }\n",
       "</style>\n",
       "<table border=\"1\" class=\"dataframe\">\n",
       "  <thead>\n",
       "    <tr style=\"text-align: right;\">\n",
       "      <th></th>\n",
       "      <th>Edad</th>\n",
       "      <th>Credito_Inc</th>\n",
       "      <th>Saldo</th>\n",
       "      <th>Prestamo_Viv</th>\n",
       "      <th>Prestamo</th>\n",
       "      <th>Dia</th>\n",
       "      <th>Duracion</th>\n",
       "      <th>Campana</th>\n",
       "      <th>Dias_Prev</th>\n",
       "      <th>Previo</th>\n",
       "      <th>...</th>\n",
       "      <th>Mes_jun</th>\n",
       "      <th>Mes_mar</th>\n",
       "      <th>Mes_may</th>\n",
       "      <th>Mes_nov</th>\n",
       "      <th>Mes_oct</th>\n",
       "      <th>Mes_sep</th>\n",
       "      <th>Resultado_Prev_failure</th>\n",
       "      <th>Resultado_Prev_other</th>\n",
       "      <th>Resultado_Prev_success</th>\n",
       "      <th>Resultado_Prev_unknown</th>\n",
       "    </tr>\n",
       "  </thead>\n",
       "  <tbody>\n",
       "    <tr>\n",
       "      <th>0</th>\n",
       "      <td>59</td>\n",
       "      <td>0</td>\n",
       "      <td>2343</td>\n",
       "      <td>1</td>\n",
       "      <td>0</td>\n",
       "      <td>5</td>\n",
       "      <td>1042</td>\n",
       "      <td>1</td>\n",
       "      <td>-1</td>\n",
       "      <td>0</td>\n",
       "      <td>...</td>\n",
       "      <td>0</td>\n",
       "      <td>0</td>\n",
       "      <td>1</td>\n",
       "      <td>0</td>\n",
       "      <td>0</td>\n",
       "      <td>0</td>\n",
       "      <td>0</td>\n",
       "      <td>0</td>\n",
       "      <td>0</td>\n",
       "      <td>1</td>\n",
       "    </tr>\n",
       "    <tr>\n",
       "      <th>1</th>\n",
       "      <td>56</td>\n",
       "      <td>0</td>\n",
       "      <td>45</td>\n",
       "      <td>0</td>\n",
       "      <td>0</td>\n",
       "      <td>5</td>\n",
       "      <td>1467</td>\n",
       "      <td>1</td>\n",
       "      <td>-1</td>\n",
       "      <td>0</td>\n",
       "      <td>...</td>\n",
       "      <td>0</td>\n",
       "      <td>0</td>\n",
       "      <td>1</td>\n",
       "      <td>0</td>\n",
       "      <td>0</td>\n",
       "      <td>0</td>\n",
       "      <td>0</td>\n",
       "      <td>0</td>\n",
       "      <td>0</td>\n",
       "      <td>1</td>\n",
       "    </tr>\n",
       "    <tr>\n",
       "      <th>2</th>\n",
       "      <td>41</td>\n",
       "      <td>0</td>\n",
       "      <td>1270</td>\n",
       "      <td>1</td>\n",
       "      <td>0</td>\n",
       "      <td>5</td>\n",
       "      <td>1389</td>\n",
       "      <td>1</td>\n",
       "      <td>-1</td>\n",
       "      <td>0</td>\n",
       "      <td>...</td>\n",
       "      <td>0</td>\n",
       "      <td>0</td>\n",
       "      <td>1</td>\n",
       "      <td>0</td>\n",
       "      <td>0</td>\n",
       "      <td>0</td>\n",
       "      <td>0</td>\n",
       "      <td>0</td>\n",
       "      <td>0</td>\n",
       "      <td>1</td>\n",
       "    </tr>\n",
       "    <tr>\n",
       "      <th>3</th>\n",
       "      <td>55</td>\n",
       "      <td>0</td>\n",
       "      <td>2476</td>\n",
       "      <td>1</td>\n",
       "      <td>0</td>\n",
       "      <td>5</td>\n",
       "      <td>579</td>\n",
       "      <td>1</td>\n",
       "      <td>-1</td>\n",
       "      <td>0</td>\n",
       "      <td>...</td>\n",
       "      <td>0</td>\n",
       "      <td>0</td>\n",
       "      <td>1</td>\n",
       "      <td>0</td>\n",
       "      <td>0</td>\n",
       "      <td>0</td>\n",
       "      <td>0</td>\n",
       "      <td>0</td>\n",
       "      <td>0</td>\n",
       "      <td>1</td>\n",
       "    </tr>\n",
       "    <tr>\n",
       "      <th>4</th>\n",
       "      <td>54</td>\n",
       "      <td>0</td>\n",
       "      <td>184</td>\n",
       "      <td>0</td>\n",
       "      <td>0</td>\n",
       "      <td>5</td>\n",
       "      <td>673</td>\n",
       "      <td>2</td>\n",
       "      <td>-1</td>\n",
       "      <td>0</td>\n",
       "      <td>...</td>\n",
       "      <td>0</td>\n",
       "      <td>0</td>\n",
       "      <td>1</td>\n",
       "      <td>0</td>\n",
       "      <td>0</td>\n",
       "      <td>0</td>\n",
       "      <td>0</td>\n",
       "      <td>0</td>\n",
       "      <td>0</td>\n",
       "      <td>1</td>\n",
       "    </tr>\n",
       "    <tr>\n",
       "      <th>5</th>\n",
       "      <td>42</td>\n",
       "      <td>0</td>\n",
       "      <td>0</td>\n",
       "      <td>1</td>\n",
       "      <td>1</td>\n",
       "      <td>5</td>\n",
       "      <td>562</td>\n",
       "      <td>2</td>\n",
       "      <td>-1</td>\n",
       "      <td>0</td>\n",
       "      <td>...</td>\n",
       "      <td>0</td>\n",
       "      <td>0</td>\n",
       "      <td>1</td>\n",
       "      <td>0</td>\n",
       "      <td>0</td>\n",
       "      <td>0</td>\n",
       "      <td>0</td>\n",
       "      <td>0</td>\n",
       "      <td>0</td>\n",
       "      <td>1</td>\n",
       "    </tr>\n",
       "    <tr>\n",
       "      <th>6</th>\n",
       "      <td>56</td>\n",
       "      <td>0</td>\n",
       "      <td>830</td>\n",
       "      <td>1</td>\n",
       "      <td>1</td>\n",
       "      <td>6</td>\n",
       "      <td>1201</td>\n",
       "      <td>1</td>\n",
       "      <td>-1</td>\n",
       "      <td>0</td>\n",
       "      <td>...</td>\n",
       "      <td>0</td>\n",
       "      <td>0</td>\n",
       "      <td>1</td>\n",
       "      <td>0</td>\n",
       "      <td>0</td>\n",
       "      <td>0</td>\n",
       "      <td>0</td>\n",
       "      <td>0</td>\n",
       "      <td>0</td>\n",
       "      <td>1</td>\n",
       "    </tr>\n",
       "    <tr>\n",
       "      <th>7</th>\n",
       "      <td>60</td>\n",
       "      <td>0</td>\n",
       "      <td>545</td>\n",
       "      <td>1</td>\n",
       "      <td>0</td>\n",
       "      <td>6</td>\n",
       "      <td>1030</td>\n",
       "      <td>1</td>\n",
       "      <td>-1</td>\n",
       "      <td>0</td>\n",
       "      <td>...</td>\n",
       "      <td>0</td>\n",
       "      <td>0</td>\n",
       "      <td>1</td>\n",
       "      <td>0</td>\n",
       "      <td>0</td>\n",
       "      <td>0</td>\n",
       "      <td>0</td>\n",
       "      <td>0</td>\n",
       "      <td>0</td>\n",
       "      <td>1</td>\n",
       "    </tr>\n",
       "    <tr>\n",
       "      <th>8</th>\n",
       "      <td>37</td>\n",
       "      <td>0</td>\n",
       "      <td>1</td>\n",
       "      <td>1</td>\n",
       "      <td>0</td>\n",
       "      <td>6</td>\n",
       "      <td>608</td>\n",
       "      <td>1</td>\n",
       "      <td>-1</td>\n",
       "      <td>0</td>\n",
       "      <td>...</td>\n",
       "      <td>0</td>\n",
       "      <td>0</td>\n",
       "      <td>1</td>\n",
       "      <td>0</td>\n",
       "      <td>0</td>\n",
       "      <td>0</td>\n",
       "      <td>0</td>\n",
       "      <td>0</td>\n",
       "      <td>0</td>\n",
       "      <td>1</td>\n",
       "    </tr>\n",
       "    <tr>\n",
       "      <th>9</th>\n",
       "      <td>28</td>\n",
       "      <td>0</td>\n",
       "      <td>5090</td>\n",
       "      <td>1</td>\n",
       "      <td>0</td>\n",
       "      <td>6</td>\n",
       "      <td>1297</td>\n",
       "      <td>3</td>\n",
       "      <td>-1</td>\n",
       "      <td>0</td>\n",
       "      <td>...</td>\n",
       "      <td>0</td>\n",
       "      <td>0</td>\n",
       "      <td>1</td>\n",
       "      <td>0</td>\n",
       "      <td>0</td>\n",
       "      <td>0</td>\n",
       "      <td>0</td>\n",
       "      <td>0</td>\n",
       "      <td>0</td>\n",
       "      <td>1</td>\n",
       "    </tr>\n",
       "  </tbody>\n",
       "</table>\n",
       "<p>10 rows × 49 columns</p>\n",
       "</div>"
      ],
      "text/plain": [
       "   Edad  Credito_Inc  Saldo  Prestamo_Viv  Prestamo  Dia  Duracion  Campana  \\\n",
       "0    59            0   2343             1         0    5      1042        1   \n",
       "1    56            0     45             0         0    5      1467        1   \n",
       "2    41            0   1270             1         0    5      1389        1   \n",
       "3    55            0   2476             1         0    5       579        1   \n",
       "4    54            0    184             0         0    5       673        2   \n",
       "5    42            0      0             1         1    5       562        2   \n",
       "6    56            0    830             1         1    6      1201        1   \n",
       "7    60            0    545             1         0    6      1030        1   \n",
       "8    37            0      1             1         0    6       608        1   \n",
       "9    28            0   5090             1         0    6      1297        3   \n",
       "\n",
       "   Dias_Prev  Previo  ...  Mes_jun  Mes_mar  Mes_may  Mes_nov  Mes_oct  \\\n",
       "0         -1       0  ...        0        0        1        0        0   \n",
       "1         -1       0  ...        0        0        1        0        0   \n",
       "2         -1       0  ...        0        0        1        0        0   \n",
       "3         -1       0  ...        0        0        1        0        0   \n",
       "4         -1       0  ...        0        0        1        0        0   \n",
       "5         -1       0  ...        0        0        1        0        0   \n",
       "6         -1       0  ...        0        0        1        0        0   \n",
       "7         -1       0  ...        0        0        1        0        0   \n",
       "8         -1       0  ...        0        0        1        0        0   \n",
       "9         -1       0  ...        0        0        1        0        0   \n",
       "\n",
       "   Mes_sep  Resultado_Prev_failure  Resultado_Prev_other  \\\n",
       "0        0                       0                     0   \n",
       "1        0                       0                     0   \n",
       "2        0                       0                     0   \n",
       "3        0                       0                     0   \n",
       "4        0                       0                     0   \n",
       "5        0                       0                     0   \n",
       "6        0                       0                     0   \n",
       "7        0                       0                     0   \n",
       "8        0                       0                     0   \n",
       "9        0                       0                     0   \n",
       "\n",
       "   Resultado_Prev_success  Resultado_Prev_unknown  \n",
       "0                       0                       1  \n",
       "1                       0                       1  \n",
       "2                       0                       1  \n",
       "3                       0                       1  \n",
       "4                       0                       1  \n",
       "5                       0                       1  \n",
       "6                       0                       1  \n",
       "7                       0                       1  \n",
       "8                       0                       1  \n",
       "9                       0                       1  \n",
       "\n",
       "[10 rows x 49 columns]"
      ]
     },
     "execution_count": 54,
     "metadata": {},
     "output_type": "execute_result"
    }
   ],
   "source": [
    "df_new.head(10)"
   ]
  },
  {
   "cell_type": "markdown",
   "metadata": {},
   "source": [
    "- Visualización de nombres de columnas del DataSet Completo con **cambio de Datos Categóricos**:"
   ]
  },
  {
   "cell_type": "code",
   "execution_count": 55,
   "metadata": {},
   "outputs": [
    {
     "data": {
      "text/plain": [
       "Index(['Edad', 'Credito_Inc', 'Saldo', 'Prestamo_Viv', 'Prestamo', 'Dia',\n",
       "       'Duracion', 'Campana', 'Dias_Prev', 'Previo', 'Deposito',\n",
       "       'Trabajo_admin.', 'Trabajo_blue-collar', 'Trabajo_entrepreneur',\n",
       "       'Trabajo_housemaid', 'Trabajo_management', 'Trabajo_retired',\n",
       "       'Trabajo_self-employed', 'Trabajo_services', 'Trabajo_student',\n",
       "       'Trabajo_technician', 'Trabajo_unemployed', 'Trabajo_unknown',\n",
       "       'Marital_divorced', 'Marital_married', 'Marital_single',\n",
       "       'Educacion_primary', 'Educacion_secondary', 'Educacion_tertiary',\n",
       "       'Educacion_unknown', 'Contacto_cellular', 'Contacto_telephone',\n",
       "       'Contacto_unknown', 'Mes_apr', 'Mes_aug', 'Mes_dec', 'Mes_feb',\n",
       "       'Mes_jan', 'Mes_jul', 'Mes_jun', 'Mes_mar', 'Mes_may', 'Mes_nov',\n",
       "       'Mes_oct', 'Mes_sep', 'Resultado_Prev_failure', 'Resultado_Prev_other',\n",
       "       'Resultado_Prev_success', 'Resultado_Prev_unknown'],\n",
       "      dtype='object')"
      ]
     },
     "execution_count": 55,
     "metadata": {},
     "output_type": "execute_result"
    }
   ],
   "source": [
    "df_new.columns"
   ]
  },
  {
   "cell_type": "markdown",
   "metadata": {},
   "source": [
    "### **ATRIBUTOS / LABEL A EMPLEAR EN EL MODELO DE CLASIFICACIÓN**"
   ]
  },
  {
   "cell_type": "markdown",
   "metadata": {},
   "source": [
    "Se utilizará los siguientes atributos en el modelo de clasificación:\n",
    "\n",
    "## <font color='green'>**FEATURES** </font>: \n",
    "\n",
    "<font color='blue'>**Edad**</font>       = **age** <font color='magenta'>(DATO NUMÉRICO)</font>\n",
    "\n",
    "<font color='blue'>**Trabajo**</font>       = **job** <font color='magenta'>(DATO CATEGÓRICO)</font>\n",
    "     \n",
    "<font color='blue'>**Marital**</font>      = **marital** <font color='magenta'>(DATO CATEGÓRICO)</font>\n",
    " \n",
    "<font color='blue'>**Educacion**</font>      = **education** <font color='magenta'>(DATO CATEGÓRICO)</font>\n",
    " \n",
    "<font color='blue'>**Credito_Inc**</font>     = **default** <font color='magenta'>(DATO CATEGÓRICO - BINARIO)</font>\n",
    "     \n",
    "<font color='blue'>**Prestamo_Viv**</font>  = **housing** <font color='magenta'>(DATO CATEGÓRICO - BINARIO)</font>\n",
    " \n",
    "<font color='blue'>**Prestamo**</font>     = **loan** <font color='magenta'>(DATO CATEGÓRICO - BINARIO)</font>\n",
    "\n",
    "<font color='blue'>**Saldo**</font>       = **balance** <font color='magenta'>(DATO NUMÉRICO)</font>\n",
    " \n",
    "<font color='blue'>**Contacto**</font>  = **contact** <font color='magenta'>(DATO CATEGÓRICO)</font>\n",
    " \n",
    "<font color='blue'>**Resultado_Prev**</font>  = **poutcome** <font color='magenta'>(DATO CATEGÓRICO)</font>\n",
    "\n",
    "\n",
    "\n",
    "## <font color='red'>**LABEL** </font>: \n",
    "\n",
    "<font color='blue'>**Deposito**</font>  = **deposit** <font color='magenta'>(DATO CATEGÓRICO - BINARIO)</font>\n",
    "\n",
    "\n",
    "\n",
    " \n",
    "\n"
   ]
  },
  {
   "cell_type": "markdown",
   "metadata": {},
   "source": [
    "##### Asignación de Atributos a evaluar en el dataset :"
   ]
  },
  {
   "cell_type": "code",
   "execution_count": 56,
   "metadata": {},
   "outputs": [],
   "source": [
    "df_class = df_new.copy()\n",
    "df_class = df_class[['Edad', 'Trabajo_admin.', 'Trabajo_blue-collar', 'Trabajo_entrepreneur', 'Trabajo_housemaid', \n",
    "                   'Trabajo_management', 'Trabajo_retired', 'Trabajo_self-employed', 'Trabajo_services', 'Trabajo_student', \n",
    "                   'Trabajo_technician', 'Trabajo_unemployed', 'Trabajo_unknown', 'Marital_divorced', 'Marital_married', \n",
    "                   'Marital_single', 'Educacion_primary', 'Educacion_secondary', 'Educacion_tertiary', 'Educacion_unknown', \n",
    "                   'Credito_Inc', 'Prestamo_Viv', 'Prestamo', 'Saldo', 'Contacto_cellular', 'Contacto_telephone', \n",
    "                   'Contacto_unknown', 'Resultado_Prev_failure', 'Resultado_Prev_other', 'Resultado_Prev_success', \n",
    "                   'Resultado_Prev_unknown', 'Deposito']]"
   ]
  },
  {
   "cell_type": "markdown",
   "metadata": {},
   "source": [
    "##### Visualización del dataset con atributos a evaluar:"
   ]
  },
  {
   "cell_type": "code",
   "execution_count": 57,
   "metadata": {
    "scrolled": false
   },
   "outputs": [
    {
     "data": {
      "text/html": [
       "<div>\n",
       "<style scoped>\n",
       "    .dataframe tbody tr th:only-of-type {\n",
       "        vertical-align: middle;\n",
       "    }\n",
       "\n",
       "    .dataframe tbody tr th {\n",
       "        vertical-align: top;\n",
       "    }\n",
       "\n",
       "    .dataframe thead th {\n",
       "        text-align: right;\n",
       "    }\n",
       "</style>\n",
       "<table border=\"1\" class=\"dataframe\">\n",
       "  <thead>\n",
       "    <tr style=\"text-align: right;\">\n",
       "      <th></th>\n",
       "      <th>Edad</th>\n",
       "      <th>Trabajo_admin.</th>\n",
       "      <th>Trabajo_blue-collar</th>\n",
       "      <th>Trabajo_entrepreneur</th>\n",
       "      <th>Trabajo_housemaid</th>\n",
       "      <th>Trabajo_management</th>\n",
       "      <th>Trabajo_retired</th>\n",
       "      <th>Trabajo_self-employed</th>\n",
       "      <th>Trabajo_services</th>\n",
       "      <th>Trabajo_student</th>\n",
       "      <th>...</th>\n",
       "      <th>Prestamo</th>\n",
       "      <th>Saldo</th>\n",
       "      <th>Contacto_cellular</th>\n",
       "      <th>Contacto_telephone</th>\n",
       "      <th>Contacto_unknown</th>\n",
       "      <th>Resultado_Prev_failure</th>\n",
       "      <th>Resultado_Prev_other</th>\n",
       "      <th>Resultado_Prev_success</th>\n",
       "      <th>Resultado_Prev_unknown</th>\n",
       "      <th>Deposito</th>\n",
       "    </tr>\n",
       "  </thead>\n",
       "  <tbody>\n",
       "    <tr>\n",
       "      <th>0</th>\n",
       "      <td>59</td>\n",
       "      <td>1</td>\n",
       "      <td>0</td>\n",
       "      <td>0</td>\n",
       "      <td>0</td>\n",
       "      <td>0</td>\n",
       "      <td>0</td>\n",
       "      <td>0</td>\n",
       "      <td>0</td>\n",
       "      <td>0</td>\n",
       "      <td>...</td>\n",
       "      <td>0</td>\n",
       "      <td>2343</td>\n",
       "      <td>0</td>\n",
       "      <td>0</td>\n",
       "      <td>1</td>\n",
       "      <td>0</td>\n",
       "      <td>0</td>\n",
       "      <td>0</td>\n",
       "      <td>1</td>\n",
       "      <td>1</td>\n",
       "    </tr>\n",
       "    <tr>\n",
       "      <th>1</th>\n",
       "      <td>56</td>\n",
       "      <td>1</td>\n",
       "      <td>0</td>\n",
       "      <td>0</td>\n",
       "      <td>0</td>\n",
       "      <td>0</td>\n",
       "      <td>0</td>\n",
       "      <td>0</td>\n",
       "      <td>0</td>\n",
       "      <td>0</td>\n",
       "      <td>...</td>\n",
       "      <td>0</td>\n",
       "      <td>45</td>\n",
       "      <td>0</td>\n",
       "      <td>0</td>\n",
       "      <td>1</td>\n",
       "      <td>0</td>\n",
       "      <td>0</td>\n",
       "      <td>0</td>\n",
       "      <td>1</td>\n",
       "      <td>1</td>\n",
       "    </tr>\n",
       "    <tr>\n",
       "      <th>2</th>\n",
       "      <td>41</td>\n",
       "      <td>0</td>\n",
       "      <td>0</td>\n",
       "      <td>0</td>\n",
       "      <td>0</td>\n",
       "      <td>0</td>\n",
       "      <td>0</td>\n",
       "      <td>0</td>\n",
       "      <td>0</td>\n",
       "      <td>0</td>\n",
       "      <td>...</td>\n",
       "      <td>0</td>\n",
       "      <td>1270</td>\n",
       "      <td>0</td>\n",
       "      <td>0</td>\n",
       "      <td>1</td>\n",
       "      <td>0</td>\n",
       "      <td>0</td>\n",
       "      <td>0</td>\n",
       "      <td>1</td>\n",
       "      <td>1</td>\n",
       "    </tr>\n",
       "    <tr>\n",
       "      <th>3</th>\n",
       "      <td>55</td>\n",
       "      <td>0</td>\n",
       "      <td>0</td>\n",
       "      <td>0</td>\n",
       "      <td>0</td>\n",
       "      <td>0</td>\n",
       "      <td>0</td>\n",
       "      <td>0</td>\n",
       "      <td>1</td>\n",
       "      <td>0</td>\n",
       "      <td>...</td>\n",
       "      <td>0</td>\n",
       "      <td>2476</td>\n",
       "      <td>0</td>\n",
       "      <td>0</td>\n",
       "      <td>1</td>\n",
       "      <td>0</td>\n",
       "      <td>0</td>\n",
       "      <td>0</td>\n",
       "      <td>1</td>\n",
       "      <td>1</td>\n",
       "    </tr>\n",
       "    <tr>\n",
       "      <th>4</th>\n",
       "      <td>54</td>\n",
       "      <td>1</td>\n",
       "      <td>0</td>\n",
       "      <td>0</td>\n",
       "      <td>0</td>\n",
       "      <td>0</td>\n",
       "      <td>0</td>\n",
       "      <td>0</td>\n",
       "      <td>0</td>\n",
       "      <td>0</td>\n",
       "      <td>...</td>\n",
       "      <td>0</td>\n",
       "      <td>184</td>\n",
       "      <td>0</td>\n",
       "      <td>0</td>\n",
       "      <td>1</td>\n",
       "      <td>0</td>\n",
       "      <td>0</td>\n",
       "      <td>0</td>\n",
       "      <td>1</td>\n",
       "      <td>1</td>\n",
       "    </tr>\n",
       "    <tr>\n",
       "      <th>5</th>\n",
       "      <td>42</td>\n",
       "      <td>0</td>\n",
       "      <td>0</td>\n",
       "      <td>0</td>\n",
       "      <td>0</td>\n",
       "      <td>1</td>\n",
       "      <td>0</td>\n",
       "      <td>0</td>\n",
       "      <td>0</td>\n",
       "      <td>0</td>\n",
       "      <td>...</td>\n",
       "      <td>1</td>\n",
       "      <td>0</td>\n",
       "      <td>0</td>\n",
       "      <td>0</td>\n",
       "      <td>1</td>\n",
       "      <td>0</td>\n",
       "      <td>0</td>\n",
       "      <td>0</td>\n",
       "      <td>1</td>\n",
       "      <td>1</td>\n",
       "    </tr>\n",
       "    <tr>\n",
       "      <th>6</th>\n",
       "      <td>56</td>\n",
       "      <td>0</td>\n",
       "      <td>0</td>\n",
       "      <td>0</td>\n",
       "      <td>0</td>\n",
       "      <td>1</td>\n",
       "      <td>0</td>\n",
       "      <td>0</td>\n",
       "      <td>0</td>\n",
       "      <td>0</td>\n",
       "      <td>...</td>\n",
       "      <td>1</td>\n",
       "      <td>830</td>\n",
       "      <td>0</td>\n",
       "      <td>0</td>\n",
       "      <td>1</td>\n",
       "      <td>0</td>\n",
       "      <td>0</td>\n",
       "      <td>0</td>\n",
       "      <td>1</td>\n",
       "      <td>1</td>\n",
       "    </tr>\n",
       "    <tr>\n",
       "      <th>7</th>\n",
       "      <td>60</td>\n",
       "      <td>0</td>\n",
       "      <td>0</td>\n",
       "      <td>0</td>\n",
       "      <td>0</td>\n",
       "      <td>0</td>\n",
       "      <td>1</td>\n",
       "      <td>0</td>\n",
       "      <td>0</td>\n",
       "      <td>0</td>\n",
       "      <td>...</td>\n",
       "      <td>0</td>\n",
       "      <td>545</td>\n",
       "      <td>0</td>\n",
       "      <td>0</td>\n",
       "      <td>1</td>\n",
       "      <td>0</td>\n",
       "      <td>0</td>\n",
       "      <td>0</td>\n",
       "      <td>1</td>\n",
       "      <td>1</td>\n",
       "    </tr>\n",
       "    <tr>\n",
       "      <th>8</th>\n",
       "      <td>37</td>\n",
       "      <td>0</td>\n",
       "      <td>0</td>\n",
       "      <td>0</td>\n",
       "      <td>0</td>\n",
       "      <td>0</td>\n",
       "      <td>0</td>\n",
       "      <td>0</td>\n",
       "      <td>0</td>\n",
       "      <td>0</td>\n",
       "      <td>...</td>\n",
       "      <td>0</td>\n",
       "      <td>1</td>\n",
       "      <td>0</td>\n",
       "      <td>0</td>\n",
       "      <td>1</td>\n",
       "      <td>0</td>\n",
       "      <td>0</td>\n",
       "      <td>0</td>\n",
       "      <td>1</td>\n",
       "      <td>1</td>\n",
       "    </tr>\n",
       "    <tr>\n",
       "      <th>9</th>\n",
       "      <td>28</td>\n",
       "      <td>0</td>\n",
       "      <td>0</td>\n",
       "      <td>0</td>\n",
       "      <td>0</td>\n",
       "      <td>0</td>\n",
       "      <td>0</td>\n",
       "      <td>0</td>\n",
       "      <td>1</td>\n",
       "      <td>0</td>\n",
       "      <td>...</td>\n",
       "      <td>0</td>\n",
       "      <td>5090</td>\n",
       "      <td>0</td>\n",
       "      <td>0</td>\n",
       "      <td>1</td>\n",
       "      <td>0</td>\n",
       "      <td>0</td>\n",
       "      <td>0</td>\n",
       "      <td>1</td>\n",
       "      <td>1</td>\n",
       "    </tr>\n",
       "  </tbody>\n",
       "</table>\n",
       "<p>10 rows × 32 columns</p>\n",
       "</div>"
      ],
      "text/plain": [
       "   Edad  Trabajo_admin.  Trabajo_blue-collar  Trabajo_entrepreneur  \\\n",
       "0    59               1                    0                     0   \n",
       "1    56               1                    0                     0   \n",
       "2    41               0                    0                     0   \n",
       "3    55               0                    0                     0   \n",
       "4    54               1                    0                     0   \n",
       "5    42               0                    0                     0   \n",
       "6    56               0                    0                     0   \n",
       "7    60               0                    0                     0   \n",
       "8    37               0                    0                     0   \n",
       "9    28               0                    0                     0   \n",
       "\n",
       "   Trabajo_housemaid  Trabajo_management  Trabajo_retired  \\\n",
       "0                  0                   0                0   \n",
       "1                  0                   0                0   \n",
       "2                  0                   0                0   \n",
       "3                  0                   0                0   \n",
       "4                  0                   0                0   \n",
       "5                  0                   1                0   \n",
       "6                  0                   1                0   \n",
       "7                  0                   0                1   \n",
       "8                  0                   0                0   \n",
       "9                  0                   0                0   \n",
       "\n",
       "   Trabajo_self-employed  Trabajo_services  Trabajo_student  ...  Prestamo  \\\n",
       "0                      0                 0                0  ...         0   \n",
       "1                      0                 0                0  ...         0   \n",
       "2                      0                 0                0  ...         0   \n",
       "3                      0                 1                0  ...         0   \n",
       "4                      0                 0                0  ...         0   \n",
       "5                      0                 0                0  ...         1   \n",
       "6                      0                 0                0  ...         1   \n",
       "7                      0                 0                0  ...         0   \n",
       "8                      0                 0                0  ...         0   \n",
       "9                      0                 1                0  ...         0   \n",
       "\n",
       "   Saldo  Contacto_cellular  Contacto_telephone  Contacto_unknown  \\\n",
       "0   2343                  0                   0                 1   \n",
       "1     45                  0                   0                 1   \n",
       "2   1270                  0                   0                 1   \n",
       "3   2476                  0                   0                 1   \n",
       "4    184                  0                   0                 1   \n",
       "5      0                  0                   0                 1   \n",
       "6    830                  0                   0                 1   \n",
       "7    545                  0                   0                 1   \n",
       "8      1                  0                   0                 1   \n",
       "9   5090                  0                   0                 1   \n",
       "\n",
       "   Resultado_Prev_failure  Resultado_Prev_other  Resultado_Prev_success  \\\n",
       "0                       0                     0                       0   \n",
       "1                       0                     0                       0   \n",
       "2                       0                     0                       0   \n",
       "3                       0                     0                       0   \n",
       "4                       0                     0                       0   \n",
       "5                       0                     0                       0   \n",
       "6                       0                     0                       0   \n",
       "7                       0                     0                       0   \n",
       "8                       0                     0                       0   \n",
       "9                       0                     0                       0   \n",
       "\n",
       "   Resultado_Prev_unknown  Deposito  \n",
       "0                       1         1  \n",
       "1                       1         1  \n",
       "2                       1         1  \n",
       "3                       1         1  \n",
       "4                       1         1  \n",
       "5                       1         1  \n",
       "6                       1         1  \n",
       "7                       1         1  \n",
       "8                       1         1  \n",
       "9                       1         1  \n",
       "\n",
       "[10 rows x 32 columns]"
      ]
     },
     "execution_count": 57,
     "metadata": {},
     "output_type": "execute_result"
    }
   ],
   "source": [
    "df_class.head(10)"
   ]
  },
  {
   "cell_type": "markdown",
   "metadata": {},
   "source": [
    "### **a6) Normalización de datos del Dataset**"
   ]
  },
  {
   "cell_type": "markdown",
   "metadata": {},
   "source": [
    "#### Instalación de Dependencias (Librerías) - SCIKIT-LEARN\n",
    "#### Requeridas para NORMALIZAR - ESTANDARIZAR los datos"
   ]
  },
  {
   "cell_type": "code",
   "execution_count": 58,
   "metadata": {},
   "outputs": [],
   "source": [
    "from sklearn import preprocessing\n",
    "from sklearn.preprocessing import MinMaxScaler"
   ]
  },
  {
   "cell_type": "markdown",
   "metadata": {},
   "source": [
    "### NORMALIZACIÓN de DATA (SCIKIT-LEARN)"
   ]
  },
  {
   "cell_type": "code",
   "execution_count": 59,
   "metadata": {},
   "outputs": [
    {
     "name": "stdout",
     "output_type": "stream",
     "text": [
      "Tamaños del DataSet Normalizazado: \n",
      "(11162, 32)\n",
      " \n",
      "Primeros 5 datos de DataSet NO Normalizazado: \n",
      "   Edad  Credito_Inc  Saldo  Prestamo_Viv  Prestamo  Dia  Duracion  Campana  \\\n",
      "0    59            0   2343             1         0    5      1042        1   \n",
      "1    56            0     45             0         0    5      1467        1   \n",
      "2    41            0   1270             1         0    5      1389        1   \n",
      "3    55            0   2476             1         0    5       579        1   \n",
      "4    54            0    184             0         0    5       673        2   \n",
      "\n",
      "   Dias_Prev  Previo  ...  Mes_jun  Mes_mar  Mes_may  Mes_nov  Mes_oct  \\\n",
      "0         -1       0  ...        0        0        1        0        0   \n",
      "1         -1       0  ...        0        0        1        0        0   \n",
      "2         -1       0  ...        0        0        1        0        0   \n",
      "3         -1       0  ...        0        0        1        0        0   \n",
      "4         -1       0  ...        0        0        1        0        0   \n",
      "\n",
      "   Mes_sep  Resultado_Prev_failure  Resultado_Prev_other  \\\n",
      "0        0                       0                     0   \n",
      "1        0                       0                     0   \n",
      "2        0                       0                     0   \n",
      "3        0                       0                     0   \n",
      "4        0                       0                     0   \n",
      "\n",
      "   Resultado_Prev_success  Resultado_Prev_unknown  \n",
      "0                       0                       1  \n",
      "1                       0                       1  \n",
      "2                       0                       1  \n",
      "3                       0                       1  \n",
      "4                       0                       1  \n",
      "\n",
      "[5 rows x 49 columns]\n",
      " \n",
      "Primeros 5 datos de DataSet Normalizado: \n"
     ]
    },
    {
     "data": {
      "text/html": [
       "<div>\n",
       "<style scoped>\n",
       "    .dataframe tbody tr th:only-of-type {\n",
       "        vertical-align: middle;\n",
       "    }\n",
       "\n",
       "    .dataframe tbody tr th {\n",
       "        vertical-align: top;\n",
       "    }\n",
       "\n",
       "    .dataframe thead th {\n",
       "        text-align: right;\n",
       "    }\n",
       "</style>\n",
       "<table border=\"1\" class=\"dataframe\">\n",
       "  <thead>\n",
       "    <tr style=\"text-align: right;\">\n",
       "      <th></th>\n",
       "      <th>Edad</th>\n",
       "      <th>Trabajo_admin.</th>\n",
       "      <th>Trabajo_blue-collar</th>\n",
       "      <th>Trabajo_entrepreneur</th>\n",
       "      <th>Trabajo_housemaid</th>\n",
       "      <th>Trabajo_management</th>\n",
       "      <th>Trabajo_retired</th>\n",
       "      <th>Trabajo_self-employed</th>\n",
       "      <th>Trabajo_services</th>\n",
       "      <th>Trabajo_student</th>\n",
       "      <th>...</th>\n",
       "      <th>Prestamo</th>\n",
       "      <th>Saldo</th>\n",
       "      <th>Contacto_cellular</th>\n",
       "      <th>Contacto_telephone</th>\n",
       "      <th>Contacto_unknown</th>\n",
       "      <th>Resultado_Prev_failure</th>\n",
       "      <th>Resultado_Prev_other</th>\n",
       "      <th>Resultado_Prev_success</th>\n",
       "      <th>Resultado_Prev_unknown</th>\n",
       "      <th>Deposito</th>\n",
       "    </tr>\n",
       "  </thead>\n",
       "  <tbody>\n",
       "    <tr>\n",
       "      <th>0</th>\n",
       "      <td>0.532468</td>\n",
       "      <td>1</td>\n",
       "      <td>0</td>\n",
       "      <td>0</td>\n",
       "      <td>0</td>\n",
       "      <td>0</td>\n",
       "      <td>0</td>\n",
       "      <td>0</td>\n",
       "      <td>0</td>\n",
       "      <td>0</td>\n",
       "      <td>...</td>\n",
       "      <td>0</td>\n",
       "      <td>0.104371</td>\n",
       "      <td>0</td>\n",
       "      <td>0</td>\n",
       "      <td>1</td>\n",
       "      <td>0</td>\n",
       "      <td>0</td>\n",
       "      <td>0</td>\n",
       "      <td>1</td>\n",
       "      <td>1</td>\n",
       "    </tr>\n",
       "    <tr>\n",
       "      <th>1</th>\n",
       "      <td>0.493506</td>\n",
       "      <td>1</td>\n",
       "      <td>0</td>\n",
       "      <td>0</td>\n",
       "      <td>0</td>\n",
       "      <td>0</td>\n",
       "      <td>0</td>\n",
       "      <td>0</td>\n",
       "      <td>0</td>\n",
       "      <td>0</td>\n",
       "      <td>...</td>\n",
       "      <td>0</td>\n",
       "      <td>0.078273</td>\n",
       "      <td>0</td>\n",
       "      <td>0</td>\n",
       "      <td>1</td>\n",
       "      <td>0</td>\n",
       "      <td>0</td>\n",
       "      <td>0</td>\n",
       "      <td>1</td>\n",
       "      <td>1</td>\n",
       "    </tr>\n",
       "    <tr>\n",
       "      <th>2</th>\n",
       "      <td>0.298701</td>\n",
       "      <td>0</td>\n",
       "      <td>0</td>\n",
       "      <td>0</td>\n",
       "      <td>0</td>\n",
       "      <td>0</td>\n",
       "      <td>0</td>\n",
       "      <td>0</td>\n",
       "      <td>0</td>\n",
       "      <td>0</td>\n",
       "      <td>...</td>\n",
       "      <td>0</td>\n",
       "      <td>0.092185</td>\n",
       "      <td>0</td>\n",
       "      <td>0</td>\n",
       "      <td>1</td>\n",
       "      <td>0</td>\n",
       "      <td>0</td>\n",
       "      <td>0</td>\n",
       "      <td>1</td>\n",
       "      <td>1</td>\n",
       "    </tr>\n",
       "    <tr>\n",
       "      <th>3</th>\n",
       "      <td>0.480519</td>\n",
       "      <td>0</td>\n",
       "      <td>0</td>\n",
       "      <td>0</td>\n",
       "      <td>0</td>\n",
       "      <td>0</td>\n",
       "      <td>0</td>\n",
       "      <td>0</td>\n",
       "      <td>1</td>\n",
       "      <td>0</td>\n",
       "      <td>...</td>\n",
       "      <td>0</td>\n",
       "      <td>0.105882</td>\n",
       "      <td>0</td>\n",
       "      <td>0</td>\n",
       "      <td>1</td>\n",
       "      <td>0</td>\n",
       "      <td>0</td>\n",
       "      <td>0</td>\n",
       "      <td>1</td>\n",
       "      <td>1</td>\n",
       "    </tr>\n",
       "    <tr>\n",
       "      <th>4</th>\n",
       "      <td>0.467532</td>\n",
       "      <td>1</td>\n",
       "      <td>0</td>\n",
       "      <td>0</td>\n",
       "      <td>0</td>\n",
       "      <td>0</td>\n",
       "      <td>0</td>\n",
       "      <td>0</td>\n",
       "      <td>0</td>\n",
       "      <td>0</td>\n",
       "      <td>...</td>\n",
       "      <td>0</td>\n",
       "      <td>0.079851</td>\n",
       "      <td>0</td>\n",
       "      <td>0</td>\n",
       "      <td>1</td>\n",
       "      <td>0</td>\n",
       "      <td>0</td>\n",
       "      <td>0</td>\n",
       "      <td>1</td>\n",
       "      <td>1</td>\n",
       "    </tr>\n",
       "    <tr>\n",
       "      <th>5</th>\n",
       "      <td>0.311688</td>\n",
       "      <td>0</td>\n",
       "      <td>0</td>\n",
       "      <td>0</td>\n",
       "      <td>0</td>\n",
       "      <td>1</td>\n",
       "      <td>0</td>\n",
       "      <td>0</td>\n",
       "      <td>0</td>\n",
       "      <td>0</td>\n",
       "      <td>...</td>\n",
       "      <td>1</td>\n",
       "      <td>0.077762</td>\n",
       "      <td>0</td>\n",
       "      <td>0</td>\n",
       "      <td>1</td>\n",
       "      <td>0</td>\n",
       "      <td>0</td>\n",
       "      <td>0</td>\n",
       "      <td>1</td>\n",
       "      <td>1</td>\n",
       "    </tr>\n",
       "    <tr>\n",
       "      <th>6</th>\n",
       "      <td>0.493506</td>\n",
       "      <td>0</td>\n",
       "      <td>0</td>\n",
       "      <td>0</td>\n",
       "      <td>0</td>\n",
       "      <td>1</td>\n",
       "      <td>0</td>\n",
       "      <td>0</td>\n",
       "      <td>0</td>\n",
       "      <td>0</td>\n",
       "      <td>...</td>\n",
       "      <td>1</td>\n",
       "      <td>0.087188</td>\n",
       "      <td>0</td>\n",
       "      <td>0</td>\n",
       "      <td>1</td>\n",
       "      <td>0</td>\n",
       "      <td>0</td>\n",
       "      <td>0</td>\n",
       "      <td>1</td>\n",
       "      <td>1</td>\n",
       "    </tr>\n",
       "    <tr>\n",
       "      <th>7</th>\n",
       "      <td>0.545455</td>\n",
       "      <td>0</td>\n",
       "      <td>0</td>\n",
       "      <td>0</td>\n",
       "      <td>0</td>\n",
       "      <td>0</td>\n",
       "      <td>1</td>\n",
       "      <td>0</td>\n",
       "      <td>0</td>\n",
       "      <td>0</td>\n",
       "      <td>...</td>\n",
       "      <td>0</td>\n",
       "      <td>0.083951</td>\n",
       "      <td>0</td>\n",
       "      <td>0</td>\n",
       "      <td>1</td>\n",
       "      <td>0</td>\n",
       "      <td>0</td>\n",
       "      <td>0</td>\n",
       "      <td>1</td>\n",
       "      <td>1</td>\n",
       "    </tr>\n",
       "    <tr>\n",
       "      <th>8</th>\n",
       "      <td>0.246753</td>\n",
       "      <td>0</td>\n",
       "      <td>0</td>\n",
       "      <td>0</td>\n",
       "      <td>0</td>\n",
       "      <td>0</td>\n",
       "      <td>0</td>\n",
       "      <td>0</td>\n",
       "      <td>0</td>\n",
       "      <td>0</td>\n",
       "      <td>...</td>\n",
       "      <td>0</td>\n",
       "      <td>0.077773</td>\n",
       "      <td>0</td>\n",
       "      <td>0</td>\n",
       "      <td>1</td>\n",
       "      <td>0</td>\n",
       "      <td>0</td>\n",
       "      <td>0</td>\n",
       "      <td>1</td>\n",
       "      <td>1</td>\n",
       "    </tr>\n",
       "    <tr>\n",
       "      <th>9</th>\n",
       "      <td>0.129870</td>\n",
       "      <td>0</td>\n",
       "      <td>0</td>\n",
       "      <td>0</td>\n",
       "      <td>0</td>\n",
       "      <td>0</td>\n",
       "      <td>0</td>\n",
       "      <td>0</td>\n",
       "      <td>1</td>\n",
       "      <td>0</td>\n",
       "      <td>...</td>\n",
       "      <td>0</td>\n",
       "      <td>0.135569</td>\n",
       "      <td>0</td>\n",
       "      <td>0</td>\n",
       "      <td>1</td>\n",
       "      <td>0</td>\n",
       "      <td>0</td>\n",
       "      <td>0</td>\n",
       "      <td>1</td>\n",
       "      <td>1</td>\n",
       "    </tr>\n",
       "  </tbody>\n",
       "</table>\n",
       "<p>10 rows × 32 columns</p>\n",
       "</div>"
      ],
      "text/plain": [
       "       Edad  Trabajo_admin.  Trabajo_blue-collar  Trabajo_entrepreneur  \\\n",
       "0  0.532468               1                    0                     0   \n",
       "1  0.493506               1                    0                     0   \n",
       "2  0.298701               0                    0                     0   \n",
       "3  0.480519               0                    0                     0   \n",
       "4  0.467532               1                    0                     0   \n",
       "5  0.311688               0                    0                     0   \n",
       "6  0.493506               0                    0                     0   \n",
       "7  0.545455               0                    0                     0   \n",
       "8  0.246753               0                    0                     0   \n",
       "9  0.129870               0                    0                     0   \n",
       "\n",
       "   Trabajo_housemaid  Trabajo_management  Trabajo_retired  \\\n",
       "0                  0                   0                0   \n",
       "1                  0                   0                0   \n",
       "2                  0                   0                0   \n",
       "3                  0                   0                0   \n",
       "4                  0                   0                0   \n",
       "5                  0                   1                0   \n",
       "6                  0                   1                0   \n",
       "7                  0                   0                1   \n",
       "8                  0                   0                0   \n",
       "9                  0                   0                0   \n",
       "\n",
       "   Trabajo_self-employed  Trabajo_services  Trabajo_student  ...  Prestamo  \\\n",
       "0                      0                 0                0  ...         0   \n",
       "1                      0                 0                0  ...         0   \n",
       "2                      0                 0                0  ...         0   \n",
       "3                      0                 1                0  ...         0   \n",
       "4                      0                 0                0  ...         0   \n",
       "5                      0                 0                0  ...         1   \n",
       "6                      0                 0                0  ...         1   \n",
       "7                      0                 0                0  ...         0   \n",
       "8                      0                 0                0  ...         0   \n",
       "9                      0                 1                0  ...         0   \n",
       "\n",
       "      Saldo  Contacto_cellular  Contacto_telephone  Contacto_unknown  \\\n",
       "0  0.104371                  0                   0                 1   \n",
       "1  0.078273                  0                   0                 1   \n",
       "2  0.092185                  0                   0                 1   \n",
       "3  0.105882                  0                   0                 1   \n",
       "4  0.079851                  0                   0                 1   \n",
       "5  0.077762                  0                   0                 1   \n",
       "6  0.087188                  0                   0                 1   \n",
       "7  0.083951                  0                   0                 1   \n",
       "8  0.077773                  0                   0                 1   \n",
       "9  0.135569                  0                   0                 1   \n",
       "\n",
       "   Resultado_Prev_failure  Resultado_Prev_other  Resultado_Prev_success  \\\n",
       "0                       0                     0                       0   \n",
       "1                       0                     0                       0   \n",
       "2                       0                     0                       0   \n",
       "3                       0                     0                       0   \n",
       "4                       0                     0                       0   \n",
       "5                       0                     0                       0   \n",
       "6                       0                     0                       0   \n",
       "7                       0                     0                       0   \n",
       "8                       0                     0                       0   \n",
       "9                       0                     0                       0   \n",
       "\n",
       "   Resultado_Prev_unknown  Deposito  \n",
       "0                       1         1  \n",
       "1                       1         1  \n",
       "2                       1         1  \n",
       "3                       1         1  \n",
       "4                       1         1  \n",
       "5                       1         1  \n",
       "6                       1         1  \n",
       "7                       1         1  \n",
       "8                       1         1  \n",
       "9                       1         1  \n",
       "\n",
       "[10 rows x 32 columns]"
      ]
     },
     "execution_count": 59,
     "metadata": {},
     "output_type": "execute_result"
    }
   ],
   "source": [
    "# Copia de DataSet df \n",
    "# df_norm será el DataSet con los datos normalizados\n",
    "\n",
    "df_norm = df_class.copy()\n",
    "\n",
    "# train the normalization\n",
    "scaler = MinMaxScaler()\n",
    "\n",
    "scaler = scaler.fit(df_norm)\n",
    "\n",
    "# normalize the dataset\n",
    "dfsk_norm = scaler.transform(df_norm)\n",
    "\n",
    "# Tamaño de los datos normalizados (arreglo numpy)\n",
    "print('Tamaños del DataSet Normalizazado: ')\n",
    "print(dfsk_norm.shape)\n",
    "print(' ')\n",
    "\n",
    "print('Primeros 5 datos de DataSet NO Normalizazado: ')\n",
    "print(df_new.head(5))\n",
    "print(' ')\n",
    "\n",
    "# Traslado de valores normalizados a las columnas correspondientes\n",
    "# Si se quisiera trasladar todos los datos numpy normalizados sería:\n",
    "#df_norm[:] = dfsk_norm[:]\n",
    "df_norm['Edad'] = dfsk_norm[:,0]\n",
    "df_norm['Saldo'] = dfsk_norm[:,23]\n",
    "\n",
    "print('Primeros 5 datos de DataSet Normalizado: ')\n",
    "df_norm.head(10)"
   ]
  },
  {
   "cell_type": "markdown",
   "metadata": {},
   "source": [
    "Para este Proyecto, trataremos de **Clasificar** de acuerdo a los atributos del DataSet elegidos anteriormente, si la persona puede toma un Depósito a Plazo (Clase = Deposito)."
   ]
  },
  {
   "cell_type": "markdown",
   "metadata": {},
   "source": [
    "### ESTANDARIZACIÓN de DATA (SCIKIT-LEARN)"
   ]
  },
  {
   "cell_type": "code",
   "execution_count": 60,
   "metadata": {},
   "outputs": [],
   "source": [
    "# standardize the data attributes\n",
    "#Xsk_estand_data = preprocessing.scale(XTemp)\n",
    "Xsk_estand_data = preprocessing.scale(df_class[['Edad', 'Saldo']].values)"
   ]
  },
  {
   "cell_type": "code",
   "execution_count": 61,
   "metadata": {},
   "outputs": [],
   "source": [
    "# Copia de DataSet df_class\n",
    "# df_estand será el DataSet con los datos estandarizados\n",
    "df_estand = df_class.copy()\n",
    "\n",
    "# Traslado de valores estandarizados a las columnas correspondientes\n",
    "# Si se quisiera trasladar todos los datos numpy normalizados sería:\n",
    "df_estand['Edad'] = Xsk_estand_data[:,0]\n",
    "df_estand['Saldo'] = Xsk_estand_data[:,1]"
   ]
  },
  {
   "cell_type": "code",
   "execution_count": 62,
   "metadata": {
    "scrolled": true
   },
   "outputs": [
    {
     "data": {
      "text/html": [
       "<div>\n",
       "<style scoped>\n",
       "    .dataframe tbody tr th:only-of-type {\n",
       "        vertical-align: middle;\n",
       "    }\n",
       "\n",
       "    .dataframe tbody tr th {\n",
       "        vertical-align: top;\n",
       "    }\n",
       "\n",
       "    .dataframe thead th {\n",
       "        text-align: right;\n",
       "    }\n",
       "</style>\n",
       "<table border=\"1\" class=\"dataframe\">\n",
       "  <thead>\n",
       "    <tr style=\"text-align: right;\">\n",
       "      <th></th>\n",
       "      <th>Edad</th>\n",
       "      <th>Trabajo_admin.</th>\n",
       "      <th>Trabajo_blue-collar</th>\n",
       "      <th>Trabajo_entrepreneur</th>\n",
       "      <th>Trabajo_housemaid</th>\n",
       "      <th>Trabajo_management</th>\n",
       "      <th>Trabajo_retired</th>\n",
       "      <th>Trabajo_self-employed</th>\n",
       "      <th>Trabajo_services</th>\n",
       "      <th>Trabajo_student</th>\n",
       "      <th>...</th>\n",
       "      <th>Prestamo</th>\n",
       "      <th>Saldo</th>\n",
       "      <th>Contacto_cellular</th>\n",
       "      <th>Contacto_telephone</th>\n",
       "      <th>Contacto_unknown</th>\n",
       "      <th>Resultado_Prev_failure</th>\n",
       "      <th>Resultado_Prev_other</th>\n",
       "      <th>Resultado_Prev_success</th>\n",
       "      <th>Resultado_Prev_unknown</th>\n",
       "      <th>Deposito</th>\n",
       "    </tr>\n",
       "  </thead>\n",
       "  <tbody>\n",
       "    <tr>\n",
       "      <th>0</th>\n",
       "      <td>1.491505</td>\n",
       "      <td>1</td>\n",
       "      <td>0</td>\n",
       "      <td>0</td>\n",
       "      <td>0</td>\n",
       "      <td>0</td>\n",
       "      <td>0</td>\n",
       "      <td>0</td>\n",
       "      <td>0</td>\n",
       "      <td>0</td>\n",
       "      <td>...</td>\n",
       "      <td>0</td>\n",
       "      <td>0.252525</td>\n",
       "      <td>0</td>\n",
       "      <td>0</td>\n",
       "      <td>1</td>\n",
       "      <td>0</td>\n",
       "      <td>0</td>\n",
       "      <td>0</td>\n",
       "      <td>1</td>\n",
       "      <td>1</td>\n",
       "    </tr>\n",
       "    <tr>\n",
       "      <th>1</th>\n",
       "      <td>1.239676</td>\n",
       "      <td>1</td>\n",
       "      <td>0</td>\n",
       "      <td>0</td>\n",
       "      <td>0</td>\n",
       "      <td>0</td>\n",
       "      <td>0</td>\n",
       "      <td>0</td>\n",
       "      <td>0</td>\n",
       "      <td>0</td>\n",
       "      <td>...</td>\n",
       "      <td>0</td>\n",
       "      <td>-0.459974</td>\n",
       "      <td>0</td>\n",
       "      <td>0</td>\n",
       "      <td>1</td>\n",
       "      <td>0</td>\n",
       "      <td>0</td>\n",
       "      <td>0</td>\n",
       "      <td>1</td>\n",
       "      <td>1</td>\n",
       "    </tr>\n",
       "    <tr>\n",
       "      <th>2</th>\n",
       "      <td>-0.019470</td>\n",
       "      <td>0</td>\n",
       "      <td>0</td>\n",
       "      <td>0</td>\n",
       "      <td>0</td>\n",
       "      <td>0</td>\n",
       "      <td>0</td>\n",
       "      <td>0</td>\n",
       "      <td>0</td>\n",
       "      <td>0</td>\n",
       "      <td>...</td>\n",
       "      <td>0</td>\n",
       "      <td>-0.080160</td>\n",
       "      <td>0</td>\n",
       "      <td>0</td>\n",
       "      <td>1</td>\n",
       "      <td>0</td>\n",
       "      <td>0</td>\n",
       "      <td>0</td>\n",
       "      <td>1</td>\n",
       "      <td>1</td>\n",
       "    </tr>\n",
       "    <tr>\n",
       "      <th>3</th>\n",
       "      <td>1.155733</td>\n",
       "      <td>0</td>\n",
       "      <td>0</td>\n",
       "      <td>0</td>\n",
       "      <td>0</td>\n",
       "      <td>0</td>\n",
       "      <td>0</td>\n",
       "      <td>0</td>\n",
       "      <td>1</td>\n",
       "      <td>0</td>\n",
       "      <td>...</td>\n",
       "      <td>0</td>\n",
       "      <td>0.293762</td>\n",
       "      <td>0</td>\n",
       "      <td>0</td>\n",
       "      <td>1</td>\n",
       "      <td>0</td>\n",
       "      <td>0</td>\n",
       "      <td>0</td>\n",
       "      <td>1</td>\n",
       "      <td>1</td>\n",
       "    </tr>\n",
       "    <tr>\n",
       "      <th>4</th>\n",
       "      <td>1.071790</td>\n",
       "      <td>1</td>\n",
       "      <td>0</td>\n",
       "      <td>0</td>\n",
       "      <td>0</td>\n",
       "      <td>0</td>\n",
       "      <td>0</td>\n",
       "      <td>0</td>\n",
       "      <td>0</td>\n",
       "      <td>0</td>\n",
       "      <td>...</td>\n",
       "      <td>0</td>\n",
       "      <td>-0.416876</td>\n",
       "      <td>0</td>\n",
       "      <td>0</td>\n",
       "      <td>1</td>\n",
       "      <td>0</td>\n",
       "      <td>0</td>\n",
       "      <td>0</td>\n",
       "      <td>1</td>\n",
       "      <td>1</td>\n",
       "    </tr>\n",
       "    <tr>\n",
       "      <th>5</th>\n",
       "      <td>0.064473</td>\n",
       "      <td>0</td>\n",
       "      <td>0</td>\n",
       "      <td>0</td>\n",
       "      <td>0</td>\n",
       "      <td>1</td>\n",
       "      <td>0</td>\n",
       "      <td>0</td>\n",
       "      <td>0</td>\n",
       "      <td>0</td>\n",
       "      <td>...</td>\n",
       "      <td>1</td>\n",
       "      <td>-0.473926</td>\n",
       "      <td>0</td>\n",
       "      <td>0</td>\n",
       "      <td>1</td>\n",
       "      <td>0</td>\n",
       "      <td>0</td>\n",
       "      <td>0</td>\n",
       "      <td>1</td>\n",
       "      <td>1</td>\n",
       "    </tr>\n",
       "    <tr>\n",
       "      <th>6</th>\n",
       "      <td>1.239676</td>\n",
       "      <td>0</td>\n",
       "      <td>0</td>\n",
       "      <td>0</td>\n",
       "      <td>0</td>\n",
       "      <td>1</td>\n",
       "      <td>0</td>\n",
       "      <td>0</td>\n",
       "      <td>0</td>\n",
       "      <td>0</td>\n",
       "      <td>...</td>\n",
       "      <td>1</td>\n",
       "      <td>-0.216583</td>\n",
       "      <td>0</td>\n",
       "      <td>0</td>\n",
       "      <td>1</td>\n",
       "      <td>0</td>\n",
       "      <td>0</td>\n",
       "      <td>0</td>\n",
       "      <td>1</td>\n",
       "      <td>1</td>\n",
       "    </tr>\n",
       "    <tr>\n",
       "      <th>7</th>\n",
       "      <td>1.575448</td>\n",
       "      <td>0</td>\n",
       "      <td>0</td>\n",
       "      <td>0</td>\n",
       "      <td>0</td>\n",
       "      <td>0</td>\n",
       "      <td>1</td>\n",
       "      <td>0</td>\n",
       "      <td>0</td>\n",
       "      <td>0</td>\n",
       "      <td>...</td>\n",
       "      <td>0</td>\n",
       "      <td>-0.304948</td>\n",
       "      <td>0</td>\n",
       "      <td>0</td>\n",
       "      <td>1</td>\n",
       "      <td>0</td>\n",
       "      <td>0</td>\n",
       "      <td>0</td>\n",
       "      <td>1</td>\n",
       "      <td>1</td>\n",
       "    </tr>\n",
       "    <tr>\n",
       "      <th>8</th>\n",
       "      <td>-0.355243</td>\n",
       "      <td>0</td>\n",
       "      <td>0</td>\n",
       "      <td>0</td>\n",
       "      <td>0</td>\n",
       "      <td>0</td>\n",
       "      <td>0</td>\n",
       "      <td>0</td>\n",
       "      <td>0</td>\n",
       "      <td>0</td>\n",
       "      <td>...</td>\n",
       "      <td>0</td>\n",
       "      <td>-0.473616</td>\n",
       "      <td>0</td>\n",
       "      <td>0</td>\n",
       "      <td>1</td>\n",
       "      <td>0</td>\n",
       "      <td>0</td>\n",
       "      <td>0</td>\n",
       "      <td>1</td>\n",
       "      <td>1</td>\n",
       "    </tr>\n",
       "    <tr>\n",
       "      <th>9</th>\n",
       "      <td>-1.110730</td>\n",
       "      <td>0</td>\n",
       "      <td>0</td>\n",
       "      <td>0</td>\n",
       "      <td>0</td>\n",
       "      <td>0</td>\n",
       "      <td>0</td>\n",
       "      <td>0</td>\n",
       "      <td>1</td>\n",
       "      <td>0</td>\n",
       "      <td>...</td>\n",
       "      <td>0</td>\n",
       "      <td>1.104237</td>\n",
       "      <td>0</td>\n",
       "      <td>0</td>\n",
       "      <td>1</td>\n",
       "      <td>0</td>\n",
       "      <td>0</td>\n",
       "      <td>0</td>\n",
       "      <td>1</td>\n",
       "      <td>1</td>\n",
       "    </tr>\n",
       "  </tbody>\n",
       "</table>\n",
       "<p>10 rows × 32 columns</p>\n",
       "</div>"
      ],
      "text/plain": [
       "       Edad  Trabajo_admin.  Trabajo_blue-collar  Trabajo_entrepreneur  \\\n",
       "0  1.491505               1                    0                     0   \n",
       "1  1.239676               1                    0                     0   \n",
       "2 -0.019470               0                    0                     0   \n",
       "3  1.155733               0                    0                     0   \n",
       "4  1.071790               1                    0                     0   \n",
       "5  0.064473               0                    0                     0   \n",
       "6  1.239676               0                    0                     0   \n",
       "7  1.575448               0                    0                     0   \n",
       "8 -0.355243               0                    0                     0   \n",
       "9 -1.110730               0                    0                     0   \n",
       "\n",
       "   Trabajo_housemaid  Trabajo_management  Trabajo_retired  \\\n",
       "0                  0                   0                0   \n",
       "1                  0                   0                0   \n",
       "2                  0                   0                0   \n",
       "3                  0                   0                0   \n",
       "4                  0                   0                0   \n",
       "5                  0                   1                0   \n",
       "6                  0                   1                0   \n",
       "7                  0                   0                1   \n",
       "8                  0                   0                0   \n",
       "9                  0                   0                0   \n",
       "\n",
       "   Trabajo_self-employed  Trabajo_services  Trabajo_student  ...  Prestamo  \\\n",
       "0                      0                 0                0  ...         0   \n",
       "1                      0                 0                0  ...         0   \n",
       "2                      0                 0                0  ...         0   \n",
       "3                      0                 1                0  ...         0   \n",
       "4                      0                 0                0  ...         0   \n",
       "5                      0                 0                0  ...         1   \n",
       "6                      0                 0                0  ...         1   \n",
       "7                      0                 0                0  ...         0   \n",
       "8                      0                 0                0  ...         0   \n",
       "9                      0                 1                0  ...         0   \n",
       "\n",
       "      Saldo  Contacto_cellular  Contacto_telephone  Contacto_unknown  \\\n",
       "0  0.252525                  0                   0                 1   \n",
       "1 -0.459974                  0                   0                 1   \n",
       "2 -0.080160                  0                   0                 1   \n",
       "3  0.293762                  0                   0                 1   \n",
       "4 -0.416876                  0                   0                 1   \n",
       "5 -0.473926                  0                   0                 1   \n",
       "6 -0.216583                  0                   0                 1   \n",
       "7 -0.304948                  0                   0                 1   \n",
       "8 -0.473616                  0                   0                 1   \n",
       "9  1.104237                  0                   0                 1   \n",
       "\n",
       "   Resultado_Prev_failure  Resultado_Prev_other  Resultado_Prev_success  \\\n",
       "0                       0                     0                       0   \n",
       "1                       0                     0                       0   \n",
       "2                       0                     0                       0   \n",
       "3                       0                     0                       0   \n",
       "4                       0                     0                       0   \n",
       "5                       0                     0                       0   \n",
       "6                       0                     0                       0   \n",
       "7                       0                     0                       0   \n",
       "8                       0                     0                       0   \n",
       "9                       0                     0                       0   \n",
       "\n",
       "   Resultado_Prev_unknown  Deposito  \n",
       "0                       1         1  \n",
       "1                       1         1  \n",
       "2                       1         1  \n",
       "3                       1         1  \n",
       "4                       1         1  \n",
       "5                       1         1  \n",
       "6                       1         1  \n",
       "7                       1         1  \n",
       "8                       1         1  \n",
       "9                       1         1  \n",
       "\n",
       "[10 rows x 32 columns]"
      ]
     },
     "execution_count": 62,
     "metadata": {},
     "output_type": "execute_result"
    }
   ],
   "source": [
    "df_estand.head(10)"
   ]
  },
  {
   "cell_type": "markdown",
   "metadata": {},
   "source": [
    "### Modelos de CLASIFICACIÓN"
   ]
  },
  {
   "cell_type": "markdown",
   "metadata": {},
   "source": [
    "La estandarización supone que sus observaciones se ajustan a una distribución gaussiana (curva de campana) con una media y una desviación estándar bien comportadas. Si no se cumple esta expectativa, es posible que no se obtenga resultados confiables.\n",
    "\n",
    "Esto incluye algoritmos como Máquinas de vectores de soporte, Regresión lineal y logística, y otros algoritmos que suponen o tienen un rendimiento mejorado con datos gaussianos.\n",
    "\n",
    "Para este Proyecto, emplearemos los modelos de Clasificación:\n",
    "\n",
    "* **Logistic Regression.**\n",
    "\n",
    "* **Decision Tree.**\n",
    "\n",
    "* **Random Forest.**\n",
    "\n",
    "Por este motivo, emplearemos datos **ESTANDARIZADOS** en la evaluación de los datos del dataset.\n",
    "\n"
   ]
  },
  {
   "cell_type": "markdown",
   "metadata": {},
   "source": [
    "## <font color = 'red'>EVALUACIÓN #1</font>"
   ]
  },
  {
   "cell_type": "markdown",
   "metadata": {},
   "source": [
    "**Escogencia de features y label del modelo a emplear:**"
   ]
  },
  {
   "cell_type": "code",
   "execution_count": 63,
   "metadata": {},
   "outputs": [],
   "source": [
    "#features = df_norm[df_norm.columns[df_norm.columns !='Deposito']]\n",
    "#labels = df_norm['Deposito']\n",
    "\n",
    "features = df_estand[df_estand.columns[df_estand.columns !='Deposito']]\n",
    "labels = df_estand['Deposito']"
   ]
  },
  {
   "cell_type": "markdown",
   "metadata": {},
   "source": [
    "**Partición del DataSet en Datos de Training y Testing**:\n",
    "\n",
    "Se empleará 70% de datos para el training, 30% de datos para testing"
   ]
  },
  {
   "cell_type": "code",
   "execution_count": 64,
   "metadata": {
    "scrolled": true
   },
   "outputs": [],
   "source": [
    "X_train,X_test, y_train, y_test = train_test_split(features, labels, test_size=0.30, random_state = 9)\n",
    "#X_train_norm,X_test_norm, y_train_norm, y_test_norm = train_test_split(features1, labels1, test_size=0.20, random_state = 13)"
   ]
  },
  {
   "cell_type": "markdown",
   "metadata": {},
   "source": [
    "Verificación de tamaños de los datos de Training y Testing:"
   ]
  },
  {
   "cell_type": "code",
   "execution_count": 65,
   "metadata": {},
   "outputs": [
    {
     "name": "stdout",
     "output_type": "stream",
     "text": [
      "Tamaño de X_train: \n",
      "(7813, 31)\n",
      " \n",
      "Tamaño de X_test: \n",
      "(3349, 31)\n",
      " \n",
      "Tamaño de y_train: \n",
      "(7813,)\n",
      " \n",
      "Tamaño de y_test: \n",
      "(3349,)\n"
     ]
    }
   ],
   "source": [
    "print('Tamaño de X_train: ')\n",
    "print(X_train.shape)\n",
    "print(' ')\n",
    "print('Tamaño de X_test: ')\n",
    "print(X_test.shape)\n",
    "print(' ')\n",
    "print('Tamaño de y_train: ')\n",
    "print(y_train.shape)\n",
    "print(' ')\n",
    "print('Tamaño de y_test: ')\n",
    "print(y_test.shape)\n"
   ]
  },
  {
   "cell_type": "markdown",
   "metadata": {},
   "source": [
    "### 1) Logistic Regression"
   ]
  },
  {
   "cell_type": "markdown",
   "metadata": {},
   "source": [
    "**Implementación del Clasificador**\n",
    "\n",
    "Importación del Modelo del Clasificador de sklearn"
   ]
  },
  {
   "cell_type": "code",
   "execution_count": 66,
   "metadata": {},
   "outputs": [],
   "source": [
    "from sklearn.linear_model import LogisticRegression"
   ]
  },
  {
   "cell_type": "markdown",
   "metadata": {},
   "source": [
    "**Definición del modelo del clasificador**"
   ]
  },
  {
   "cell_type": "code",
   "execution_count": 67,
   "metadata": {},
   "outputs": [],
   "source": [
    "classifier = LogisticRegression(random_state = 0)\n",
    "#classifier = LogisticRegression(random_state = 0, max_iter=1000, solver='lbfgs', multi_class='multinomial')"
   ]
  },
  {
   "cell_type": "markdown",
   "metadata": {},
   "source": [
    "**Entrenamiento del Clasificador**"
   ]
  },
  {
   "cell_type": "code",
   "execution_count": 68,
   "metadata": {
    "scrolled": true
   },
   "outputs": [
    {
     "name": "stderr",
     "output_type": "stream",
     "text": [
      "C:\\Users\\rasala\\AppData\\Local\\Continuum\\miniconda3\\envs\\py3\\lib\\site-packages\\sklearn\\linear_model\\logistic.py:432: FutureWarning: Default solver will be changed to 'lbfgs' in 0.22. Specify a solver to silence this warning.\n",
      "  FutureWarning)\n"
     ]
    },
    {
     "data": {
      "text/plain": [
       "LogisticRegression(C=1.0, class_weight=None, dual=False, fit_intercept=True,\n",
       "                   intercept_scaling=1, l1_ratio=None, max_iter=100,\n",
       "                   multi_class='warn', n_jobs=None, penalty='l2',\n",
       "                   random_state=0, solver='warn', tol=0.0001, verbose=0,\n",
       "                   warm_start=False)"
      ]
     },
     "execution_count": 68,
     "metadata": {},
     "output_type": "execute_result"
    }
   ],
   "source": [
    "classifier.fit(X_train, y_train)\n",
    "#classifier.fit(X_train_norm, y_train_norm)"
   ]
  },
  {
   "cell_type": "markdown",
   "metadata": {},
   "source": [
    "**Predicción de los valores de Test**"
   ]
  },
  {
   "cell_type": "code",
   "execution_count": 69,
   "metadata": {},
   "outputs": [],
   "source": [
    "y_pred = classifier.predict(X_test)\n",
    "#y_pred_norm = classifier.predict(X_test_norm)"
   ]
  },
  {
   "cell_type": "markdown",
   "metadata": {},
   "source": [
    "**Resultados obtenidos por el modelo con valores Test:**"
   ]
  },
  {
   "cell_type": "code",
   "execution_count": 70,
   "metadata": {
    "scrolled": true
   },
   "outputs": [
    {
     "name": "stdout",
     "output_type": "stream",
     "text": [
      "Score Test DataSet NORMALIZADO: \n",
      "67.42311137653031\n",
      " \n",
      "Score Test DataSet NO NORMALIZADO: \n"
     ]
    }
   ],
   "source": [
    "score_test =classifier.score(X_test, y_test)\n",
    "#score_test_norm =classifier.score(X_test_norm, y_test_norm)\n",
    "\n",
    "print('Score Test DataSet NORMALIZADO: ')\n",
    "print(score_test * 100)\n",
    "print(' ')\n",
    "print('Score Test DataSet NO NORMALIZADO: ')\n",
    "#print(score_test_norm * 100)"
   ]
  },
  {
   "cell_type": "markdown",
   "metadata": {},
   "source": [
    "### 2) Decision Tree"
   ]
  },
  {
   "cell_type": "markdown",
   "metadata": {},
   "source": [
    "**Partición del DataSet en Datos de Training y Testing**:\n",
    "\n",
    "Se empleará 80% de datos para el training, 20% de datos para testing"
   ]
  },
  {
   "cell_type": "code",
   "execution_count": 71,
   "metadata": {
    "scrolled": true
   },
   "outputs": [],
   "source": [
    "X_train,X_test, y_train, y_test = train_test_split(features, labels, test_size=0.20, random_state = 13)"
   ]
  },
  {
   "cell_type": "markdown",
   "metadata": {},
   "source": [
    "**Implementación del Clasificador**\n",
    "\n",
    "Importación del Modelo del Clasificador de sklearn"
   ]
  },
  {
   "cell_type": "code",
   "execution_count": 72,
   "metadata": {},
   "outputs": [],
   "source": [
    "from sklearn.tree import DecisionTreeClassifier"
   ]
  },
  {
   "cell_type": "markdown",
   "metadata": {},
   "source": [
    "**Definición del modelo del clasificador**\n",
    "\n",
    "Se le da profundidad = 9"
   ]
  },
  {
   "cell_type": "code",
   "execution_count": 73,
   "metadata": {},
   "outputs": [],
   "source": [
    "DecisionTreeModel = DecisionTreeClassifier(max_depth = 9)"
   ]
  },
  {
   "cell_type": "markdown",
   "metadata": {},
   "source": [
    "**Entrenamiento del Clasificador**"
   ]
  },
  {
   "cell_type": "code",
   "execution_count": 74,
   "metadata": {},
   "outputs": [
    {
     "data": {
      "text/plain": [
       "DecisionTreeClassifier(class_weight=None, criterion='gini', max_depth=9,\n",
       "                       max_features=None, max_leaf_nodes=None,\n",
       "                       min_impurity_decrease=0.0, min_impurity_split=None,\n",
       "                       min_samples_leaf=1, min_samples_split=2,\n",
       "                       min_weight_fraction_leaf=0.0, presort=False,\n",
       "                       random_state=None, splitter='best')"
      ]
     },
     "execution_count": 74,
     "metadata": {},
     "output_type": "execute_result"
    }
   ],
   "source": [
    "DecisionTreeModel.fit(X_train,y_train)"
   ]
  },
  {
   "cell_type": "markdown",
   "metadata": {},
   "source": [
    "**Predicción de los valores de Test**"
   ]
  },
  {
   "cell_type": "code",
   "execution_count": 75,
   "metadata": {},
   "outputs": [],
   "source": [
    "y_predict = DecisionTreeModel.predict(X_test)"
   ]
  },
  {
   "cell_type": "markdown",
   "metadata": {},
   "source": [
    "**Resultados obtenidos por el modelo con valores Test:**"
   ]
  },
  {
   "cell_type": "markdown",
   "metadata": {},
   "source": [
    "Se importa la metrica"
   ]
  },
  {
   "cell_type": "code",
   "execution_count": 76,
   "metadata": {},
   "outputs": [],
   "source": [
    "from sklearn.metrics import accuracy_score"
   ]
  },
  {
   "cell_type": "markdown",
   "metadata": {},
   "source": [
    "**Precisión de la clasificación del testing**"
   ]
  },
  {
   "cell_type": "code",
   "execution_count": 77,
   "metadata": {},
   "outputs": [
    {
     "data": {
      "text/plain": [
       "0.6824899238692342"
      ]
     },
     "execution_count": 77,
     "metadata": {},
     "output_type": "execute_result"
    }
   ],
   "source": [
    "dt1 = accuracy_score(y_test, y_predict)\n",
    "dt1"
   ]
  },
  {
   "cell_type": "markdown",
   "metadata": {},
   "source": [
    "**Visualización del Árbol:**"
   ]
  },
  {
   "cell_type": "code",
   "execution_count": 78,
   "metadata": {},
   "outputs": [
    {
     "data": {
      "text/plain": [
       "0"
      ]
     },
     "execution_count": 78,
     "metadata": {},
     "output_type": "execute_result"
    }
   ],
   "source": [
    "from sklearn.tree import export_graphviz\n",
    "export_graphviz(DecisionTreeModel, out_file='simple_tree.dot', feature_names=features.columns,impurity=False,class_names=[deposito[0],deposito[1]],filled=True)\n",
    "from subprocess import call\n",
    "call(['dot', '-T', 'png', 'simple_tree.dot', '-o', 'simple_tree.png'],shell=True)"
   ]
  },
  {
   "cell_type": "markdown",
   "metadata": {},
   "source": [
    "Desplegamos la imagen del árbol con las siguiente instrucción:\n",
    "    <img src='simple_tree.png' width = 1000px> "
   ]
  },
  {
   "cell_type": "markdown",
   "metadata": {},
   "source": [
    "### 3) Random Forest"
   ]
  },
  {
   "cell_type": "markdown",
   "metadata": {},
   "source": [
    "**Partición del DataSet en Datos de Training y Testing**:\n",
    "\n",
    "Se empleará 70% de datos para el training, 30% de datos para testing"
   ]
  },
  {
   "cell_type": "code",
   "execution_count": 79,
   "metadata": {
    "scrolled": true
   },
   "outputs": [],
   "source": [
    "X_train,X_test, y_train, y_test = train_test_split(features, labels, test_size=0.30, random_state = 2)"
   ]
  },
  {
   "cell_type": "markdown",
   "metadata": {},
   "source": [
    "**Definición del modelo del clasificador**"
   ]
  },
  {
   "cell_type": "code",
   "execution_count": 80,
   "metadata": {},
   "outputs": [],
   "source": [
    "RandomForestModel = RandomForestClassifier(min_samples_leaf=3,min_samples_split=15,n_estimators=500, max_depth= 7, random_state=10)"
   ]
  },
  {
   "cell_type": "markdown",
   "metadata": {},
   "source": [
    "**Entrenamiento del Clasificador**"
   ]
  },
  {
   "cell_type": "code",
   "execution_count": 81,
   "metadata": {},
   "outputs": [
    {
     "data": {
      "text/plain": [
       "RandomForestClassifier(bootstrap=True, class_weight=None, criterion='gini',\n",
       "                       max_depth=7, max_features='auto', max_leaf_nodes=None,\n",
       "                       min_impurity_decrease=0.0, min_impurity_split=None,\n",
       "                       min_samples_leaf=3, min_samples_split=15,\n",
       "                       min_weight_fraction_leaf=0.0, n_estimators=500,\n",
       "                       n_jobs=None, oob_score=False, random_state=10, verbose=0,\n",
       "                       warm_start=False)"
      ]
     },
     "execution_count": 81,
     "metadata": {},
     "output_type": "execute_result"
    }
   ],
   "source": [
    "RandomForestModel.fit(X_train, y_train)"
   ]
  },
  {
   "cell_type": "markdown",
   "metadata": {},
   "source": [
    "**Predicción de los valores de Test**"
   ]
  },
  {
   "cell_type": "code",
   "execution_count": 82,
   "metadata": {},
   "outputs": [],
   "source": [
    "y_predict = RandomForestModel.predict(X_test)"
   ]
  },
  {
   "cell_type": "markdown",
   "metadata": {},
   "source": [
    "**Precisión de la clasificación del testing**"
   ]
  },
  {
   "cell_type": "code",
   "execution_count": 83,
   "metadata": {},
   "outputs": [
    {
     "data": {
      "text/plain": [
       "0.7002090176171991"
      ]
     },
     "execution_count": 83,
     "metadata": {},
     "output_type": "execute_result"
    }
   ],
   "source": [
    "rf = accuracy_score(y_test,y_predict)\n",
    "rf"
   ]
  },
  {
   "cell_type": "markdown",
   "metadata": {},
   "source": [
    "**Visualización del Árbol:**"
   ]
  },
  {
   "cell_type": "code",
   "execution_count": 84,
   "metadata": {},
   "outputs": [
    {
     "data": {
      "text/plain": [
       "0"
      ]
     },
     "execution_count": 84,
     "metadata": {},
     "output_type": "execute_result"
    }
   ],
   "source": [
    "from sklearn.tree import export_graphviz\n",
    "estimator = RandomForestModel.estimators_[0]\n",
    "export_graphviz(estimator, out_file='complete_tree.dot', feature_names=features.columns,impurity=False,class_names=[deposito[0],deposito[1]],filled=True)\n",
    "from subprocess import call\n",
    "call(['dot', '-T', 'png', 'complete_tree.dot', '-o', 'complete_tree.png'],shell=True)"
   ]
  },
  {
   "cell_type": "markdown",
   "metadata": {},
   "source": [
    "<img src='complete_tree.png' width = 1000px>"
   ]
  },
  {
   "cell_type": "code",
   "execution_count": 85,
   "metadata": {},
   "outputs": [],
   "source": [
    "importances = pd.DataFrame({'feature' : X_train.columns, 'importance':RandomForestModel.feature_importances_})"
   ]
  },
  {
   "cell_type": "code",
   "execution_count": 86,
   "metadata": {},
   "outputs": [],
   "source": [
    "importances = pd.DataFrame({'feature' : X_train.columns, 'importance':RandomForestModel.feature_importances_})"
   ]
  },
  {
   "cell_type": "code",
   "execution_count": 87,
   "metadata": {},
   "outputs": [],
   "source": [
    "importances = importances.sort_values('importance', ascending = False).set_index('feature')"
   ]
  },
  {
   "cell_type": "code",
   "execution_count": 88,
   "metadata": {},
   "outputs": [
    {
     "data": {
      "text/html": [
       "<div>\n",
       "<style scoped>\n",
       "    .dataframe tbody tr th:only-of-type {\n",
       "        vertical-align: middle;\n",
       "    }\n",
       "\n",
       "    .dataframe tbody tr th {\n",
       "        vertical-align: top;\n",
       "    }\n",
       "\n",
       "    .dataframe thead th {\n",
       "        text-align: right;\n",
       "    }\n",
       "</style>\n",
       "<table border=\"1\" class=\"dataframe\">\n",
       "  <thead>\n",
       "    <tr style=\"text-align: right;\">\n",
       "      <th></th>\n",
       "      <th>importance</th>\n",
       "    </tr>\n",
       "    <tr>\n",
       "      <th>feature</th>\n",
       "      <th></th>\n",
       "    </tr>\n",
       "  </thead>\n",
       "  <tbody>\n",
       "    <tr>\n",
       "      <th>Resultado_Prev_success</th>\n",
       "      <td>0.227845</td>\n",
       "    </tr>\n",
       "    <tr>\n",
       "      <th>Contacto_unknown</th>\n",
       "      <td>0.137315</td>\n",
       "    </tr>\n",
       "    <tr>\n",
       "      <th>Edad</th>\n",
       "      <td>0.118336</td>\n",
       "    </tr>\n",
       "    <tr>\n",
       "      <th>Saldo</th>\n",
       "      <td>0.093876</td>\n",
       "    </tr>\n",
       "    <tr>\n",
       "      <th>Resultado_Prev_unknown</th>\n",
       "      <td>0.087806</td>\n",
       "    </tr>\n",
       "    <tr>\n",
       "      <th>Contacto_cellular</th>\n",
       "      <td>0.081545</td>\n",
       "    </tr>\n",
       "    <tr>\n",
       "      <th>Prestamo_Viv</th>\n",
       "      <td>0.075100</td>\n",
       "    </tr>\n",
       "    <tr>\n",
       "      <th>Prestamo</th>\n",
       "      <td>0.027749</td>\n",
       "    </tr>\n",
       "    <tr>\n",
       "      <th>Marital_single</th>\n",
       "      <td>0.017417</td>\n",
       "    </tr>\n",
       "  </tbody>\n",
       "</table>\n",
       "</div>"
      ],
      "text/plain": [
       "                        importance\n",
       "feature                           \n",
       "Resultado_Prev_success    0.227845\n",
       "Contacto_unknown          0.137315\n",
       "Edad                      0.118336\n",
       "Saldo                     0.093876\n",
       "Resultado_Prev_unknown    0.087806\n",
       "Contacto_cellular         0.081545\n",
       "Prestamo_Viv              0.075100\n",
       "Prestamo                  0.027749\n",
       "Marital_single            0.017417"
      ]
     },
     "execution_count": 88,
     "metadata": {},
     "output_type": "execute_result"
    }
   ],
   "source": [
    "importances.head(9)"
   ]
  },
  {
   "cell_type": "code",
   "execution_count": 89,
   "metadata": {},
   "outputs": [],
   "source": [
    "from matplotlib import pyplot as plt\n",
    "plt.style.use('ggplot')"
   ]
  },
  {
   "cell_type": "code",
   "execution_count": 90,
   "metadata": {},
   "outputs": [
    {
     "data": {
      "text/plain": [
       "<matplotlib.axes._subplots.AxesSubplot at 0x21a04fbe6a0>"
      ]
     },
     "execution_count": 90,
     "metadata": {},
     "output_type": "execute_result"
    },
    {
     "data": {
      "image/png": "[encoded data removed]",
      "text/plain": [
       "<Figure size 432x288 with 1 Axes>"
      ]
     },
     "metadata": {},
     "output_type": "display_data"
    }
   ],
   "source": [
    "importances.plot.bar()"
   ]
  },
  {
   "cell_type": "markdown",
   "metadata": {},
   "source": [
    "**Resumen de Precisiones Obtenidas:**"
   ]
  },
  {
   "cell_type": "markdown",
   "metadata": {},
   "source": [
    "Clasificador | Precisión (%)\n",
    "------------ | ------------- \n",
    "Logistic Regression | 67,42 % \n",
    "Decision Tree | 68,20 % \n",
    "Random Forest | 70,02 % "
   ]
  },
  {
   "cell_type": "markdown",
   "metadata": {},
   "source": [
    "## <font color = 'red'>EVALUACIÓN #2</font>"
   ]
  },
  {
   "cell_type": "markdown",
   "metadata": {},
   "source": [
    "Debido a que la precisión obtenida con los tres modelos de clasificación fue muy similar, luego de variar los **parámetros**:\n",
    "\n",
    "**test_size, random_state** en el train_test_split.\n",
    "\n",
    "**random_state, max_iter** en la definición del modelo del Clasificador Logistic Regression.\n",
    "\n",
    "**random_state, max_depth** en la definición del modelo del Clasificador Decision Tree.\n",
    "\n",
    "**random_state, test_size, min_samples_split, min_sample_leaf, max_depht** en la definición del modelo del Clasificador Random Forest.\n",
    "\n",
    "\n",
    "Definimos que la manera de poder incrementar la precisión del modelo, era **aumentando la cantidad de features a evaluar**, lo que se procedió a efectuar en esta **EVALUACIÓN #2**."
   ]
  },
  {
   "cell_type": "markdown",
   "metadata": {},
   "source": [
    "### **ATRIBUTOS / LABEL A EMPLEAR EN EL MODELO DE CLASIFICACIÓN**"
   ]
  },
  {
   "cell_type": "markdown",
   "metadata": {},
   "source": [
    "Se utilizará los siguientes atributos en el modelo de clasificación:\n",
    "\n",
    "## <font color='green'>**FEATURES** </font>: \n",
    "\n",
    "<font color='blue'>**Edad**</font>       = **age** <font color='magenta'>(DATO NUMÉRICO)</font>\n",
    "\n",
    "<font color='blue'>**Trabajo**</font>       = **job** <font color='magenta'>(DATO CATEGÓRICO)</font>\n",
    "     \n",
    "<font color='blue'>**Marital**</font>      = **marital** <font color='magenta'>(DATO CATEGÓRICO)</font>\n",
    " \n",
    "<font color='blue'>**Educacion**</font>      = **education** <font color='magenta'>(DATO CATEGÓRICO)</font>\n",
    " \n",
    "<font color='blue'>**Credito_Inc**</font>     = **default** <font color='magenta'>(DATO CATEGÓRICO - BINARIO)</font>\n",
    "     \n",
    "<font color='blue'>**Prestamo_Viv**</font>  = **housing** <font color='magenta'>(DATO CATEGÓRICO - BINARIO)</font>\n",
    " \n",
    "<font color='blue'>**Prestamo**</font>     = **loan** <font color='magenta'>(DATO CATEGÓRICO - BINARIO)</font>\n",
    "\n",
    "<font color='blue'>**Saldo**</font>       = **balance** <font color='magenta'>(DATO NUMÉRICO)</font>\n",
    " \n",
    "<font color='blue'>**Contacto**</font>  = **contact** <font color='magenta'>(DATO CATEGÓRICO)</font>\n",
    " \n",
    "<font color='blue'>**Mes**</font> = **month** <font color='magenta'>(DATO CATEGÓRICO)</font>\n",
    " \n",
    "<font color='blue'>**Dia**</font>   = **day** <font color='red'>(DATO NUMÉRICO)</font>\n",
    "\n",
    "<font color='blue'>**Duracion**</font>   = **day** <font color='red'>(DATO NUMÉRICO)</font>\n",
    "\n",
    "<font color='blue'>**Campana**</font>   = **day** <font color='red'>(DATO NUMÉRICO)</font>\n",
    "\n",
    "<font color='blue'>**Dias_Prev**</font>   = **day** <font color='red'>(DATO NUMÉRICO)</font>\n",
    "\n",
    "<font color='blue'>**Previo**</font>   = **day** <font color='red'>(DATO NUMÉRICO)</font>\n",
    " \n",
    "<font color='blue'>**Resultado_Prev**</font>  = **poutcome** <font color='magenta'>(DATO CATEGÓRICO)</font>\n",
    "\n",
    "\n",
    "\n",
    "## <font color='red'>**LABEL** </font>: \n",
    "\n",
    "<font color='blue'>**Deposito**</font>  = **deposit** <font color='magenta'>(DATO CATEGÓRICO - BINARIO)</font>\n",
    "\n",
    "\n",
    "\n",
    " \n",
    "\n"
   ]
  },
  {
   "cell_type": "markdown",
   "metadata": {},
   "source": [
    "##### Asignación de Atributos a evaluar en el dataset :"
   ]
  },
  {
   "cell_type": "code",
   "execution_count": 91,
   "metadata": {},
   "outputs": [],
   "source": [
    "df_class = df_new.copy()\n",
    "df_class = df_class[['Edad', 'Trabajo_admin.', 'Trabajo_blue-collar', 'Trabajo_entrepreneur', 'Trabajo_housemaid', \n",
    "                   'Trabajo_management', 'Trabajo_retired', 'Trabajo_self-employed', 'Trabajo_services', 'Trabajo_student', \n",
    "                   'Trabajo_technician', 'Trabajo_unemployed', 'Trabajo_unknown', 'Marital_divorced', 'Marital_married', \n",
    "                   'Marital_single', 'Educacion_primary', 'Educacion_secondary', 'Educacion_tertiary', 'Educacion_unknown', \n",
    "                   'Credito_Inc', 'Prestamo_Viv', 'Prestamo', 'Saldo', 'Contacto_cellular', 'Contacto_telephone', \n",
    "                   'Contacto_unknown', 'Mes_apr', 'Mes_aug', 'Mes_dec', 'Mes_feb', 'Mes_jan', 'Mes_jul', 'Mes_jun', 'Mes_mar', \n",
    "                    'Mes_may', 'Mes_nov', 'Mes_oct', 'Mes_sep', 'Dia', 'Duracion', 'Campana', 'Dias_Prev', 'Previo', \n",
    "                    'Resultado_Prev_failure', 'Resultado_Prev_other', 'Resultado_Prev_success', 'Resultado_Prev_unknown', \n",
    "                    'Deposito']]"
   ]
  },
  {
   "cell_type": "markdown",
   "metadata": {},
   "source": [
    "##### Visualización del dataset con atributos a evaluar:"
   ]
  },
  {
   "cell_type": "code",
   "execution_count": 92,
   "metadata": {
    "scrolled": false
   },
   "outputs": [
    {
     "data": {
      "text/html": [
       "<div>\n",
       "<style scoped>\n",
       "    .dataframe tbody tr th:only-of-type {\n",
       "        vertical-align: middle;\n",
       "    }\n",
       "\n",
       "    .dataframe tbody tr th {\n",
       "        vertical-align: top;\n",
       "    }\n",
       "\n",
       "    .dataframe thead th {\n",
       "        text-align: right;\n",
       "    }\n",
       "</style>\n",
       "<table border=\"1\" class=\"dataframe\">\n",
       "  <thead>\n",
       "    <tr style=\"text-align: right;\">\n",
       "      <th></th>\n",
       "      <th>Edad</th>\n",
       "      <th>Trabajo_admin.</th>\n",
       "      <th>Trabajo_blue-collar</th>\n",
       "      <th>Trabajo_entrepreneur</th>\n",
       "      <th>Trabajo_housemaid</th>\n",
       "      <th>Trabajo_management</th>\n",
       "      <th>Trabajo_retired</th>\n",
       "      <th>Trabajo_self-employed</th>\n",
       "      <th>Trabajo_services</th>\n",
       "      <th>Trabajo_student</th>\n",
       "      <th>...</th>\n",
       "      <th>Dia</th>\n",
       "      <th>Duracion</th>\n",
       "      <th>Campana</th>\n",
       "      <th>Dias_Prev</th>\n",
       "      <th>Previo</th>\n",
       "      <th>Resultado_Prev_failure</th>\n",
       "      <th>Resultado_Prev_other</th>\n",
       "      <th>Resultado_Prev_success</th>\n",
       "      <th>Resultado_Prev_unknown</th>\n",
       "      <th>Deposito</th>\n",
       "    </tr>\n",
       "  </thead>\n",
       "  <tbody>\n",
       "    <tr>\n",
       "      <th>0</th>\n",
       "      <td>59</td>\n",
       "      <td>1</td>\n",
       "      <td>0</td>\n",
       "      <td>0</td>\n",
       "      <td>0</td>\n",
       "      <td>0</td>\n",
       "      <td>0</td>\n",
       "      <td>0</td>\n",
       "      <td>0</td>\n",
       "      <td>0</td>\n",
       "      <td>...</td>\n",
       "      <td>5</td>\n",
       "      <td>1042</td>\n",
       "      <td>1</td>\n",
       "      <td>-1</td>\n",
       "      <td>0</td>\n",
       "      <td>0</td>\n",
       "      <td>0</td>\n",
       "      <td>0</td>\n",
       "      <td>1</td>\n",
       "      <td>1</td>\n",
       "    </tr>\n",
       "    <tr>\n",
       "      <th>1</th>\n",
       "      <td>56</td>\n",
       "      <td>1</td>\n",
       "      <td>0</td>\n",
       "      <td>0</td>\n",
       "      <td>0</td>\n",
       "      <td>0</td>\n",
       "      <td>0</td>\n",
       "      <td>0</td>\n",
       "      <td>0</td>\n",
       "      <td>0</td>\n",
       "      <td>...</td>\n",
       "      <td>5</td>\n",
       "      <td>1467</td>\n",
       "      <td>1</td>\n",
       "      <td>-1</td>\n",
       "      <td>0</td>\n",
       "      <td>0</td>\n",
       "      <td>0</td>\n",
       "      <td>0</td>\n",
       "      <td>1</td>\n",
       "      <td>1</td>\n",
       "    </tr>\n",
       "    <tr>\n",
       "      <th>2</th>\n",
       "      <td>41</td>\n",
       "      <td>0</td>\n",
       "      <td>0</td>\n",
       "      <td>0</td>\n",
       "      <td>0</td>\n",
       "      <td>0</td>\n",
       "      <td>0</td>\n",
       "      <td>0</td>\n",
       "      <td>0</td>\n",
       "      <td>0</td>\n",
       "      <td>...</td>\n",
       "      <td>5</td>\n",
       "      <td>1389</td>\n",
       "      <td>1</td>\n",
       "      <td>-1</td>\n",
       "      <td>0</td>\n",
       "      <td>0</td>\n",
       "      <td>0</td>\n",
       "      <td>0</td>\n",
       "      <td>1</td>\n",
       "      <td>1</td>\n",
       "    </tr>\n",
       "    <tr>\n",
       "      <th>3</th>\n",
       "      <td>55</td>\n",
       "      <td>0</td>\n",
       "      <td>0</td>\n",
       "      <td>0</td>\n",
       "      <td>0</td>\n",
       "      <td>0</td>\n",
       "      <td>0</td>\n",
       "      <td>0</td>\n",
       "      <td>1</td>\n",
       "      <td>0</td>\n",
       "      <td>...</td>\n",
       "      <td>5</td>\n",
       "      <td>579</td>\n",
       "      <td>1</td>\n",
       "      <td>-1</td>\n",
       "      <td>0</td>\n",
       "      <td>0</td>\n",
       "      <td>0</td>\n",
       "      <td>0</td>\n",
       "      <td>1</td>\n",
       "      <td>1</td>\n",
       "    </tr>\n",
       "    <tr>\n",
       "      <th>4</th>\n",
       "      <td>54</td>\n",
       "      <td>1</td>\n",
       "      <td>0</td>\n",
       "      <td>0</td>\n",
       "      <td>0</td>\n",
       "      <td>0</td>\n",
       "      <td>0</td>\n",
       "      <td>0</td>\n",
       "      <td>0</td>\n",
       "      <td>0</td>\n",
       "      <td>...</td>\n",
       "      <td>5</td>\n",
       "      <td>673</td>\n",
       "      <td>2</td>\n",
       "      <td>-1</td>\n",
       "      <td>0</td>\n",
       "      <td>0</td>\n",
       "      <td>0</td>\n",
       "      <td>0</td>\n",
       "      <td>1</td>\n",
       "      <td>1</td>\n",
       "    </tr>\n",
       "    <tr>\n",
       "      <th>5</th>\n",
       "      <td>42</td>\n",
       "      <td>0</td>\n",
       "      <td>0</td>\n",
       "      <td>0</td>\n",
       "      <td>0</td>\n",
       "      <td>1</td>\n",
       "      <td>0</td>\n",
       "      <td>0</td>\n",
       "      <td>0</td>\n",
       "      <td>0</td>\n",
       "      <td>...</td>\n",
       "      <td>5</td>\n",
       "      <td>562</td>\n",
       "      <td>2</td>\n",
       "      <td>-1</td>\n",
       "      <td>0</td>\n",
       "      <td>0</td>\n",
       "      <td>0</td>\n",
       "      <td>0</td>\n",
       "      <td>1</td>\n",
       "      <td>1</td>\n",
       "    </tr>\n",
       "    <tr>\n",
       "      <th>6</th>\n",
       "      <td>56</td>\n",
       "      <td>0</td>\n",
       "      <td>0</td>\n",
       "      <td>0</td>\n",
       "      <td>0</td>\n",
       "      <td>1</td>\n",
       "      <td>0</td>\n",
       "      <td>0</td>\n",
       "      <td>0</td>\n",
       "      <td>0</td>\n",
       "      <td>...</td>\n",
       "      <td>6</td>\n",
       "      <td>1201</td>\n",
       "      <td>1</td>\n",
       "      <td>-1</td>\n",
       "      <td>0</td>\n",
       "      <td>0</td>\n",
       "      <td>0</td>\n",
       "      <td>0</td>\n",
       "      <td>1</td>\n",
       "      <td>1</td>\n",
       "    </tr>\n",
       "    <tr>\n",
       "      <th>7</th>\n",
       "      <td>60</td>\n",
       "      <td>0</td>\n",
       "      <td>0</td>\n",
       "      <td>0</td>\n",
       "      <td>0</td>\n",
       "      <td>0</td>\n",
       "      <td>1</td>\n",
       "      <td>0</td>\n",
       "      <td>0</td>\n",
       "      <td>0</td>\n",
       "      <td>...</td>\n",
       "      <td>6</td>\n",
       "      <td>1030</td>\n",
       "      <td>1</td>\n",
       "      <td>-1</td>\n",
       "      <td>0</td>\n",
       "      <td>0</td>\n",
       "      <td>0</td>\n",
       "      <td>0</td>\n",
       "      <td>1</td>\n",
       "      <td>1</td>\n",
       "    </tr>\n",
       "    <tr>\n",
       "      <th>8</th>\n",
       "      <td>37</td>\n",
       "      <td>0</td>\n",
       "      <td>0</td>\n",
       "      <td>0</td>\n",
       "      <td>0</td>\n",
       "      <td>0</td>\n",
       "      <td>0</td>\n",
       "      <td>0</td>\n",
       "      <td>0</td>\n",
       "      <td>0</td>\n",
       "      <td>...</td>\n",
       "      <td>6</td>\n",
       "      <td>608</td>\n",
       "      <td>1</td>\n",
       "      <td>-1</td>\n",
       "      <td>0</td>\n",
       "      <td>0</td>\n",
       "      <td>0</td>\n",
       "      <td>0</td>\n",
       "      <td>1</td>\n",
       "      <td>1</td>\n",
       "    </tr>\n",
       "    <tr>\n",
       "      <th>9</th>\n",
       "      <td>28</td>\n",
       "      <td>0</td>\n",
       "      <td>0</td>\n",
       "      <td>0</td>\n",
       "      <td>0</td>\n",
       "      <td>0</td>\n",
       "      <td>0</td>\n",
       "      <td>0</td>\n",
       "      <td>1</td>\n",
       "      <td>0</td>\n",
       "      <td>...</td>\n",
       "      <td>6</td>\n",
       "      <td>1297</td>\n",
       "      <td>3</td>\n",
       "      <td>-1</td>\n",
       "      <td>0</td>\n",
       "      <td>0</td>\n",
       "      <td>0</td>\n",
       "      <td>0</td>\n",
       "      <td>1</td>\n",
       "      <td>1</td>\n",
       "    </tr>\n",
       "  </tbody>\n",
       "</table>\n",
       "<p>10 rows × 49 columns</p>\n",
       "</div>"
      ],
      "text/plain": [
       "   Edad  Trabajo_admin.  Trabajo_blue-collar  Trabajo_entrepreneur  \\\n",
       "0    59               1                    0                     0   \n",
       "1    56               1                    0                     0   \n",
       "2    41               0                    0                     0   \n",
       "3    55               0                    0                     0   \n",
       "4    54               1                    0                     0   \n",
       "5    42               0                    0                     0   \n",
       "6    56               0                    0                     0   \n",
       "7    60               0                    0                     0   \n",
       "8    37               0                    0                     0   \n",
       "9    28               0                    0                     0   \n",
       "\n",
       "   Trabajo_housemaid  Trabajo_management  Trabajo_retired  \\\n",
       "0                  0                   0                0   \n",
       "1                  0                   0                0   \n",
       "2                  0                   0                0   \n",
       "3                  0                   0                0   \n",
       "4                  0                   0                0   \n",
       "5                  0                   1                0   \n",
       "6                  0                   1                0   \n",
       "7                  0                   0                1   \n",
       "8                  0                   0                0   \n",
       "9                  0                   0                0   \n",
       "\n",
       "   Trabajo_self-employed  Trabajo_services  Trabajo_student  ...  Dia  \\\n",
       "0                      0                 0                0  ...    5   \n",
       "1                      0                 0                0  ...    5   \n",
       "2                      0                 0                0  ...    5   \n",
       "3                      0                 1                0  ...    5   \n",
       "4                      0                 0                0  ...    5   \n",
       "5                      0                 0                0  ...    5   \n",
       "6                      0                 0                0  ...    6   \n",
       "7                      0                 0                0  ...    6   \n",
       "8                      0                 0                0  ...    6   \n",
       "9                      0                 1                0  ...    6   \n",
       "\n",
       "   Duracion  Campana  Dias_Prev  Previo  Resultado_Prev_failure  \\\n",
       "0      1042        1         -1       0                       0   \n",
       "1      1467        1         -1       0                       0   \n",
       "2      1389        1         -1       0                       0   \n",
       "3       579        1         -1       0                       0   \n",
       "4       673        2         -1       0                       0   \n",
       "5       562        2         -1       0                       0   \n",
       "6      1201        1         -1       0                       0   \n",
       "7      1030        1         -1       0                       0   \n",
       "8       608        1         -1       0                       0   \n",
       "9      1297        3         -1       0                       0   \n",
       "\n",
       "   Resultado_Prev_other  Resultado_Prev_success  Resultado_Prev_unknown  \\\n",
       "0                     0                       0                       1   \n",
       "1                     0                       0                       1   \n",
       "2                     0                       0                       1   \n",
       "3                     0                       0                       1   \n",
       "4                     0                       0                       1   \n",
       "5                     0                       0                       1   \n",
       "6                     0                       0                       1   \n",
       "7                     0                       0                       1   \n",
       "8                     0                       0                       1   \n",
       "9                     0                       0                       1   \n",
       "\n",
       "   Deposito  \n",
       "0         1  \n",
       "1         1  \n",
       "2         1  \n",
       "3         1  \n",
       "4         1  \n",
       "5         1  \n",
       "6         1  \n",
       "7         1  \n",
       "8         1  \n",
       "9         1  \n",
       "\n",
       "[10 rows x 49 columns]"
      ]
     },
     "execution_count": 92,
     "metadata": {},
     "output_type": "execute_result"
    }
   ],
   "source": [
    "df_class.head(10)"
   ]
  },
  {
   "cell_type": "code",
   "execution_count": 93,
   "metadata": {},
   "outputs": [
    {
     "data": {
      "text/html": [
       "<div>\n",
       "<style scoped>\n",
       "    .dataframe tbody tr th:only-of-type {\n",
       "        vertical-align: middle;\n",
       "    }\n",
       "\n",
       "    .dataframe tbody tr th {\n",
       "        vertical-align: top;\n",
       "    }\n",
       "\n",
       "    .dataframe thead th {\n",
       "        text-align: right;\n",
       "    }\n",
       "</style>\n",
       "<table border=\"1\" class=\"dataframe\">\n",
       "  <thead>\n",
       "    <tr style=\"text-align: right;\">\n",
       "      <th></th>\n",
       "      <th>Edad</th>\n",
       "      <th>Saldo</th>\n",
       "      <th>Dia</th>\n",
       "      <th>Duracion</th>\n",
       "      <th>Campana</th>\n",
       "      <th>Dias_Prev</th>\n",
       "      <th>Previo</th>\n",
       "    </tr>\n",
       "  </thead>\n",
       "  <tbody>\n",
       "    <tr>\n",
       "      <th>0</th>\n",
       "      <td>59</td>\n",
       "      <td>2343</td>\n",
       "      <td>5</td>\n",
       "      <td>1042</td>\n",
       "      <td>1</td>\n",
       "      <td>-1</td>\n",
       "      <td>0</td>\n",
       "    </tr>\n",
       "    <tr>\n",
       "      <th>1</th>\n",
       "      <td>56</td>\n",
       "      <td>45</td>\n",
       "      <td>5</td>\n",
       "      <td>1467</td>\n",
       "      <td>1</td>\n",
       "      <td>-1</td>\n",
       "      <td>0</td>\n",
       "    </tr>\n",
       "    <tr>\n",
       "      <th>2</th>\n",
       "      <td>41</td>\n",
       "      <td>1270</td>\n",
       "      <td>5</td>\n",
       "      <td>1389</td>\n",
       "      <td>1</td>\n",
       "      <td>-1</td>\n",
       "      <td>0</td>\n",
       "    </tr>\n",
       "    <tr>\n",
       "      <th>3</th>\n",
       "      <td>55</td>\n",
       "      <td>2476</td>\n",
       "      <td>5</td>\n",
       "      <td>579</td>\n",
       "      <td>1</td>\n",
       "      <td>-1</td>\n",
       "      <td>0</td>\n",
       "    </tr>\n",
       "    <tr>\n",
       "      <th>4</th>\n",
       "      <td>54</td>\n",
       "      <td>184</td>\n",
       "      <td>5</td>\n",
       "      <td>673</td>\n",
       "      <td>2</td>\n",
       "      <td>-1</td>\n",
       "      <td>0</td>\n",
       "    </tr>\n",
       "    <tr>\n",
       "      <th>5</th>\n",
       "      <td>42</td>\n",
       "      <td>0</td>\n",
       "      <td>5</td>\n",
       "      <td>562</td>\n",
       "      <td>2</td>\n",
       "      <td>-1</td>\n",
       "      <td>0</td>\n",
       "    </tr>\n",
       "    <tr>\n",
       "      <th>6</th>\n",
       "      <td>56</td>\n",
       "      <td>830</td>\n",
       "      <td>6</td>\n",
       "      <td>1201</td>\n",
       "      <td>1</td>\n",
       "      <td>-1</td>\n",
       "      <td>0</td>\n",
       "    </tr>\n",
       "    <tr>\n",
       "      <th>7</th>\n",
       "      <td>60</td>\n",
       "      <td>545</td>\n",
       "      <td>6</td>\n",
       "      <td>1030</td>\n",
       "      <td>1</td>\n",
       "      <td>-1</td>\n",
       "      <td>0</td>\n",
       "    </tr>\n",
       "    <tr>\n",
       "      <th>8</th>\n",
       "      <td>37</td>\n",
       "      <td>1</td>\n",
       "      <td>6</td>\n",
       "      <td>608</td>\n",
       "      <td>1</td>\n",
       "      <td>-1</td>\n",
       "      <td>0</td>\n",
       "    </tr>\n",
       "    <tr>\n",
       "      <th>9</th>\n",
       "      <td>28</td>\n",
       "      <td>5090</td>\n",
       "      <td>6</td>\n",
       "      <td>1297</td>\n",
       "      <td>3</td>\n",
       "      <td>-1</td>\n",
       "      <td>0</td>\n",
       "    </tr>\n",
       "    <tr>\n",
       "      <th>10</th>\n",
       "      <td>38</td>\n",
       "      <td>100</td>\n",
       "      <td>7</td>\n",
       "      <td>786</td>\n",
       "      <td>1</td>\n",
       "      <td>-1</td>\n",
       "      <td>0</td>\n",
       "    </tr>\n",
       "    <tr>\n",
       "      <th>11</th>\n",
       "      <td>30</td>\n",
       "      <td>309</td>\n",
       "      <td>7</td>\n",
       "      <td>1574</td>\n",
       "      <td>2</td>\n",
       "      <td>-1</td>\n",
       "      <td>0</td>\n",
       "    </tr>\n",
       "    <tr>\n",
       "      <th>12</th>\n",
       "      <td>29</td>\n",
       "      <td>199</td>\n",
       "      <td>7</td>\n",
       "      <td>1689</td>\n",
       "      <td>4</td>\n",
       "      <td>-1</td>\n",
       "      <td>0</td>\n",
       "    </tr>\n",
       "    <tr>\n",
       "      <th>13</th>\n",
       "      <td>46</td>\n",
       "      <td>460</td>\n",
       "      <td>7</td>\n",
       "      <td>1102</td>\n",
       "      <td>2</td>\n",
       "      <td>-1</td>\n",
       "      <td>0</td>\n",
       "    </tr>\n",
       "    <tr>\n",
       "      <th>14</th>\n",
       "      <td>31</td>\n",
       "      <td>703</td>\n",
       "      <td>8</td>\n",
       "      <td>943</td>\n",
       "      <td>2</td>\n",
       "      <td>-1</td>\n",
       "      <td>0</td>\n",
       "    </tr>\n",
       "    <tr>\n",
       "      <th>15</th>\n",
       "      <td>35</td>\n",
       "      <td>3837</td>\n",
       "      <td>8</td>\n",
       "      <td>1084</td>\n",
       "      <td>1</td>\n",
       "      <td>-1</td>\n",
       "      <td>0</td>\n",
       "    </tr>\n",
       "    <tr>\n",
       "      <th>16</th>\n",
       "      <td>32</td>\n",
       "      <td>611</td>\n",
       "      <td>8</td>\n",
       "      <td>541</td>\n",
       "      <td>3</td>\n",
       "      <td>-1</td>\n",
       "      <td>0</td>\n",
       "    </tr>\n",
       "    <tr>\n",
       "      <th>17</th>\n",
       "      <td>49</td>\n",
       "      <td>-8</td>\n",
       "      <td>8</td>\n",
       "      <td>1119</td>\n",
       "      <td>1</td>\n",
       "      <td>-1</td>\n",
       "      <td>0</td>\n",
       "    </tr>\n",
       "    <tr>\n",
       "      <th>18</th>\n",
       "      <td>41</td>\n",
       "      <td>55</td>\n",
       "      <td>8</td>\n",
       "      <td>1120</td>\n",
       "      <td>2</td>\n",
       "      <td>-1</td>\n",
       "      <td>0</td>\n",
       "    </tr>\n",
       "    <tr>\n",
       "      <th>19</th>\n",
       "      <td>49</td>\n",
       "      <td>168</td>\n",
       "      <td>8</td>\n",
       "      <td>513</td>\n",
       "      <td>1</td>\n",
       "      <td>-1</td>\n",
       "      <td>0</td>\n",
       "    </tr>\n",
       "    <tr>\n",
       "      <th>20</th>\n",
       "      <td>28</td>\n",
       "      <td>785</td>\n",
       "      <td>8</td>\n",
       "      <td>442</td>\n",
       "      <td>2</td>\n",
       "      <td>-1</td>\n",
       "      <td>0</td>\n",
       "    </tr>\n",
       "    <tr>\n",
       "      <th>21</th>\n",
       "      <td>43</td>\n",
       "      <td>2067</td>\n",
       "      <td>8</td>\n",
       "      <td>756</td>\n",
       "      <td>1</td>\n",
       "      <td>-1</td>\n",
       "      <td>0</td>\n",
       "    </tr>\n",
       "    <tr>\n",
       "      <th>22</th>\n",
       "      <td>43</td>\n",
       "      <td>388</td>\n",
       "      <td>8</td>\n",
       "      <td>2087</td>\n",
       "      <td>2</td>\n",
       "      <td>-1</td>\n",
       "      <td>0</td>\n",
       "    </tr>\n",
       "    <tr>\n",
       "      <th>23</th>\n",
       "      <td>43</td>\n",
       "      <td>-192</td>\n",
       "      <td>8</td>\n",
       "      <td>1120</td>\n",
       "      <td>2</td>\n",
       "      <td>-1</td>\n",
       "      <td>0</td>\n",
       "    </tr>\n",
       "    <tr>\n",
       "      <th>24</th>\n",
       "      <td>37</td>\n",
       "      <td>381</td>\n",
       "      <td>8</td>\n",
       "      <td>985</td>\n",
       "      <td>2</td>\n",
       "      <td>-1</td>\n",
       "      <td>0</td>\n",
       "    </tr>\n",
       "    <tr>\n",
       "      <th>25</th>\n",
       "      <td>35</td>\n",
       "      <td>40</td>\n",
       "      <td>9</td>\n",
       "      <td>617</td>\n",
       "      <td>4</td>\n",
       "      <td>-1</td>\n",
       "      <td>0</td>\n",
       "    </tr>\n",
       "    <tr>\n",
       "      <th>26</th>\n",
       "      <td>31</td>\n",
       "      <td>22</td>\n",
       "      <td>9</td>\n",
       "      <td>483</td>\n",
       "      <td>3</td>\n",
       "      <td>-1</td>\n",
       "      <td>0</td>\n",
       "    </tr>\n",
       "    <tr>\n",
       "      <th>27</th>\n",
       "      <td>43</td>\n",
       "      <td>3</td>\n",
       "      <td>9</td>\n",
       "      <td>929</td>\n",
       "      <td>3</td>\n",
       "      <td>-1</td>\n",
       "      <td>0</td>\n",
       "    </tr>\n",
       "    <tr>\n",
       "      <th>28</th>\n",
       "      <td>31</td>\n",
       "      <td>307</td>\n",
       "      <td>9</td>\n",
       "      <td>538</td>\n",
       "      <td>1</td>\n",
       "      <td>-1</td>\n",
       "      <td>0</td>\n",
       "    </tr>\n",
       "    <tr>\n",
       "      <th>29</th>\n",
       "      <td>28</td>\n",
       "      <td>759</td>\n",
       "      <td>9</td>\n",
       "      <td>710</td>\n",
       "      <td>1</td>\n",
       "      <td>-1</td>\n",
       "      <td>0</td>\n",
       "    </tr>\n",
       "    <tr>\n",
       "      <th>...</th>\n",
       "      <td>...</td>\n",
       "      <td>...</td>\n",
       "      <td>...</td>\n",
       "      <td>...</td>\n",
       "      <td>...</td>\n",
       "      <td>...</td>\n",
       "      <td>...</td>\n",
       "    </tr>\n",
       "    <tr>\n",
       "      <th>11132</th>\n",
       "      <td>32</td>\n",
       "      <td>-325</td>\n",
       "      <td>21</td>\n",
       "      <td>171</td>\n",
       "      <td>1</td>\n",
       "      <td>-1</td>\n",
       "      <td>0</td>\n",
       "    </tr>\n",
       "    <tr>\n",
       "      <th>11133</th>\n",
       "      <td>37</td>\n",
       "      <td>1594</td>\n",
       "      <td>17</td>\n",
       "      <td>110</td>\n",
       "      <td>1</td>\n",
       "      <td>260</td>\n",
       "      <td>5</td>\n",
       "    </tr>\n",
       "    <tr>\n",
       "      <th>11134</th>\n",
       "      <td>58</td>\n",
       "      <td>2596</td>\n",
       "      <td>18</td>\n",
       "      <td>15</td>\n",
       "      <td>2</td>\n",
       "      <td>-1</td>\n",
       "      <td>0</td>\n",
       "    </tr>\n",
       "    <tr>\n",
       "      <th>11135</th>\n",
       "      <td>36</td>\n",
       "      <td>115</td>\n",
       "      <td>6</td>\n",
       "      <td>201</td>\n",
       "      <td>1</td>\n",
       "      <td>-1</td>\n",
       "      <td>0</td>\n",
       "    </tr>\n",
       "    <tr>\n",
       "      <th>11136</th>\n",
       "      <td>31</td>\n",
       "      <td>0</td>\n",
       "      <td>8</td>\n",
       "      <td>76</td>\n",
       "      <td>1</td>\n",
       "      <td>-1</td>\n",
       "      <td>0</td>\n",
       "    </tr>\n",
       "    <tr>\n",
       "      <th>11137</th>\n",
       "      <td>49</td>\n",
       "      <td>247</td>\n",
       "      <td>15</td>\n",
       "      <td>213</td>\n",
       "      <td>2</td>\n",
       "      <td>-1</td>\n",
       "      <td>0</td>\n",
       "    </tr>\n",
       "    <tr>\n",
       "      <th>11138</th>\n",
       "      <td>32</td>\n",
       "      <td>235</td>\n",
       "      <td>28</td>\n",
       "      <td>688</td>\n",
       "      <td>6</td>\n",
       "      <td>-1</td>\n",
       "      <td>0</td>\n",
       "    </tr>\n",
       "    <tr>\n",
       "      <th>11139</th>\n",
       "      <td>30</td>\n",
       "      <td>2593</td>\n",
       "      <td>27</td>\n",
       "      <td>662</td>\n",
       "      <td>7</td>\n",
       "      <td>-1</td>\n",
       "      <td>0</td>\n",
       "    </tr>\n",
       "    <tr>\n",
       "      <th>11140</th>\n",
       "      <td>55</td>\n",
       "      <td>2166</td>\n",
       "      <td>28</td>\n",
       "      <td>23</td>\n",
       "      <td>17</td>\n",
       "      <td>-1</td>\n",
       "      <td>0</td>\n",
       "    </tr>\n",
       "    <tr>\n",
       "      <th>11141</th>\n",
       "      <td>32</td>\n",
       "      <td>130</td>\n",
       "      <td>6</td>\n",
       "      <td>302</td>\n",
       "      <td>2</td>\n",
       "      <td>-1</td>\n",
       "      <td>0</td>\n",
       "    </tr>\n",
       "    <tr>\n",
       "      <th>11142</th>\n",
       "      <td>52</td>\n",
       "      <td>48</td>\n",
       "      <td>17</td>\n",
       "      <td>591</td>\n",
       "      <td>1</td>\n",
       "      <td>-1</td>\n",
       "      <td>0</td>\n",
       "    </tr>\n",
       "    <tr>\n",
       "      <th>11143</th>\n",
       "      <td>38</td>\n",
       "      <td>189</td>\n",
       "      <td>21</td>\n",
       "      <td>105</td>\n",
       "      <td>2</td>\n",
       "      <td>-1</td>\n",
       "      <td>0</td>\n",
       "    </tr>\n",
       "    <tr>\n",
       "      <th>11144</th>\n",
       "      <td>60</td>\n",
       "      <td>0</td>\n",
       "      <td>15</td>\n",
       "      <td>229</td>\n",
       "      <td>1</td>\n",
       "      <td>-1</td>\n",
       "      <td>0</td>\n",
       "    </tr>\n",
       "    <tr>\n",
       "      <th>11145</th>\n",
       "      <td>60</td>\n",
       "      <td>-134</td>\n",
       "      <td>12</td>\n",
       "      <td>243</td>\n",
       "      <td>1</td>\n",
       "      <td>271</td>\n",
       "      <td>4</td>\n",
       "    </tr>\n",
       "    <tr>\n",
       "      <th>11146</th>\n",
       "      <td>30</td>\n",
       "      <td>23</td>\n",
       "      <td>4</td>\n",
       "      <td>149</td>\n",
       "      <td>2</td>\n",
       "      <td>-1</td>\n",
       "      <td>0</td>\n",
       "    </tr>\n",
       "    <tr>\n",
       "      <th>11147</th>\n",
       "      <td>44</td>\n",
       "      <td>0</td>\n",
       "      <td>21</td>\n",
       "      <td>175</td>\n",
       "      <td>4</td>\n",
       "      <td>-1</td>\n",
       "      <td>0</td>\n",
       "    </tr>\n",
       "    <tr>\n",
       "      <th>11148</th>\n",
       "      <td>32</td>\n",
       "      <td>1</td>\n",
       "      <td>8</td>\n",
       "      <td>102</td>\n",
       "      <td>1</td>\n",
       "      <td>-1</td>\n",
       "      <td>0</td>\n",
       "    </tr>\n",
       "    <tr>\n",
       "      <th>11149</th>\n",
       "      <td>46</td>\n",
       "      <td>3317</td>\n",
       "      <td>19</td>\n",
       "      <td>231</td>\n",
       "      <td>2</td>\n",
       "      <td>-1</td>\n",
       "      <td>0</td>\n",
       "    </tr>\n",
       "    <tr>\n",
       "      <th>11150</th>\n",
       "      <td>34</td>\n",
       "      <td>355</td>\n",
       "      <td>21</td>\n",
       "      <td>314</td>\n",
       "      <td>3</td>\n",
       "      <td>-1</td>\n",
       "      <td>0</td>\n",
       "    </tr>\n",
       "    <tr>\n",
       "      <th>11151</th>\n",
       "      <td>40</td>\n",
       "      <td>917</td>\n",
       "      <td>20</td>\n",
       "      <td>292</td>\n",
       "      <td>1</td>\n",
       "      <td>-1</td>\n",
       "      <td>0</td>\n",
       "    </tr>\n",
       "    <tr>\n",
       "      <th>11152</th>\n",
       "      <td>34</td>\n",
       "      <td>390</td>\n",
       "      <td>15</td>\n",
       "      <td>659</td>\n",
       "      <td>3</td>\n",
       "      <td>-1</td>\n",
       "      <td>0</td>\n",
       "    </tr>\n",
       "    <tr>\n",
       "      <th>11153</th>\n",
       "      <td>43</td>\n",
       "      <td>35</td>\n",
       "      <td>9</td>\n",
       "      <td>208</td>\n",
       "      <td>1</td>\n",
       "      <td>-1</td>\n",
       "      <td>0</td>\n",
       "    </tr>\n",
       "    <tr>\n",
       "      <th>11154</th>\n",
       "      <td>52</td>\n",
       "      <td>523</td>\n",
       "      <td>8</td>\n",
       "      <td>113</td>\n",
       "      <td>1</td>\n",
       "      <td>-1</td>\n",
       "      <td>0</td>\n",
       "    </tr>\n",
       "    <tr>\n",
       "      <th>11155</th>\n",
       "      <td>35</td>\n",
       "      <td>80</td>\n",
       "      <td>21</td>\n",
       "      <td>38</td>\n",
       "      <td>2</td>\n",
       "      <td>172</td>\n",
       "      <td>2</td>\n",
       "    </tr>\n",
       "    <tr>\n",
       "      <th>11156</th>\n",
       "      <td>34</td>\n",
       "      <td>-72</td>\n",
       "      <td>7</td>\n",
       "      <td>273</td>\n",
       "      <td>5</td>\n",
       "      <td>-1</td>\n",
       "      <td>0</td>\n",
       "    </tr>\n",
       "    <tr>\n",
       "      <th>11157</th>\n",
       "      <td>33</td>\n",
       "      <td>1</td>\n",
       "      <td>20</td>\n",
       "      <td>257</td>\n",
       "      <td>1</td>\n",
       "      <td>-1</td>\n",
       "      <td>0</td>\n",
       "    </tr>\n",
       "    <tr>\n",
       "      <th>11158</th>\n",
       "      <td>39</td>\n",
       "      <td>733</td>\n",
       "      <td>16</td>\n",
       "      <td>83</td>\n",
       "      <td>4</td>\n",
       "      <td>-1</td>\n",
       "      <td>0</td>\n",
       "    </tr>\n",
       "    <tr>\n",
       "      <th>11159</th>\n",
       "      <td>32</td>\n",
       "      <td>29</td>\n",
       "      <td>19</td>\n",
       "      <td>156</td>\n",
       "      <td>2</td>\n",
       "      <td>-1</td>\n",
       "      <td>0</td>\n",
       "    </tr>\n",
       "    <tr>\n",
       "      <th>11160</th>\n",
       "      <td>43</td>\n",
       "      <td>0</td>\n",
       "      <td>8</td>\n",
       "      <td>9</td>\n",
       "      <td>2</td>\n",
       "      <td>172</td>\n",
       "      <td>5</td>\n",
       "    </tr>\n",
       "    <tr>\n",
       "      <th>11161</th>\n",
       "      <td>34</td>\n",
       "      <td>0</td>\n",
       "      <td>9</td>\n",
       "      <td>628</td>\n",
       "      <td>1</td>\n",
       "      <td>-1</td>\n",
       "      <td>0</td>\n",
       "    </tr>\n",
       "  </tbody>\n",
       "</table>\n",
       "<p>11162 rows × 7 columns</p>\n",
       "</div>"
      ],
      "text/plain": [
       "       Edad  Saldo  Dia  Duracion  Campana  Dias_Prev  Previo\n",
       "0        59   2343    5      1042        1         -1       0\n",
       "1        56     45    5      1467        1         -1       0\n",
       "2        41   1270    5      1389        1         -1       0\n",
       "3        55   2476    5       579        1         -1       0\n",
       "4        54    184    5       673        2         -1       0\n",
       "5        42      0    5       562        2         -1       0\n",
       "6        56    830    6      1201        1         -1       0\n",
       "7        60    545    6      1030        1         -1       0\n",
       "8        37      1    6       608        1         -1       0\n",
       "9        28   5090    6      1297        3         -1       0\n",
       "10       38    100    7       786        1         -1       0\n",
       "11       30    309    7      1574        2         -1       0\n",
       "12       29    199    7      1689        4         -1       0\n",
       "13       46    460    7      1102        2         -1       0\n",
       "14       31    703    8       943        2         -1       0\n",
       "15       35   3837    8      1084        1         -1       0\n",
       "16       32    611    8       541        3         -1       0\n",
       "17       49     -8    8      1119        1         -1       0\n",
       "18       41     55    8      1120        2         -1       0\n",
       "19       49    168    8       513        1         -1       0\n",
       "20       28    785    8       442        2         -1       0\n",
       "21       43   2067    8       756        1         -1       0\n",
       "22       43    388    8      2087        2         -1       0\n",
       "23       43   -192    8      1120        2         -1       0\n",
       "24       37    381    8       985        2         -1       0\n",
       "25       35     40    9       617        4         -1       0\n",
       "26       31     22    9       483        3         -1       0\n",
       "27       43      3    9       929        3         -1       0\n",
       "28       31    307    9       538        1         -1       0\n",
       "29       28    759    9       710        1         -1       0\n",
       "...     ...    ...  ...       ...      ...        ...     ...\n",
       "11132    32   -325   21       171        1         -1       0\n",
       "11133    37   1594   17       110        1        260       5\n",
       "11134    58   2596   18        15        2         -1       0\n",
       "11135    36    115    6       201        1         -1       0\n",
       "11136    31      0    8        76        1         -1       0\n",
       "11137    49    247   15       213        2         -1       0\n",
       "11138    32    235   28       688        6         -1       0\n",
       "11139    30   2593   27       662        7         -1       0\n",
       "11140    55   2166   28        23       17         -1       0\n",
       "11141    32    130    6       302        2         -1       0\n",
       "11142    52     48   17       591        1         -1       0\n",
       "11143    38    189   21       105        2         -1       0\n",
       "11144    60      0   15       229        1         -1       0\n",
       "11145    60   -134   12       243        1        271       4\n",
       "11146    30     23    4       149        2         -1       0\n",
       "11147    44      0   21       175        4         -1       0\n",
       "11148    32      1    8       102        1         -1       0\n",
       "11149    46   3317   19       231        2         -1       0\n",
       "11150    34    355   21       314        3         -1       0\n",
       "11151    40    917   20       292        1         -1       0\n",
       "11152    34    390   15       659        3         -1       0\n",
       "11153    43     35    9       208        1         -1       0\n",
       "11154    52    523    8       113        1         -1       0\n",
       "11155    35     80   21        38        2        172       2\n",
       "11156    34    -72    7       273        5         -1       0\n",
       "11157    33      1   20       257        1         -1       0\n",
       "11158    39    733   16        83        4         -1       0\n",
       "11159    32     29   19       156        2         -1       0\n",
       "11160    43      0    8         9        2        172       5\n",
       "11161    34      0    9       628        1         -1       0\n",
       "\n",
       "[11162 rows x 7 columns]"
      ]
     },
     "execution_count": 93,
     "metadata": {},
     "output_type": "execute_result"
    }
   ],
   "source": [
    "df_norm = df_class.copy()\n",
    "df_tonorm = df_norm.copy()\n",
    "df_tonorm = df_tonorm[['Edad', 'Saldo', 'Dia', 'Duracion', 'Campana', 'Dias_Prev', 'Previo']]\n",
    "df_tonorm"
   ]
  },
  {
   "cell_type": "markdown",
   "metadata": {},
   "source": [
    "### NORMALIZACIÓN de DATA (SCIKIT-LEARN)"
   ]
  },
  {
   "cell_type": "code",
   "execution_count": 94,
   "metadata": {},
   "outputs": [
    {
     "name": "stdout",
     "output_type": "stream",
     "text": [
      "Tamaños del DataSet Normalizazado: \n",
      "(11162, 49)\n",
      " \n",
      "Primeros 5 datos de DataSet NO Normalizazado: \n",
      "   Edad  Credito_Inc  Saldo  Prestamo_Viv  Prestamo  Dia  Duracion  Campana  \\\n",
      "0    59            0   2343             1         0    5      1042        1   \n",
      "1    56            0     45             0         0    5      1467        1   \n",
      "2    41            0   1270             1         0    5      1389        1   \n",
      "3    55            0   2476             1         0    5       579        1   \n",
      "4    54            0    184             0         0    5       673        2   \n",
      "\n",
      "   Dias_Prev  Previo  ...  Mes_jun  Mes_mar  Mes_may  Mes_nov  Mes_oct  \\\n",
      "0         -1       0  ...        0        0        1        0        0   \n",
      "1         -1       0  ...        0        0        1        0        0   \n",
      "2         -1       0  ...        0        0        1        0        0   \n",
      "3         -1       0  ...        0        0        1        0        0   \n",
      "4         -1       0  ...        0        0        1        0        0   \n",
      "\n",
      "   Mes_sep  Resultado_Prev_failure  Resultado_Prev_other  \\\n",
      "0        0                       0                     0   \n",
      "1        0                       0                     0   \n",
      "2        0                       0                     0   \n",
      "3        0                       0                     0   \n",
      "4        0                       0                     0   \n",
      "\n",
      "   Resultado_Prev_success  Resultado_Prev_unknown  \n",
      "0                       0                       1  \n",
      "1                       0                       1  \n",
      "2                       0                       1  \n",
      "3                       0                       1  \n",
      "4                       0                       1  \n",
      "\n",
      "[5 rows x 49 columns]\n",
      " \n",
      "Primeros 5 datos de DataSet Normalizado: \n"
     ]
    },
    {
     "data": {
      "text/html": [
       "<div>\n",
       "<style scoped>\n",
       "    .dataframe tbody tr th:only-of-type {\n",
       "        vertical-align: middle;\n",
       "    }\n",
       "\n",
       "    .dataframe tbody tr th {\n",
       "        vertical-align: top;\n",
       "    }\n",
       "\n",
       "    .dataframe thead th {\n",
       "        text-align: right;\n",
       "    }\n",
       "</style>\n",
       "<table border=\"1\" class=\"dataframe\">\n",
       "  <thead>\n",
       "    <tr style=\"text-align: right;\">\n",
       "      <th></th>\n",
       "      <th>Edad</th>\n",
       "      <th>Trabajo_admin.</th>\n",
       "      <th>Trabajo_blue-collar</th>\n",
       "      <th>Trabajo_entrepreneur</th>\n",
       "      <th>Trabajo_housemaid</th>\n",
       "      <th>Trabajo_management</th>\n",
       "      <th>Trabajo_retired</th>\n",
       "      <th>Trabajo_self-employed</th>\n",
       "      <th>Trabajo_services</th>\n",
       "      <th>Trabajo_student</th>\n",
       "      <th>...</th>\n",
       "      <th>Dia</th>\n",
       "      <th>Duracion</th>\n",
       "      <th>Campana</th>\n",
       "      <th>Dias_Prev</th>\n",
       "      <th>Previo</th>\n",
       "      <th>Resultado_Prev_failure</th>\n",
       "      <th>Resultado_Prev_other</th>\n",
       "      <th>Resultado_Prev_success</th>\n",
       "      <th>Resultado_Prev_unknown</th>\n",
       "      <th>Deposito</th>\n",
       "    </tr>\n",
       "  </thead>\n",
       "  <tbody>\n",
       "    <tr>\n",
       "      <th>0</th>\n",
       "      <td>0.532468</td>\n",
       "      <td>1</td>\n",
       "      <td>0</td>\n",
       "      <td>0</td>\n",
       "      <td>0</td>\n",
       "      <td>0</td>\n",
       "      <td>0</td>\n",
       "      <td>0</td>\n",
       "      <td>0</td>\n",
       "      <td>0</td>\n",
       "      <td>...</td>\n",
       "      <td>0.0</td>\n",
       "      <td>0.0</td>\n",
       "      <td>0.0</td>\n",
       "      <td>0.0</td>\n",
       "      <td>0.0</td>\n",
       "      <td>0</td>\n",
       "      <td>0</td>\n",
       "      <td>0</td>\n",
       "      <td>1</td>\n",
       "      <td>1</td>\n",
       "    </tr>\n",
       "    <tr>\n",
       "      <th>1</th>\n",
       "      <td>0.493506</td>\n",
       "      <td>1</td>\n",
       "      <td>0</td>\n",
       "      <td>0</td>\n",
       "      <td>0</td>\n",
       "      <td>0</td>\n",
       "      <td>0</td>\n",
       "      <td>0</td>\n",
       "      <td>0</td>\n",
       "      <td>0</td>\n",
       "      <td>...</td>\n",
       "      <td>0.0</td>\n",
       "      <td>0.0</td>\n",
       "      <td>0.0</td>\n",
       "      <td>0.0</td>\n",
       "      <td>0.0</td>\n",
       "      <td>0</td>\n",
       "      <td>0</td>\n",
       "      <td>0</td>\n",
       "      <td>1</td>\n",
       "      <td>1</td>\n",
       "    </tr>\n",
       "    <tr>\n",
       "      <th>2</th>\n",
       "      <td>0.298701</td>\n",
       "      <td>0</td>\n",
       "      <td>0</td>\n",
       "      <td>0</td>\n",
       "      <td>0</td>\n",
       "      <td>0</td>\n",
       "      <td>0</td>\n",
       "      <td>0</td>\n",
       "      <td>0</td>\n",
       "      <td>0</td>\n",
       "      <td>...</td>\n",
       "      <td>0.0</td>\n",
       "      <td>0.0</td>\n",
       "      <td>0.0</td>\n",
       "      <td>0.0</td>\n",
       "      <td>0.0</td>\n",
       "      <td>0</td>\n",
       "      <td>0</td>\n",
       "      <td>0</td>\n",
       "      <td>1</td>\n",
       "      <td>1</td>\n",
       "    </tr>\n",
       "    <tr>\n",
       "      <th>3</th>\n",
       "      <td>0.480519</td>\n",
       "      <td>0</td>\n",
       "      <td>0</td>\n",
       "      <td>0</td>\n",
       "      <td>0</td>\n",
       "      <td>0</td>\n",
       "      <td>0</td>\n",
       "      <td>0</td>\n",
       "      <td>1</td>\n",
       "      <td>0</td>\n",
       "      <td>...</td>\n",
       "      <td>0.0</td>\n",
       "      <td>0.0</td>\n",
       "      <td>0.0</td>\n",
       "      <td>0.0</td>\n",
       "      <td>0.0</td>\n",
       "      <td>0</td>\n",
       "      <td>0</td>\n",
       "      <td>0</td>\n",
       "      <td>1</td>\n",
       "      <td>1</td>\n",
       "    </tr>\n",
       "    <tr>\n",
       "      <th>4</th>\n",
       "      <td>0.467532</td>\n",
       "      <td>1</td>\n",
       "      <td>0</td>\n",
       "      <td>0</td>\n",
       "      <td>0</td>\n",
       "      <td>0</td>\n",
       "      <td>0</td>\n",
       "      <td>0</td>\n",
       "      <td>0</td>\n",
       "      <td>0</td>\n",
       "      <td>...</td>\n",
       "      <td>0.0</td>\n",
       "      <td>0.0</td>\n",
       "      <td>0.0</td>\n",
       "      <td>0.0</td>\n",
       "      <td>0.0</td>\n",
       "      <td>0</td>\n",
       "      <td>0</td>\n",
       "      <td>0</td>\n",
       "      <td>1</td>\n",
       "      <td>1</td>\n",
       "    </tr>\n",
       "    <tr>\n",
       "      <th>5</th>\n",
       "      <td>0.311688</td>\n",
       "      <td>0</td>\n",
       "      <td>0</td>\n",
       "      <td>0</td>\n",
       "      <td>0</td>\n",
       "      <td>1</td>\n",
       "      <td>0</td>\n",
       "      <td>0</td>\n",
       "      <td>0</td>\n",
       "      <td>0</td>\n",
       "      <td>...</td>\n",
       "      <td>0.0</td>\n",
       "      <td>0.0</td>\n",
       "      <td>0.0</td>\n",
       "      <td>1.0</td>\n",
       "      <td>0.0</td>\n",
       "      <td>0</td>\n",
       "      <td>0</td>\n",
       "      <td>0</td>\n",
       "      <td>1</td>\n",
       "      <td>1</td>\n",
       "    </tr>\n",
       "    <tr>\n",
       "      <th>6</th>\n",
       "      <td>0.493506</td>\n",
       "      <td>0</td>\n",
       "      <td>0</td>\n",
       "      <td>0</td>\n",
       "      <td>0</td>\n",
       "      <td>1</td>\n",
       "      <td>0</td>\n",
       "      <td>0</td>\n",
       "      <td>0</td>\n",
       "      <td>0</td>\n",
       "      <td>...</td>\n",
       "      <td>0.0</td>\n",
       "      <td>0.0</td>\n",
       "      <td>0.0</td>\n",
       "      <td>1.0</td>\n",
       "      <td>0.0</td>\n",
       "      <td>0</td>\n",
       "      <td>0</td>\n",
       "      <td>0</td>\n",
       "      <td>1</td>\n",
       "      <td>1</td>\n",
       "    </tr>\n",
       "    <tr>\n",
       "      <th>7</th>\n",
       "      <td>0.545455</td>\n",
       "      <td>0</td>\n",
       "      <td>0</td>\n",
       "      <td>0</td>\n",
       "      <td>0</td>\n",
       "      <td>0</td>\n",
       "      <td>1</td>\n",
       "      <td>0</td>\n",
       "      <td>0</td>\n",
       "      <td>0</td>\n",
       "      <td>...</td>\n",
       "      <td>0.0</td>\n",
       "      <td>0.0</td>\n",
       "      <td>0.0</td>\n",
       "      <td>0.0</td>\n",
       "      <td>1.0</td>\n",
       "      <td>0</td>\n",
       "      <td>0</td>\n",
       "      <td>0</td>\n",
       "      <td>1</td>\n",
       "      <td>1</td>\n",
       "    </tr>\n",
       "    <tr>\n",
       "      <th>8</th>\n",
       "      <td>0.246753</td>\n",
       "      <td>0</td>\n",
       "      <td>0</td>\n",
       "      <td>0</td>\n",
       "      <td>0</td>\n",
       "      <td>0</td>\n",
       "      <td>0</td>\n",
       "      <td>0</td>\n",
       "      <td>0</td>\n",
       "      <td>0</td>\n",
       "      <td>...</td>\n",
       "      <td>0.0</td>\n",
       "      <td>0.0</td>\n",
       "      <td>0.0</td>\n",
       "      <td>0.0</td>\n",
       "      <td>0.0</td>\n",
       "      <td>0</td>\n",
       "      <td>0</td>\n",
       "      <td>0</td>\n",
       "      <td>1</td>\n",
       "      <td>1</td>\n",
       "    </tr>\n",
       "    <tr>\n",
       "      <th>9</th>\n",
       "      <td>0.129870</td>\n",
       "      <td>0</td>\n",
       "      <td>0</td>\n",
       "      <td>0</td>\n",
       "      <td>0</td>\n",
       "      <td>0</td>\n",
       "      <td>0</td>\n",
       "      <td>0</td>\n",
       "      <td>1</td>\n",
       "      <td>0</td>\n",
       "      <td>...</td>\n",
       "      <td>0.0</td>\n",
       "      <td>0.0</td>\n",
       "      <td>0.0</td>\n",
       "      <td>0.0</td>\n",
       "      <td>0.0</td>\n",
       "      <td>0</td>\n",
       "      <td>0</td>\n",
       "      <td>0</td>\n",
       "      <td>1</td>\n",
       "      <td>1</td>\n",
       "    </tr>\n",
       "  </tbody>\n",
       "</table>\n",
       "<p>10 rows × 49 columns</p>\n",
       "</div>"
      ],
      "text/plain": [
       "       Edad  Trabajo_admin.  Trabajo_blue-collar  Trabajo_entrepreneur  \\\n",
       "0  0.532468               1                    0                     0   \n",
       "1  0.493506               1                    0                     0   \n",
       "2  0.298701               0                    0                     0   \n",
       "3  0.480519               0                    0                     0   \n",
       "4  0.467532               1                    0                     0   \n",
       "5  0.311688               0                    0                     0   \n",
       "6  0.493506               0                    0                     0   \n",
       "7  0.545455               0                    0                     0   \n",
       "8  0.246753               0                    0                     0   \n",
       "9  0.129870               0                    0                     0   \n",
       "\n",
       "   Trabajo_housemaid  Trabajo_management  Trabajo_retired  \\\n",
       "0                  0                   0                0   \n",
       "1                  0                   0                0   \n",
       "2                  0                   0                0   \n",
       "3                  0                   0                0   \n",
       "4                  0                   0                0   \n",
       "5                  0                   1                0   \n",
       "6                  0                   1                0   \n",
       "7                  0                   0                1   \n",
       "8                  0                   0                0   \n",
       "9                  0                   0                0   \n",
       "\n",
       "   Trabajo_self-employed  Trabajo_services  Trabajo_student  ...  Dia  \\\n",
       "0                      0                 0                0  ...  0.0   \n",
       "1                      0                 0                0  ...  0.0   \n",
       "2                      0                 0                0  ...  0.0   \n",
       "3                      0                 1                0  ...  0.0   \n",
       "4                      0                 0                0  ...  0.0   \n",
       "5                      0                 0                0  ...  0.0   \n",
       "6                      0                 0                0  ...  0.0   \n",
       "7                      0                 0                0  ...  0.0   \n",
       "8                      0                 0                0  ...  0.0   \n",
       "9                      0                 1                0  ...  0.0   \n",
       "\n",
       "   Duracion  Campana  Dias_Prev  Previo  Resultado_Prev_failure  \\\n",
       "0       0.0      0.0        0.0     0.0                       0   \n",
       "1       0.0      0.0        0.0     0.0                       0   \n",
       "2       0.0      0.0        0.0     0.0                       0   \n",
       "3       0.0      0.0        0.0     0.0                       0   \n",
       "4       0.0      0.0        0.0     0.0                       0   \n",
       "5       0.0      0.0        1.0     0.0                       0   \n",
       "6       0.0      0.0        1.0     0.0                       0   \n",
       "7       0.0      0.0        0.0     1.0                       0   \n",
       "8       0.0      0.0        0.0     0.0                       0   \n",
       "9       0.0      0.0        0.0     0.0                       0   \n",
       "\n",
       "   Resultado_Prev_other  Resultado_Prev_success  Resultado_Prev_unknown  \\\n",
       "0                     0                       0                       1   \n",
       "1                     0                       0                       1   \n",
       "2                     0                       0                       1   \n",
       "3                     0                       0                       1   \n",
       "4                     0                       0                       1   \n",
       "5                     0                       0                       1   \n",
       "6                     0                       0                       1   \n",
       "7                     0                       0                       1   \n",
       "8                     0                       0                       1   \n",
       "9                     0                       0                       1   \n",
       "\n",
       "   Deposito  \n",
       "0         1  \n",
       "1         1  \n",
       "2         1  \n",
       "3         1  \n",
       "4         1  \n",
       "5         1  \n",
       "6         1  \n",
       "7         1  \n",
       "8         1  \n",
       "9         1  \n",
       "\n",
       "[10 rows x 49 columns]"
      ]
     },
     "execution_count": 94,
     "metadata": {},
     "output_type": "execute_result"
    }
   ],
   "source": [
    "# Copia de DataSet df \n",
    "# df_norm será el DataSet con los datos normalizados\n",
    "\n",
    "df_norm = df_class.copy()\n",
    "df_tonorm = df_norm.copy()\n",
    "df_tonorm = df_tonorm[['Edad', 'Saldo', 'Dia', 'Duracion', 'Campana', 'Dias_Prev', 'Previo']]\n",
    "\n",
    "# train the normalization\n",
    "scaler = MinMaxScaler()\n",
    "\n",
    "scaler = scaler.fit(df_norm)\n",
    "\n",
    "# normalize the dataset\n",
    "dfsk_norm = scaler.transform(df_norm)\n",
    "\n",
    "# Tamaño de los datos normalizados (arreglo numpy)\n",
    "print('Tamaños del DataSet Normalizazado: ')\n",
    "print(dfsk_norm.shape)\n",
    "print(' ')\n",
    "\n",
    "print('Primeros 5 datos de DataSet NO Normalizazado: ')\n",
    "print(df_new.head(5))\n",
    "print(' ')\n",
    "\n",
    "# Traslado de valores normalizados a las columnas correspondientes\n",
    "# Si se quisiera trasladar todos los datos numpy normalizados sería:\n",
    "#df_norm[:] = dfsk_norm[:]\n",
    "df_norm['Edad'] = dfsk_norm[:,0]\n",
    "df_norm['Saldo'] = dfsk_norm[:,1]\n",
    "df_norm['Dia'] = dfsk_norm[:,2]\n",
    "df_norm['Duracion'] = dfsk_norm[:,3]\n",
    "df_norm['Campana'] = dfsk_norm[:,4]\n",
    "df_norm['Dias_Prev'] = dfsk_norm[:,5]\n",
    "df_norm['Previo'] = dfsk_norm[:,6]\n",
    "\n",
    "print('Primeros 5 datos de DataSet Normalizado: ')\n",
    "df_norm.head(10)"
   ]
  },
  {
   "cell_type": "markdown",
   "metadata": {},
   "source": [
    "### ESTANDARIZACIÓN de DATA (SCIKIT-LEARN)"
   ]
  },
  {
   "cell_type": "code",
   "execution_count": 95,
   "metadata": {},
   "outputs": [],
   "source": [
    "# standardize the data attributes\n",
    "#Xsk_estand_data = preprocessing.scale(XTemp)\n",
    "Xsk_estand_data = preprocessing.scale(df_class[['Edad', 'Saldo', 'Dia', 'Duracion', 'Campana', 'Dias_Prev', 'Previo']].values)"
   ]
  },
  {
   "cell_type": "code",
   "execution_count": 96,
   "metadata": {},
   "outputs": [],
   "source": [
    "# Traslado de valores estandarizados a las columnas correspondientes\n",
    "# Si se quisiera trasladar todos los datos numpy normalizados sería:\n",
    "df_estand = df_class.copy()\n",
    "# Traslado de valores estandarizados a las columnas correspondientes\n",
    "# Si se quisiera trasladar todos los datos numpy normalizados sería:\n",
    "df_estand = df_class.copy()\n",
    "df_estand['Edad'] = Xsk_estand_data[:,0]\n",
    "df_estand['Saldo'] = Xsk_estand_data[:,1]\n",
    "df_estand['Dia'] = Xsk_estand_data[:,2]\n",
    "df_estand['Duracion'] = Xsk_estand_data[:,3]\n",
    "df_estand['Campana'] = Xsk_estand_data[:,4]\n",
    "df_estand['Dias_Prev'] = Xsk_estand_data[:,5]\n",
    "df_estand['Previo'] = Xsk_estand_data[:,6]"
   ]
  },
  {
   "cell_type": "code",
   "execution_count": 97,
   "metadata": {
    "scrolled": true
   },
   "outputs": [
    {
     "data": {
      "text/html": [
       "<div>\n",
       "<style scoped>\n",
       "    .dataframe tbody tr th:only-of-type {\n",
       "        vertical-align: middle;\n",
       "    }\n",
       "\n",
       "    .dataframe tbody tr th {\n",
       "        vertical-align: top;\n",
       "    }\n",
       "\n",
       "    .dataframe thead th {\n",
       "        text-align: right;\n",
       "    }\n",
       "</style>\n",
       "<table border=\"1\" class=\"dataframe\">\n",
       "  <thead>\n",
       "    <tr style=\"text-align: right;\">\n",
       "      <th></th>\n",
       "      <th>Edad</th>\n",
       "      <th>Trabajo_admin.</th>\n",
       "      <th>Trabajo_blue-collar</th>\n",
       "      <th>Trabajo_entrepreneur</th>\n",
       "      <th>Trabajo_housemaid</th>\n",
       "      <th>Trabajo_management</th>\n",
       "      <th>Trabajo_retired</th>\n",
       "      <th>Trabajo_self-employed</th>\n",
       "      <th>Trabajo_services</th>\n",
       "      <th>Trabajo_student</th>\n",
       "      <th>...</th>\n",
       "      <th>Dia</th>\n",
       "      <th>Duracion</th>\n",
       "      <th>Campana</th>\n",
       "      <th>Dias_Prev</th>\n",
       "      <th>Previo</th>\n",
       "      <th>Resultado_Prev_failure</th>\n",
       "      <th>Resultado_Prev_other</th>\n",
       "      <th>Resultado_Prev_success</th>\n",
       "      <th>Resultado_Prev_unknown</th>\n",
       "      <th>Deposito</th>\n",
       "    </tr>\n",
       "  </thead>\n",
       "  <tbody>\n",
       "    <tr>\n",
       "      <th>0</th>\n",
       "      <td>1.491505</td>\n",
       "      <td>1</td>\n",
       "      <td>0</td>\n",
       "      <td>0</td>\n",
       "      <td>0</td>\n",
       "      <td>0</td>\n",
       "      <td>0</td>\n",
       "      <td>0</td>\n",
       "      <td>0</td>\n",
       "      <td>0</td>\n",
       "      <td>...</td>\n",
       "      <td>-1.265746</td>\n",
       "      <td>1.930226</td>\n",
       "      <td>-0.554168</td>\n",
       "      <td>-0.481184</td>\n",
       "      <td>-0.36326</td>\n",
       "      <td>0</td>\n",
       "      <td>0</td>\n",
       "      <td>0</td>\n",
       "      <td>1</td>\n",
       "      <td>1</td>\n",
       "    </tr>\n",
       "    <tr>\n",
       "      <th>1</th>\n",
       "      <td>1.239676</td>\n",
       "      <td>1</td>\n",
       "      <td>0</td>\n",
       "      <td>0</td>\n",
       "      <td>0</td>\n",
       "      <td>0</td>\n",
       "      <td>0</td>\n",
       "      <td>0</td>\n",
       "      <td>0</td>\n",
       "      <td>0</td>\n",
       "      <td>...</td>\n",
       "      <td>-1.265746</td>\n",
       "      <td>3.154612</td>\n",
       "      <td>-0.554168</td>\n",
       "      <td>-0.481184</td>\n",
       "      <td>-0.36326</td>\n",
       "      <td>0</td>\n",
       "      <td>0</td>\n",
       "      <td>0</td>\n",
       "      <td>1</td>\n",
       "      <td>1</td>\n",
       "    </tr>\n",
       "    <tr>\n",
       "      <th>2</th>\n",
       "      <td>-0.019470</td>\n",
       "      <td>0</td>\n",
       "      <td>0</td>\n",
       "      <td>0</td>\n",
       "      <td>0</td>\n",
       "      <td>0</td>\n",
       "      <td>0</td>\n",
       "      <td>0</td>\n",
       "      <td>0</td>\n",
       "      <td>0</td>\n",
       "      <td>...</td>\n",
       "      <td>-1.265746</td>\n",
       "      <td>2.929901</td>\n",
       "      <td>-0.554168</td>\n",
       "      <td>-0.481184</td>\n",
       "      <td>-0.36326</td>\n",
       "      <td>0</td>\n",
       "      <td>0</td>\n",
       "      <td>0</td>\n",
       "      <td>1</td>\n",
       "      <td>1</td>\n",
       "    </tr>\n",
       "    <tr>\n",
       "      <th>3</th>\n",
       "      <td>1.155733</td>\n",
       "      <td>0</td>\n",
       "      <td>0</td>\n",
       "      <td>0</td>\n",
       "      <td>0</td>\n",
       "      <td>0</td>\n",
       "      <td>0</td>\n",
       "      <td>0</td>\n",
       "      <td>1</td>\n",
       "      <td>0</td>\n",
       "      <td>...</td>\n",
       "      <td>-1.265746</td>\n",
       "      <td>0.596366</td>\n",
       "      <td>-0.554168</td>\n",
       "      <td>-0.481184</td>\n",
       "      <td>-0.36326</td>\n",
       "      <td>0</td>\n",
       "      <td>0</td>\n",
       "      <td>0</td>\n",
       "      <td>1</td>\n",
       "      <td>1</td>\n",
       "    </tr>\n",
       "    <tr>\n",
       "      <th>4</th>\n",
       "      <td>1.071790</td>\n",
       "      <td>1</td>\n",
       "      <td>0</td>\n",
       "      <td>0</td>\n",
       "      <td>0</td>\n",
       "      <td>0</td>\n",
       "      <td>0</td>\n",
       "      <td>0</td>\n",
       "      <td>0</td>\n",
       "      <td>0</td>\n",
       "      <td>...</td>\n",
       "      <td>-1.265746</td>\n",
       "      <td>0.867171</td>\n",
       "      <td>-0.186785</td>\n",
       "      <td>-0.481184</td>\n",
       "      <td>-0.36326</td>\n",
       "      <td>0</td>\n",
       "      <td>0</td>\n",
       "      <td>0</td>\n",
       "      <td>1</td>\n",
       "      <td>1</td>\n",
       "    </tr>\n",
       "    <tr>\n",
       "      <th>5</th>\n",
       "      <td>0.064473</td>\n",
       "      <td>0</td>\n",
       "      <td>0</td>\n",
       "      <td>0</td>\n",
       "      <td>0</td>\n",
       "      <td>1</td>\n",
       "      <td>0</td>\n",
       "      <td>0</td>\n",
       "      <td>0</td>\n",
       "      <td>0</td>\n",
       "      <td>...</td>\n",
       "      <td>-1.265746</td>\n",
       "      <td>0.547390</td>\n",
       "      <td>-0.186785</td>\n",
       "      <td>-0.481184</td>\n",
       "      <td>-0.36326</td>\n",
       "      <td>0</td>\n",
       "      <td>0</td>\n",
       "      <td>0</td>\n",
       "      <td>1</td>\n",
       "      <td>1</td>\n",
       "    </tr>\n",
       "    <tr>\n",
       "      <th>6</th>\n",
       "      <td>1.239676</td>\n",
       "      <td>0</td>\n",
       "      <td>0</td>\n",
       "      <td>0</td>\n",
       "      <td>0</td>\n",
       "      <td>1</td>\n",
       "      <td>0</td>\n",
       "      <td>0</td>\n",
       "      <td>0</td>\n",
       "      <td>0</td>\n",
       "      <td>...</td>\n",
       "      <td>-1.146986</td>\n",
       "      <td>2.388290</td>\n",
       "      <td>-0.554168</td>\n",
       "      <td>-0.481184</td>\n",
       "      <td>-0.36326</td>\n",
       "      <td>0</td>\n",
       "      <td>0</td>\n",
       "      <td>0</td>\n",
       "      <td>1</td>\n",
       "      <td>1</td>\n",
       "    </tr>\n",
       "    <tr>\n",
       "      <th>7</th>\n",
       "      <td>1.575448</td>\n",
       "      <td>0</td>\n",
       "      <td>0</td>\n",
       "      <td>0</td>\n",
       "      <td>0</td>\n",
       "      <td>0</td>\n",
       "      <td>1</td>\n",
       "      <td>0</td>\n",
       "      <td>0</td>\n",
       "      <td>0</td>\n",
       "      <td>...</td>\n",
       "      <td>-1.146986</td>\n",
       "      <td>1.895655</td>\n",
       "      <td>-0.554168</td>\n",
       "      <td>-0.481184</td>\n",
       "      <td>-0.36326</td>\n",
       "      <td>0</td>\n",
       "      <td>0</td>\n",
       "      <td>0</td>\n",
       "      <td>1</td>\n",
       "      <td>1</td>\n",
       "    </tr>\n",
       "    <tr>\n",
       "      <th>8</th>\n",
       "      <td>-0.355243</td>\n",
       "      <td>0</td>\n",
       "      <td>0</td>\n",
       "      <td>0</td>\n",
       "      <td>0</td>\n",
       "      <td>0</td>\n",
       "      <td>0</td>\n",
       "      <td>0</td>\n",
       "      <td>0</td>\n",
       "      <td>0</td>\n",
       "      <td>...</td>\n",
       "      <td>-1.146986</td>\n",
       "      <td>0.679912</td>\n",
       "      <td>-0.554168</td>\n",
       "      <td>-0.481184</td>\n",
       "      <td>-0.36326</td>\n",
       "      <td>0</td>\n",
       "      <td>0</td>\n",
       "      <td>0</td>\n",
       "      <td>1</td>\n",
       "      <td>1</td>\n",
       "    </tr>\n",
       "    <tr>\n",
       "      <th>9</th>\n",
       "      <td>-1.110730</td>\n",
       "      <td>0</td>\n",
       "      <td>0</td>\n",
       "      <td>0</td>\n",
       "      <td>0</td>\n",
       "      <td>0</td>\n",
       "      <td>0</td>\n",
       "      <td>0</td>\n",
       "      <td>1</td>\n",
       "      <td>0</td>\n",
       "      <td>...</td>\n",
       "      <td>-1.146986</td>\n",
       "      <td>2.664857</td>\n",
       "      <td>0.180598</td>\n",
       "      <td>-0.481184</td>\n",
       "      <td>-0.36326</td>\n",
       "      <td>0</td>\n",
       "      <td>0</td>\n",
       "      <td>0</td>\n",
       "      <td>1</td>\n",
       "      <td>1</td>\n",
       "    </tr>\n",
       "  </tbody>\n",
       "</table>\n",
       "<p>10 rows × 49 columns</p>\n",
       "</div>"
      ],
      "text/plain": [
       "       Edad  Trabajo_admin.  Trabajo_blue-collar  Trabajo_entrepreneur  \\\n",
       "0  1.491505               1                    0                     0   \n",
       "1  1.239676               1                    0                     0   \n",
       "2 -0.019470               0                    0                     0   \n",
       "3  1.155733               0                    0                     0   \n",
       "4  1.071790               1                    0                     0   \n",
       "5  0.064473               0                    0                     0   \n",
       "6  1.239676               0                    0                     0   \n",
       "7  1.575448               0                    0                     0   \n",
       "8 -0.355243               0                    0                     0   \n",
       "9 -1.110730               0                    0                     0   \n",
       "\n",
       "   Trabajo_housemaid  Trabajo_management  Trabajo_retired  \\\n",
       "0                  0                   0                0   \n",
       "1                  0                   0                0   \n",
       "2                  0                   0                0   \n",
       "3                  0                   0                0   \n",
       "4                  0                   0                0   \n",
       "5                  0                   1                0   \n",
       "6                  0                   1                0   \n",
       "7                  0                   0                1   \n",
       "8                  0                   0                0   \n",
       "9                  0                   0                0   \n",
       "\n",
       "   Trabajo_self-employed  Trabajo_services  Trabajo_student  ...       Dia  \\\n",
       "0                      0                 0                0  ... -1.265746   \n",
       "1                      0                 0                0  ... -1.265746   \n",
       "2                      0                 0                0  ... -1.265746   \n",
       "3                      0                 1                0  ... -1.265746   \n",
       "4                      0                 0                0  ... -1.265746   \n",
       "5                      0                 0                0  ... -1.265746   \n",
       "6                      0                 0                0  ... -1.146986   \n",
       "7                      0                 0                0  ... -1.146986   \n",
       "8                      0                 0                0  ... -1.146986   \n",
       "9                      0                 1                0  ... -1.146986   \n",
       "\n",
       "   Duracion   Campana  Dias_Prev   Previo  Resultado_Prev_failure  \\\n",
       "0  1.930226 -0.554168  -0.481184 -0.36326                       0   \n",
       "1  3.154612 -0.554168  -0.481184 -0.36326                       0   \n",
       "2  2.929901 -0.554168  -0.481184 -0.36326                       0   \n",
       "3  0.596366 -0.554168  -0.481184 -0.36326                       0   \n",
       "4  0.867171 -0.186785  -0.481184 -0.36326                       0   \n",
       "5  0.547390 -0.186785  -0.481184 -0.36326                       0   \n",
       "6  2.388290 -0.554168  -0.481184 -0.36326                       0   \n",
       "7  1.895655 -0.554168  -0.481184 -0.36326                       0   \n",
       "8  0.679912 -0.554168  -0.481184 -0.36326                       0   \n",
       "9  2.664857  0.180598  -0.481184 -0.36326                       0   \n",
       "\n",
       "   Resultado_Prev_other  Resultado_Prev_success  Resultado_Prev_unknown  \\\n",
       "0                     0                       0                       1   \n",
       "1                     0                       0                       1   \n",
       "2                     0                       0                       1   \n",
       "3                     0                       0                       1   \n",
       "4                     0                       0                       1   \n",
       "5                     0                       0                       1   \n",
       "6                     0                       0                       1   \n",
       "7                     0                       0                       1   \n",
       "8                     0                       0                       1   \n",
       "9                     0                       0                       1   \n",
       "\n",
       "   Deposito  \n",
       "0         1  \n",
       "1         1  \n",
       "2         1  \n",
       "3         1  \n",
       "4         1  \n",
       "5         1  \n",
       "6         1  \n",
       "7         1  \n",
       "8         1  \n",
       "9         1  \n",
       "\n",
       "[10 rows x 49 columns]"
      ]
     },
     "execution_count": 97,
     "metadata": {},
     "output_type": "execute_result"
    }
   ],
   "source": [
    "df_estand.head(10)"
   ]
  },
  {
   "cell_type": "markdown",
   "metadata": {},
   "source": [
    "### Modelos de CLASIFICACIÓN"
   ]
  },
  {
   "cell_type": "markdown",
   "metadata": {},
   "source": [
    "**Escogencia de features y label del modelo a emplear:**"
   ]
  },
  {
   "cell_type": "code",
   "execution_count": 98,
   "metadata": {},
   "outputs": [],
   "source": [
    "# Features y Label para Datos ESTANDARIZADOS\n",
    "features = df_estand[df_estand.columns[df_estand.columns !='Deposito']]\n",
    "labels = df_estand['Deposito']\n",
    "\n",
    "# Features y Label para Datos NORMALIZADOS\n",
    "features1 = df_norm[df_norm.columns[df_norm.columns !='Deposito']]\n",
    "labels1 = df_norm['Deposito']"
   ]
  },
  {
   "cell_type": "markdown",
   "metadata": {},
   "source": [
    "**Partición del DataSet en Datos de Training y Testing**:\n",
    "\n",
    "Se empleará 70% de datos para el training, 30% de datos para testing"
   ]
  },
  {
   "cell_type": "code",
   "execution_count": 99,
   "metadata": {
    "scrolled": true
   },
   "outputs": [],
   "source": [
    "X_train,X_test, y_train, y_test = train_test_split(features, labels, test_size=0.30, random_state = 9)\n",
    "X_train_norm,X_test_norm, y_train_norm, y_test_norm = train_test_split(features1, labels1, test_size=0.30, random_state = 9)"
   ]
  },
  {
   "cell_type": "markdown",
   "metadata": {},
   "source": [
    "### 1) Logistic Regression"
   ]
  },
  {
   "cell_type": "markdown",
   "metadata": {},
   "source": [
    "**Implementación del Clasificador**\n",
    "\n",
    "Importación del Modelo del Clasificador de sklearn"
   ]
  },
  {
   "cell_type": "code",
   "execution_count": 100,
   "metadata": {},
   "outputs": [],
   "source": [
    "from sklearn.linear_model import LogisticRegression"
   ]
  },
  {
   "cell_type": "markdown",
   "metadata": {},
   "source": [
    "**Definición del modelo del clasificador**"
   ]
  },
  {
   "cell_type": "code",
   "execution_count": 101,
   "metadata": {},
   "outputs": [],
   "source": [
    "classifier = LogisticRegression(random_state = 0)\n",
    "classifier1 = LogisticRegression(random_state = 0)\n",
    "#classifier = LogisticRegression(random_state = 0, max_iter=1000, solver='lbfgs', multi_class='multinomial')"
   ]
  },
  {
   "cell_type": "markdown",
   "metadata": {},
   "source": [
    "**Entrenamiento del Clasificador**"
   ]
  },
  {
   "cell_type": "code",
   "execution_count": 102,
   "metadata": {
    "scrolled": true
   },
   "outputs": [
    {
     "name": "stderr",
     "output_type": "stream",
     "text": [
      "C:\\Users\\rasala\\AppData\\Local\\Continuum\\miniconda3\\envs\\py3\\lib\\site-packages\\sklearn\\linear_model\\logistic.py:432: FutureWarning: Default solver will be changed to 'lbfgs' in 0.22. Specify a solver to silence this warning.\n",
      "  FutureWarning)\n",
      "C:\\Users\\rasala\\AppData\\Local\\Continuum\\miniconda3\\envs\\py3\\lib\\site-packages\\sklearn\\linear_model\\logistic.py:432: FutureWarning: Default solver will be changed to 'lbfgs' in 0.22. Specify a solver to silence this warning.\n",
      "  FutureWarning)\n"
     ]
    },
    {
     "data": {
      "text/plain": [
       "LogisticRegression(C=1.0, class_weight=None, dual=False, fit_intercept=True,\n",
       "                   intercept_scaling=1, l1_ratio=None, max_iter=100,\n",
       "                   multi_class='warn', n_jobs=None, penalty='l2',\n",
       "                   random_state=0, solver='warn', tol=0.0001, verbose=0,\n",
       "                   warm_start=False)"
      ]
     },
     "execution_count": 102,
     "metadata": {},
     "output_type": "execute_result"
    }
   ],
   "source": [
    "classifier.fit(X_train, y_train)\n",
    "classifier1.fit(X_train_norm, y_train_norm)"
   ]
  },
  {
   "cell_type": "markdown",
   "metadata": {},
   "source": [
    "**Predicción de los valores de Test**"
   ]
  },
  {
   "cell_type": "code",
   "execution_count": 103,
   "metadata": {},
   "outputs": [],
   "source": [
    "y_pred = classifier.predict(X_test)\n",
    "y_pred_norm = classifier1.predict(X_test_norm)"
   ]
  },
  {
   "cell_type": "markdown",
   "metadata": {},
   "source": [
    "**Resultados obtenidos por el modelo con valores Test:**"
   ]
  },
  {
   "cell_type": "code",
   "execution_count": 104,
   "metadata": {
    "scrolled": true
   },
   "outputs": [
    {
     "name": "stdout",
     "output_type": "stream",
     "text": [
      "Score Test DataSet ESTANDARIZADO: \n",
      "82.38280083607047\n",
      " \n",
      "Score Test DataSet NORMALIZADO: \n",
      "70.25977903851897\n"
     ]
    }
   ],
   "source": [
    "score_test =classifier.score(X_test, y_test)\n",
    "score_test_norm =classifier1.score(X_test_norm, y_test_norm)\n",
    "\n",
    "print('Score Test DataSet ESTANDARIZADO: ')\n",
    "print(score_test * 100)\n",
    "print(' ')\n",
    "print('Score Test DataSet NORMALIZADO: ')\n",
    "print(score_test_norm * 100)"
   ]
  },
  {
   "cell_type": "markdown",
   "metadata": {},
   "source": [
    "### 2) Decision Tree"
   ]
  },
  {
   "cell_type": "markdown",
   "metadata": {},
   "source": [
    "**Partición del DataSet en Datos de Training y Testing**:\n",
    "\n",
    "Se empleará 80% de datos para el training, 20% de datos para testing"
   ]
  },
  {
   "cell_type": "code",
   "execution_count": 105,
   "metadata": {
    "scrolled": true
   },
   "outputs": [],
   "source": [
    "# Data Training con Datos ESTANDARIZADOS\n",
    "X_train,X_test, y_train, y_test = train_test_split(features, labels, test_size=0.20, random_state = 13)\n",
    "\n",
    "# Data Training con Datos NORMALIZADOS\n",
    "X_train_norm,X_test_norm, y_train_norm, y_test_norm = train_test_split(features1, labels1, test_size=0.20, random_state = 13)"
   ]
  },
  {
   "cell_type": "markdown",
   "metadata": {},
   "source": [
    "**Implementación del Clasificador**\n",
    "\n",
    "Importación del Modelo del Clasificador de sklearn"
   ]
  },
  {
   "cell_type": "code",
   "execution_count": 106,
   "metadata": {},
   "outputs": [],
   "source": [
    "from sklearn.tree import DecisionTreeClassifier"
   ]
  },
  {
   "cell_type": "markdown",
   "metadata": {},
   "source": [
    "**Definición del modelo del clasificador**\n",
    "\n",
    "Se le da profundidad = 9"
   ]
  },
  {
   "cell_type": "code",
   "execution_count": 107,
   "metadata": {},
   "outputs": [],
   "source": [
    "# Modelo del Clasificador para Datos ESTANDARIZADOS\n",
    "DecisionTreeModel = DecisionTreeClassifier(max_depth = 9)\n",
    "\n",
    "# Modelo del Clasificador para Datos NORMALIZADOS\n",
    "DecisionTreeModel1 = DecisionTreeClassifier(max_depth = 9)"
   ]
  },
  {
   "cell_type": "markdown",
   "metadata": {},
   "source": [
    "**Entrenamiento del Clasificador**"
   ]
  },
  {
   "cell_type": "code",
   "execution_count": 108,
   "metadata": {},
   "outputs": [
    {
     "data": {
      "text/plain": [
       "DecisionTreeClassifier(class_weight=None, criterion='gini', max_depth=9,\n",
       "                       max_features=None, max_leaf_nodes=None,\n",
       "                       min_impurity_decrease=0.0, min_impurity_split=None,\n",
       "                       min_samples_leaf=1, min_samples_split=2,\n",
       "                       min_weight_fraction_leaf=0.0, presort=False,\n",
       "                       random_state=None, splitter='best')"
      ]
     },
     "execution_count": 108,
     "metadata": {},
     "output_type": "execute_result"
    }
   ],
   "source": [
    "# Entrenamiento del Clasificador con Datos ESTANDARIZADOS\n",
    "DecisionTreeModel.fit(X_train,y_train)\n",
    "\n",
    "# Entrenamiento del Clasificador con Datos NORMALIZADOS\n",
    "DecisionTreeModel1.fit(X_train_norm,y_train_norm)"
   ]
  },
  {
   "cell_type": "markdown",
   "metadata": {},
   "source": [
    "**Predicción de los valores de Test**"
   ]
  },
  {
   "cell_type": "code",
   "execution_count": 109,
   "metadata": {},
   "outputs": [],
   "source": [
    "# Predicción del Clasificador con Datos ESTANDARIZADOS\n",
    "y_predict = DecisionTreeModel.predict(X_test)\n",
    "\n",
    "# Predicción del Clasificador con Datos NORMALIZADOS\n",
    "y_predict_norm = DecisionTreeModel1.predict(X_test_norm)"
   ]
  },
  {
   "cell_type": "markdown",
   "metadata": {},
   "source": [
    "**Resultados obtenidos por el modelo con valores Test:**"
   ]
  },
  {
   "cell_type": "markdown",
   "metadata": {},
   "source": [
    "Se importa la metrica"
   ]
  },
  {
   "cell_type": "code",
   "execution_count": 110,
   "metadata": {},
   "outputs": [],
   "source": [
    "from sklearn.metrics import accuracy_score"
   ]
  },
  {
   "cell_type": "markdown",
   "metadata": {},
   "source": [
    "**Precisión de la clasificación del testing**"
   ]
  },
  {
   "cell_type": "code",
   "execution_count": 111,
   "metadata": {},
   "outputs": [
    {
     "name": "stdout",
     "output_type": "stream",
     "text": [
      "Precisión del Clasificador con Datos ESTANDARIZADOS: \n",
      "0.80653828929691\n",
      " \n",
      "Precisión del Clasificador con Datos NORMALIZADOS: \n",
      "0.6954769368562472\n"
     ]
    }
   ],
   "source": [
    "# Precisión del Clasificador con Datos ESTANDARIZADOS\n",
    "dt1 = accuracy_score(y_test, y_predict)\n",
    "print('Precisión del Clasificador con Datos ESTANDARIZADOS: ')\n",
    "print(dt1)\n",
    "print(' ')\n",
    "# Precisión del Clasificador con Datos NORMALIZADOS\n",
    "dt2 = accuracy_score(y_test_norm, y_predict_norm)\n",
    "print('Precisión del Clasificador con Datos NORMALIZADOS: ')\n",
    "print(dt2)"
   ]
  },
  {
   "cell_type": "markdown",
   "metadata": {},
   "source": [
    "**Visualización del Árbol (Datos ESTANDARIZADOS):**"
   ]
  },
  {
   "cell_type": "code",
   "execution_count": 112,
   "metadata": {},
   "outputs": [
    {
     "data": {
      "text/plain": [
       "0"
      ]
     },
     "execution_count": 112,
     "metadata": {},
     "output_type": "execute_result"
    }
   ],
   "source": [
    "from sklearn.tree import export_graphviz\n",
    "export_graphviz(DecisionTreeModel, out_file='simple_tree.dot', feature_names=features.columns,impurity=False,class_names=[deposito[0],deposito[1]],filled=True)\n",
    "from subprocess import call\n",
    "call(['dot', '-T', 'png', 'simple_tree.dot', '-o', 'simple_tree.png'],shell=True)"
   ]
  },
  {
   "cell_type": "markdown",
   "metadata": {},
   "source": [
    "Desplegamos la imagen del árbol con las siguiente instrucción:\n",
    "    <img src='simple_tree.png' width = 1000px> "
   ]
  },
  {
   "cell_type": "markdown",
   "metadata": {},
   "source": [
    "### 3) Random Forest"
   ]
  },
  {
   "cell_type": "markdown",
   "metadata": {},
   "source": [
    "**Partición del DataSet en Datos de Training y Testing**:\n",
    "\n",
    "Se empleará 70% de datos para el training, 30% de datos para testing"
   ]
  },
  {
   "cell_type": "code",
   "execution_count": 113,
   "metadata": {
    "scrolled": true
   },
   "outputs": [],
   "source": [
    "#Data Training con Datos ESTANDARIZADOS\n",
    "X_train,X_test, y_train, y_test = train_test_split(features, labels, test_size=0.30, random_state = 2)\n",
    "\n",
    "#Data Training con Datos NORMALIZADOS\n",
    "X_train_norm,X_test_norm, y_train_norm, y_test_norm = train_test_split(features1, labels1, test_size=0.30, random_state = 2)"
   ]
  },
  {
   "cell_type": "markdown",
   "metadata": {},
   "source": [
    "**Definición del modelo del clasificador**"
   ]
  },
  {
   "cell_type": "code",
   "execution_count": 114,
   "metadata": {},
   "outputs": [],
   "source": [
    "# Modelo del Clasificador para Datos ESTANDARIZADOS\n",
    "RandomForestModel = RandomForestClassifier(min_samples_leaf=3,min_samples_split=15,n_estimators=500, max_depth= 7, random_state=10)\n",
    "\n",
    "# Modelo del Clasificador para Datos NORMALIZADOS\n",
    "RandomForestModel1 = RandomForestClassifier(min_samples_leaf=3,min_samples_split=15,n_estimators=500, max_depth= 7, random_state=10)"
   ]
  },
  {
   "cell_type": "markdown",
   "metadata": {},
   "source": [
    "**Entrenamiento del Clasificador**"
   ]
  },
  {
   "cell_type": "code",
   "execution_count": 115,
   "metadata": {},
   "outputs": [
    {
     "data": {
      "text/plain": [
       "RandomForestClassifier(bootstrap=True, class_weight=None, criterion='gini',\n",
       "                       max_depth=7, max_features='auto', max_leaf_nodes=None,\n",
       "                       min_impurity_decrease=0.0, min_impurity_split=None,\n",
       "                       min_samples_leaf=3, min_samples_split=15,\n",
       "                       min_weight_fraction_leaf=0.0, n_estimators=500,\n",
       "                       n_jobs=None, oob_score=False, random_state=10, verbose=0,\n",
       "                       warm_start=False)"
      ]
     },
     "execution_count": 115,
     "metadata": {},
     "output_type": "execute_result"
    }
   ],
   "source": [
    "# Entrenamiento del Clasificador con Datos ESTANDARIZADOS\n",
    "RandomForestModel.fit(X_train, y_train)\n",
    "\n",
    "# Entrenamiento del Clasificador con Datos NORMALIZADOS\n",
    "RandomForestModel1.fit(X_train_norm, y_train_norm)"
   ]
  },
  {
   "cell_type": "markdown",
   "metadata": {},
   "source": [
    "**Predicción de los valores de Test**"
   ]
  },
  {
   "cell_type": "code",
   "execution_count": 116,
   "metadata": {},
   "outputs": [],
   "source": [
    "# Predicción del Clasificador con Datos ESTANDARIZADOS\n",
    "y_predict = RandomForestModel.predict(X_test)\n",
    "\n",
    "# Predicción del Clasificador con Datos NORMALIZADOS\n",
    "y_predict_norm = RandomForestModel1.predict(X_test_norm)"
   ]
  },
  {
   "cell_type": "markdown",
   "metadata": {},
   "source": [
    "**Precisión de la clasificación del testing**"
   ]
  },
  {
   "cell_type": "code",
   "execution_count": 117,
   "metadata": {},
   "outputs": [
    {
     "name": "stdout",
     "output_type": "stream",
     "text": [
      "Precisión del Clasificador con Datos ESTANDARIZADOS: \n",
      "0.8315915198566737\n",
      " \n",
      "Precisión del Clasificador con Datos NORMALIZADOS: \n",
      "0.7252911316810988\n"
     ]
    }
   ],
   "source": [
    "# Precisión del Clasificador con Datos ESTANDARIZADOS\n",
    "rf = accuracy_score(y_test,y_predict)\n",
    "print('Precisión del Clasificador con Datos ESTANDARIZADOS: ')\n",
    "print(rf)\n",
    "print(' ')\n",
    "# Precisión del Clasificador con Datos NORMALIZADOS\n",
    "rf1 = accuracy_score(y_test_norm,y_predict_norm)\n",
    "print('Precisión del Clasificador con Datos NORMALIZADOS: ')\n",
    "print(rf1)"
   ]
  },
  {
   "cell_type": "markdown",
   "metadata": {},
   "source": [
    "**Visualización del Árbol (Datos ESTANDARIZADOS):**"
   ]
  },
  {
   "cell_type": "code",
   "execution_count": 118,
   "metadata": {},
   "outputs": [
    {
     "data": {
      "text/plain": [
       "0"
      ]
     },
     "execution_count": 118,
     "metadata": {},
     "output_type": "execute_result"
    }
   ],
   "source": [
    "from sklearn.tree import export_graphviz\n",
    "estimator = RandomForestModel.estimators_[0]\n",
    "export_graphviz(estimator, out_file='complete_tree.dot', feature_names=features.columns,impurity=False,class_names=[deposito[0],deposito[1]],filled=True)\n",
    "from subprocess import call\n",
    "call(['dot', '-T', 'png', 'complete_tree.dot', '-o', 'complete_tree.png'],shell=True)"
   ]
  },
  {
   "cell_type": "markdown",
   "metadata": {},
   "source": [
    "<img src='complete_tree.png' width = 1000px>"
   ]
  },
  {
   "cell_type": "code",
   "execution_count": 119,
   "metadata": {},
   "outputs": [],
   "source": [
    "importances = pd.DataFrame({'feature' : X_train.columns, 'importance':RandomForestModel.feature_importances_})"
   ]
  },
  {
   "cell_type": "code",
   "execution_count": 120,
   "metadata": {},
   "outputs": [],
   "source": [
    "importances = pd.DataFrame({'feature' : X_train.columns, 'importance':RandomForestModel.feature_importances_})"
   ]
  },
  {
   "cell_type": "code",
   "execution_count": 121,
   "metadata": {},
   "outputs": [],
   "source": [
    "importances = importances.sort_values('importance', ascending = False).set_index('feature')"
   ]
  },
  {
   "cell_type": "code",
   "execution_count": 122,
   "metadata": {},
   "outputs": [
    {
     "data": {
      "text/html": [
       "<div>\n",
       "<style scoped>\n",
       "    .dataframe tbody tr th:only-of-type {\n",
       "        vertical-align: middle;\n",
       "    }\n",
       "\n",
       "    .dataframe tbody tr th {\n",
       "        vertical-align: top;\n",
       "    }\n",
       "\n",
       "    .dataframe thead th {\n",
       "        text-align: right;\n",
       "    }\n",
       "</style>\n",
       "<table border=\"1\" class=\"dataframe\">\n",
       "  <thead>\n",
       "    <tr style=\"text-align: right;\">\n",
       "      <th></th>\n",
       "      <th>importance</th>\n",
       "    </tr>\n",
       "    <tr>\n",
       "      <th>feature</th>\n",
       "      <th></th>\n",
       "    </tr>\n",
       "  </thead>\n",
       "  <tbody>\n",
       "    <tr>\n",
       "      <th>Duracion</th>\n",
       "      <td>0.419237</td>\n",
       "    </tr>\n",
       "    <tr>\n",
       "      <th>Resultado_Prev_success</th>\n",
       "      <td>0.081974</td>\n",
       "    </tr>\n",
       "    <tr>\n",
       "      <th>Contacto_unknown</th>\n",
       "      <td>0.055294</td>\n",
       "    </tr>\n",
       "    <tr>\n",
       "      <th>Dias_Prev</th>\n",
       "      <td>0.045245</td>\n",
       "    </tr>\n",
       "    <tr>\n",
       "      <th>Edad</th>\n",
       "      <td>0.044876</td>\n",
       "    </tr>\n",
       "    <tr>\n",
       "      <th>Previo</th>\n",
       "      <td>0.037238</td>\n",
       "    </tr>\n",
       "    <tr>\n",
       "      <th>Prestamo_Viv</th>\n",
       "      <td>0.036017</td>\n",
       "    </tr>\n",
       "    <tr>\n",
       "      <th>Contacto_cellular</th>\n",
       "      <td>0.033878</td>\n",
       "    </tr>\n",
       "    <tr>\n",
       "      <th>Resultado_Prev_unknown</th>\n",
       "      <td>0.029181</td>\n",
       "    </tr>\n",
       "  </tbody>\n",
       "</table>\n",
       "</div>"
      ],
      "text/plain": [
       "                        importance\n",
       "feature                           \n",
       "Duracion                  0.419237\n",
       "Resultado_Prev_success    0.081974\n",
       "Contacto_unknown          0.055294\n",
       "Dias_Prev                 0.045245\n",
       "Edad                      0.044876\n",
       "Previo                    0.037238\n",
       "Prestamo_Viv              0.036017\n",
       "Contacto_cellular         0.033878\n",
       "Resultado_Prev_unknown    0.029181"
      ]
     },
     "execution_count": 122,
     "metadata": {},
     "output_type": "execute_result"
    }
   ],
   "source": [
    "importances.head(9)"
   ]
  },
  {
   "cell_type": "code",
   "execution_count": 123,
   "metadata": {},
   "outputs": [],
   "source": [
    "from matplotlib import pyplot as plt\n",
    "plt.style.use('ggplot')"
   ]
  },
  {
   "cell_type": "code",
   "execution_count": 124,
   "metadata": {},
   "outputs": [
    {
     "data": {
      "text/plain": [
       "<matplotlib.axes._subplots.AxesSubplot at 0x21a038299b0>"
      ]
     },
     "execution_count": 124,
     "metadata": {},
     "output_type": "execute_result"
    },
    {
     "data": {
      "image/png": "[encoded data removed]",
      "text/plain": [
       "<Figure size 432x288 with 1 Axes>"
      ]
     },
     "metadata": {},
     "output_type": "display_data"
    }
   ],
   "source": [
    "importances.plot.bar()"
   ]
  },
  {
   "cell_type": "markdown",
   "metadata": {},
   "source": [
    "**Resumen de Precisiones Obtenidas:**"
   ]
  },
  {
   "cell_type": "markdown",
   "metadata": {},
   "source": [
    "Clasificador | Prec. Datos ESTAND (%) | Prec. Datos NORM (%)\n",
    "------------ | ------------- | -------------\n",
    "Logistic Regression | 82,38 % | 70,26 % \n",
    "Decision Tree | 80,70 % | 69,64 % \n",
    "Random Forest | 83,16 % | 72,53 % "
   ]
  },
  {
   "cell_type": "markdown",
   "metadata": {},
   "source": [
    "Como se puede apreciar de los resultados obtenidos en las 2 evaluaciones realizadas, los 3 modelos de Clasificación presentan una mejor precisión con Datos ESTANDARIZADOS.\n",
    "\n",
    "El modelo con mejor Precisión obtenida fue **Random Forest**, con un 83,16 %."
   ]
  },
  {
   "cell_type": "code",
   "execution_count": null,
   "metadata": {},
   "outputs": [],
   "source": []
  }
 ],
 "metadata": {
  "kernelspec": {
   "display_name": "Python 3",
   "language": "python",
   "name": "python3"
  },
  "language_info": {
   "codemirror_mode": {
    "name": "ipython",
    "version": 3
   },
   "file_extension": ".py",
   "mimetype": "text/x-python",
   "name": "python",
   "nbconvert_exporter": "python",
   "pygments_lexer": "ipython3",
   "version": "3.7.3"
  }
 },
 "nbformat": 4,
 "nbformat_minor": 2
}
